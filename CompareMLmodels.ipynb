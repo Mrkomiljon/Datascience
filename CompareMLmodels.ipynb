{
  "cells": [
    {
      "cell_type": "markdown",
      "metadata": {
        "id": "view-in-github",
        "colab_type": "text"
      },
      "source": [
        "<a href=\"https://colab.research.google.com/github/Mrkomiljon/Datascience/blob/main/CompareMLmodels.ipynb\" target=\"_parent\"><img src=\"https://colab.research.google.com/assets/colab-badge.svg\" alt=\"Open In Colab\"/></a>"
      ]
    },
    {
      "cell_type": "markdown",
      "id": "199bad39",
      "metadata": {
        "id": "199bad39"
      },
      "source": [
        "## Import libs and dependencies"
      ]
    },
    {
      "cell_type": "code",
      "execution_count": null,
      "id": "72bbc52b",
      "metadata": {
        "id": "72bbc52b"
      },
      "outputs": [],
      "source": [
        "import numpy as np\n",
        "import seaborn as sns\n",
        "import pandas as pd\n",
        "%matplotlib inline\n",
        "import matplotlib.pyplot as plt\n",
        "import plotly.express as px"
      ]
    },
    {
      "cell_type": "markdown",
      "id": "6edf0879",
      "metadata": {
        "id": "6edf0879"
      },
      "source": [
        "## Load the data"
      ]
    },
    {
      "cell_type": "code",
      "execution_count": null,
      "id": "739130fe",
      "metadata": {
        "scrolled": true,
        "id": "739130fe",
        "outputId": "ccbc7f45-5f27-4c40-a6a8-fe92bfba9deb"
      },
      "outputs": [
        {
          "name": "stdout",
          "output_type": "stream",
          "text": [
            "<class 'pandas.core.frame.DataFrame'>\n",
            "RangeIndex: 7043 entries, 0 to 7042\n",
            "Data columns (total 31 columns):\n",
            " #   Column                                 Non-Null Count  Dtype  \n",
            "---  ------                                 --------------  -----  \n",
            " 0   gender                                 7043 non-null   int64  \n",
            " 1   SeniorCitizen                          7043 non-null   int64  \n",
            " 2   Partner                                7043 non-null   int64  \n",
            " 3   Dependents                             7043 non-null   int64  \n",
            " 4   tenure                                 7043 non-null   int64  \n",
            " 5   PhoneService                           7043 non-null   int64  \n",
            " 6   PaperlessBilling                       7043 non-null   int64  \n",
            " 7   MonthlyCharges                         7043 non-null   float64\n",
            " 8   TotalCharges                           7043 non-null   float64\n",
            " 9   Churn                                  7043 non-null   int64  \n",
            " 10  MultipleLines_No_phone_service         7043 non-null   int64  \n",
            " 11  MultipleLines_Yes                      7043 non-null   int64  \n",
            " 12  InternetService_Fiber_optic            7043 non-null   int64  \n",
            " 13  InternetService_No                     7043 non-null   int64  \n",
            " 14  OnlineSecurity_No_internet_service     7043 non-null   int64  \n",
            " 15  OnlineSecurity_Yes                     7043 non-null   int64  \n",
            " 16  OnlineBackup_No_internet_service       7043 non-null   int64  \n",
            " 17  OnlineBackup_Yes                       7043 non-null   int64  \n",
            " 18  DeviceProtection_No_internet_service   7043 non-null   int64  \n",
            " 19  DeviceProtection_Yes                   7043 non-null   int64  \n",
            " 20  TechSupport_No_internet_service        7043 non-null   int64  \n",
            " 21  TechSupport_Yes                        7043 non-null   int64  \n",
            " 22  StreamingTV_No_internet_service        7043 non-null   int64  \n",
            " 23  StreamingTV_Yes                        7043 non-null   int64  \n",
            " 24  StreamingMovies_No_internet_service    7043 non-null   int64  \n",
            " 25  StreamingMovies_Yes                    7043 non-null   int64  \n",
            " 26  Contract_One_year                      7043 non-null   int64  \n",
            " 27  Contract_Two_year                      7043 non-null   int64  \n",
            " 28  PaymentMethod_Credit_card__automatic_  7043 non-null   int64  \n",
            " 29  PaymentMethod_Electronic_check         7043 non-null   int64  \n",
            " 30  PaymentMethod_Mailed_check             7043 non-null   int64  \n",
            "dtypes: float64(2), int64(29)\n",
            "memory usage: 1.7 MB\n"
          ]
        }
      ],
      "source": [
        "# we processed the data\n",
        "df = pd.read_csv('processed_churn.csv')\n",
        "df.info()"
      ]
    },
    {
      "cell_type": "markdown",
      "id": "a4cbcb03",
      "metadata": {
        "id": "a4cbcb03"
      },
      "source": [
        "## Feature scaling"
      ]
    },
    {
      "cell_type": "code",
      "execution_count": null,
      "id": "5b1d8152",
      "metadata": {
        "id": "5b1d8152"
      },
      "outputs": [],
      "source": [
        "#feature scaling\n",
        "from sklearn.preprocessing import MinMaxScaler\n",
        "\n",
        "sc = MinMaxScaler()\n",
        "\n",
        "df['tenure'] = sc.fit_transform(df[['tenure']])\n",
        "df['MonthlyCharges'] = sc.fit_transform(df[['MonthlyCharges']])\n",
        "df['TotalCharges'] = sc.fit_transform(df[['TotalCharges']])"
      ]
    },
    {
      "cell_type": "markdown",
      "id": "a362ce9c",
      "metadata": {
        "id": "a362ce9c"
      },
      "source": [
        "## Model preparing"
      ]
    },
    {
      "cell_type": "code",
      "execution_count": null,
      "id": "2db32567",
      "metadata": {
        "id": "2db32567"
      },
      "outputs": [],
      "source": [
        "# Import ML models\n",
        "from sklearn.linear_model import LogisticRegression\n",
        "from sklearn.svm import SVC\n",
        "from sklearn.ensemble import RandomForestClassifier\n",
        "from sklearn.tree import DecisionTreeClassifier\n",
        "from sklearn.naive_bayes import GaussianNB\n",
        "from xgboost import XGBClassifier\n",
        "\n",
        "# Import metrics\n",
        "from sklearn.metrics import accuracy_score, precision_score, recall_score, f1_score, roc_auc_score\n",
        "\n",
        "# Import data split\n",
        "from sklearn.model_selection import train_test_split"
      ]
    },
    {
      "cell_type": "markdown",
      "id": "ec06142b",
      "metadata": {
        "id": "ec06142b"
      },
      "source": [
        "## Split data"
      ]
    },
    {
      "cell_type": "code",
      "execution_count": null,
      "id": "94e3ce95",
      "metadata": {
        "id": "94e3ce95"
      },
      "outputs": [],
      "source": [
        "X = df.drop('Churn', axis=1)\n",
        "y = df['Churn']\n",
        "\n",
        "X_train, X_test, y_train, y_test = train_test_split(X, y, test_size=0.3, random_state=50)"
      ]
    },
    {
      "cell_type": "code",
      "execution_count": null,
      "id": "15e1ee7e",
      "metadata": {
        "id": "15e1ee7e"
      },
      "outputs": [],
      "source": [
        "#Defining the modelling function\n",
        "def modeling(alg, alg_name, params={}):\n",
        "    model = alg(**params) #Instantiating the algorithm class and unpacking parameters if any\n",
        "    model.fit(X_train, y_train)\n",
        "    y_pred = model.predict(X_test)\n",
        "    \n",
        "    #Performance evaluation\n",
        "    def print_scores(alg, y_true, y_pred):\n",
        "        print(alg_name)\n",
        "        acc_score = accuracy_score(y_true, y_pred)\n",
        "        print(\"accuracy: \",acc_score)\n",
        "        pre_score = precision_score(y_true, y_pred)\n",
        "        print(\"precision: \",pre_score)\n",
        "        rec_score = recall_score(y_true, y_pred)                            \n",
        "        print(\"recall: \",rec_score)\n",
        "        f_score = f1_score(y_true, y_pred, average='weighted')\n",
        "        print(\"f1_score: \",f_score)\n",
        "        AUROC = roc_auc_score(y_true, y_pred)\n",
        "        print('AUROC: ', AUROC)\n",
        "        \n",
        "        \n",
        "\n",
        "    print_scores(alg, y_test, y_pred)\n",
        "    return model"
      ]
    },
    {
      "cell_type": "code",
      "execution_count": null,
      "id": "8b701cb9",
      "metadata": {
        "id": "8b701cb9",
        "outputId": "b5ccb4cc-cb75-4b6a-daae-825c2dc9ffe4"
      },
      "outputs": [
        {
          "name": "stdout",
          "output_type": "stream",
          "text": [
            "Logistic Regression\n",
            "accuracy:  0.7983909133932797\n",
            "precision:  0.6281800391389433\n",
            "recall:  0.5763016157989228\n",
            "f1_score:  0.7955174819104321\n",
            "AUROC:  0.727096823323626\n"
          ]
        }
      ],
      "source": [
        "# Running logistic regression model\n",
        "log_model = modeling(LogisticRegression, 'Logistic Regression')"
      ]
    },
    {
      "cell_type": "code",
      "execution_count": null,
      "id": "f782c36a",
      "metadata": {
        "id": "f782c36a",
        "outputId": "32af3c01-b0a7-4a67-b762-70558fb14f89"
      },
      "outputs": [
        {
          "name": "stdout",
          "output_type": "stream",
          "text": [
            "SVC Classification\n",
            "accuracy:  0.795551348793185\n",
            "precision:  0.6355748373101953\n",
            "recall:  0.526032315978456\n",
            "f1_score:  0.7889704158679894\n",
            "AUROC:  0.7090315821537525\n"
          ]
        }
      ],
      "source": [
        "### Trying other machine learning algorithms: SVC\n",
        "svc_model = modeling(SVC, 'SVC Classification')"
      ]
    },
    {
      "cell_type": "code",
      "execution_count": null,
      "id": "8fd5c9f5",
      "metadata": {
        "id": "8fd5c9f5",
        "outputId": "222e4eb2-f372-46e5-fcd0-f36e7a156aa3"
      },
      "outputs": [
        {
          "name": "stdout",
          "output_type": "stream",
          "text": [
            "Random Forest Classification\n",
            "accuracy:  0.7860861334595362\n",
            "precision:  0.6169265033407573\n",
            "recall:  0.49730700179533216\n",
            "f1_score:  0.778191054792374\n",
            "AUROC:  0.6933835780184887\n"
          ]
        }
      ],
      "source": [
        "#Random forest\n",
        "rf_model = modeling(RandomForestClassifier, \"Random Forest Classification\")"
      ]
    },
    {
      "cell_type": "code",
      "execution_count": null,
      "id": "edef2344",
      "metadata": {
        "id": "edef2344",
        "outputId": "a441fe86-51ce-4768-92cd-89771ca13ae9"
      },
      "outputs": [
        {
          "name": "stdout",
          "output_type": "stream",
          "text": [
            "Decision Tree Classification\n",
            "accuracy:  0.7198296261239944\n",
            "precision:  0.47145187601957583\n",
            "recall:  0.518850987432675\n",
            "f1_score:  0.723967552105011\n",
            "AUROC:  0.6553123831764918\n"
          ]
        }
      ],
      "source": [
        "#Decision tree\n",
        "dt_model = modeling(DecisionTreeClassifier, \"Decision Tree Classification\")"
      ]
    },
    {
      "cell_type": "code",
      "execution_count": null,
      "id": "5557d37d",
      "metadata": {
        "id": "5557d37d",
        "outputId": "853d8729-1955-4f1e-cc06-0aacf3776119"
      },
      "outputs": [
        {
          "name": "stdout",
          "output_type": "stream",
          "text": [
            "Naive Bayes Classification\n",
            "accuracy:  0.6469474680548982\n",
            "precision:  0.42011834319526625\n",
            "recall:  0.8922800718132855\n",
            "f1_score:  0.6660052398768987\n",
            "AUROC:  0.7257030179117842\n"
          ]
        }
      ],
      "source": [
        "#Naive bayes \n",
        "nb_model = modeling(GaussianNB, \"Naive Bayes Classification\")"
      ]
    },
    {
      "cell_type": "code",
      "execution_count": null,
      "id": "5dfc2c8e",
      "metadata": {
        "id": "5dfc2c8e",
        "outputId": "2610d642-8e0d-40a3-915e-c29dbe7e819d"
      },
      "outputs": [
        {
          "name": "stderr",
          "output_type": "stream",
          "text": [
            "C:\\Users\\shahr\\anaconda3\\lib\\site-packages\\xgboost\\sklearn.py:1224: UserWarning: The use of label encoder in XGBClassifier is deprecated and will be removed in a future release. To remove this warning, do the following: 1) Pass option use_label_encoder=False when constructing XGBClassifier object; and 2) Encode your labels (y) as integers starting with 0, i.e. 0, 1, 2, ..., [num_class - 1].\n",
            "  warnings.warn(label_encoder_deprecation_msg, UserWarning)\n"
          ]
        },
        {
          "name": "stdout",
          "output_type": "stream",
          "text": [
            "[08:03:47] WARNING: C:/Users/Administrator/workspace/xgboost-win64_release_1.5.1/src/learner.cc:1115: Starting in XGBoost 1.3.0, the default evaluation metric used with the objective 'binary:logistic' was changed from 'error' to 'logloss'. Explicitly set eval_metric if you'd like to restore the old behavior.\n",
            "XGBoost Classification\n",
            "accuracy:  0.7846663511594889\n",
            "precision:  0.6049382716049383\n",
            "recall:  0.5278276481149012\n",
            "f1_score:  0.7797387780225931\n",
            "AUROC:  0.7022171659597642\n"
          ]
        }
      ],
      "source": [
        "# XGBoost\n",
        "xboost = modeling(XGBClassifier, 'XGBoost Classification')"
      ]
    }
  ],
  "metadata": {
    "kernelspec": {
      "display_name": "Python 3 (ipykernel)",
      "language": "python",
      "name": "python3"
    },
    "language_info": {
      "codemirror_mode": {
        "name": "ipython",
        "version": 3
      },
      "file_extension": ".py",
      "mimetype": "text/x-python",
      "name": "python",
      "nbconvert_exporter": "python",
      "pygments_lexer": "ipython3",
      "version": "3.9.7"
    },
    "colab": {
      "name": "CompareMLmodels.ipynb",
      "provenance": [],
      "include_colab_link": true
    }
  },
  "nbformat": 4,
  "nbformat_minor": 5
}