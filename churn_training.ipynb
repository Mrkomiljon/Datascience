{
  "nbformat": 4,
  "nbformat_minor": 0,
  "metadata": {
    "colab": {
      "name": "churn_training.ipynb",
      "provenance": [],
      "collapsed_sections": [],
      "authorship_tag": "ABX9TyOsumt4mw4szOVFUYtSXG8V",
      "include_colab_link": true
    },
    "kernelspec": {
      "name": "python3",
      "display_name": "Python 3"
    },
    "language_info": {
      "name": "python"
    },
    "widgets": {
      "application/vnd.jupyter.widget-state+json": {
        "2c9d453b2dae48219dc3526b62fbd4ba": {
          "model_module": "@jupyter-widgets/controls",
          "model_name": "HBoxModel",
          "model_module_version": "1.5.0",
          "state": {
            "_dom_classes": [],
            "_model_module": "@jupyter-widgets/controls",
            "_model_module_version": "1.5.0",
            "_model_name": "HBoxModel",
            "_view_count": null,
            "_view_module": "@jupyter-widgets/controls",
            "_view_module_version": "1.5.0",
            "_view_name": "HBoxView",
            "box_style": "",
            "children": [
              "IPY_MODEL_f361997ead0a4aeda52b17b497c29f49",
              "IPY_MODEL_b11029d25f8a4700842a4f2324fabbd4",
              "IPY_MODEL_c4dacc63c3b041f682048e668a0edcbf"
            ],
            "layout": "IPY_MODEL_ec72d4ddb94a453d871d96fda3545b7e"
          }
        },
        "f361997ead0a4aeda52b17b497c29f49": {
          "model_module": "@jupyter-widgets/controls",
          "model_name": "HTMLModel",
          "model_module_version": "1.5.0",
          "state": {
            "_dom_classes": [],
            "_model_module": "@jupyter-widgets/controls",
            "_model_module_version": "1.5.0",
            "_model_name": "HTMLModel",
            "_view_count": null,
            "_view_module": "@jupyter-widgets/controls",
            "_view_module_version": "1.5.0",
            "_view_name": "HTMLView",
            "description": "",
            "description_tooltip": null,
            "layout": "IPY_MODEL_520f3347987f46af823bf79617eb42ce",
            "placeholder": "​",
            "style": "IPY_MODEL_7eed6fd5284847c2bc24dd0b8b1f5e32",
            "value": "Optimization Progress: 100%"
          }
        },
        "b11029d25f8a4700842a4f2324fabbd4": {
          "model_module": "@jupyter-widgets/controls",
          "model_name": "FloatProgressModel",
          "model_module_version": "1.5.0",
          "state": {
            "_dom_classes": [],
            "_model_module": "@jupyter-widgets/controls",
            "_model_module_version": "1.5.0",
            "_model_name": "FloatProgressModel",
            "_view_count": null,
            "_view_module": "@jupyter-widgets/controls",
            "_view_module_version": "1.5.0",
            "_view_name": "ProgressView",
            "bar_style": "",
            "description": "",
            "description_tooltip": null,
            "layout": "IPY_MODEL_2ad6d70fcfeb42c7be09a1040034f255",
            "max": 300,
            "min": 0,
            "orientation": "horizontal",
            "style": "IPY_MODEL_369ad6d1811242298cd035c3938cd95b",
            "value": 300
          }
        },
        "c4dacc63c3b041f682048e668a0edcbf": {
          "model_module": "@jupyter-widgets/controls",
          "model_name": "HTMLModel",
          "model_module_version": "1.5.0",
          "state": {
            "_dom_classes": [],
            "_model_module": "@jupyter-widgets/controls",
            "_model_module_version": "1.5.0",
            "_model_name": "HTMLModel",
            "_view_count": null,
            "_view_module": "@jupyter-widgets/controls",
            "_view_module_version": "1.5.0",
            "_view_name": "HTMLView",
            "description": "",
            "description_tooltip": null,
            "layout": "IPY_MODEL_95beb56fbcfc4b63be3e12758a5859d0",
            "placeholder": "​",
            "style": "IPY_MODEL_6b0bd561b98649d1b907d87c92e43429",
            "value": " 300/300 [07:32&lt;00:00,  1.29s/pipeline]"
          }
        },
        "ec72d4ddb94a453d871d96fda3545b7e": {
          "model_module": "@jupyter-widgets/base",
          "model_name": "LayoutModel",
          "model_module_version": "1.2.0",
          "state": {
            "_model_module": "@jupyter-widgets/base",
            "_model_module_version": "1.2.0",
            "_model_name": "LayoutModel",
            "_view_count": null,
            "_view_module": "@jupyter-widgets/base",
            "_view_module_version": "1.2.0",
            "_view_name": "LayoutView",
            "align_content": null,
            "align_items": null,
            "align_self": null,
            "border": null,
            "bottom": null,
            "display": null,
            "flex": null,
            "flex_flow": null,
            "grid_area": null,
            "grid_auto_columns": null,
            "grid_auto_flow": null,
            "grid_auto_rows": null,
            "grid_column": null,
            "grid_gap": null,
            "grid_row": null,
            "grid_template_areas": null,
            "grid_template_columns": null,
            "grid_template_rows": null,
            "height": null,
            "justify_content": null,
            "justify_items": null,
            "left": null,
            "margin": null,
            "max_height": null,
            "max_width": null,
            "min_height": null,
            "min_width": null,
            "object_fit": null,
            "object_position": null,
            "order": null,
            "overflow": null,
            "overflow_x": null,
            "overflow_y": null,
            "padding": null,
            "right": null,
            "top": null,
            "visibility": null,
            "width": null
          }
        },
        "520f3347987f46af823bf79617eb42ce": {
          "model_module": "@jupyter-widgets/base",
          "model_name": "LayoutModel",
          "model_module_version": "1.2.0",
          "state": {
            "_model_module": "@jupyter-widgets/base",
            "_model_module_version": "1.2.0",
            "_model_name": "LayoutModel",
            "_view_count": null,
            "_view_module": "@jupyter-widgets/base",
            "_view_module_version": "1.2.0",
            "_view_name": "LayoutView",
            "align_content": null,
            "align_items": null,
            "align_self": null,
            "border": null,
            "bottom": null,
            "display": null,
            "flex": null,
            "flex_flow": null,
            "grid_area": null,
            "grid_auto_columns": null,
            "grid_auto_flow": null,
            "grid_auto_rows": null,
            "grid_column": null,
            "grid_gap": null,
            "grid_row": null,
            "grid_template_areas": null,
            "grid_template_columns": null,
            "grid_template_rows": null,
            "height": null,
            "justify_content": null,
            "justify_items": null,
            "left": null,
            "margin": null,
            "max_height": null,
            "max_width": null,
            "min_height": null,
            "min_width": null,
            "object_fit": null,
            "object_position": null,
            "order": null,
            "overflow": null,
            "overflow_x": null,
            "overflow_y": null,
            "padding": null,
            "right": null,
            "top": null,
            "visibility": null,
            "width": null
          }
        },
        "7eed6fd5284847c2bc24dd0b8b1f5e32": {
          "model_module": "@jupyter-widgets/controls",
          "model_name": "DescriptionStyleModel",
          "model_module_version": "1.5.0",
          "state": {
            "_model_module": "@jupyter-widgets/controls",
            "_model_module_version": "1.5.0",
            "_model_name": "DescriptionStyleModel",
            "_view_count": null,
            "_view_module": "@jupyter-widgets/base",
            "_view_module_version": "1.2.0",
            "_view_name": "StyleView",
            "description_width": ""
          }
        },
        "2ad6d70fcfeb42c7be09a1040034f255": {
          "model_module": "@jupyter-widgets/base",
          "model_name": "LayoutModel",
          "model_module_version": "1.2.0",
          "state": {
            "_model_module": "@jupyter-widgets/base",
            "_model_module_version": "1.2.0",
            "_model_name": "LayoutModel",
            "_view_count": null,
            "_view_module": "@jupyter-widgets/base",
            "_view_module_version": "1.2.0",
            "_view_name": "LayoutView",
            "align_content": null,
            "align_items": null,
            "align_self": null,
            "border": null,
            "bottom": null,
            "display": null,
            "flex": null,
            "flex_flow": null,
            "grid_area": null,
            "grid_auto_columns": null,
            "grid_auto_flow": null,
            "grid_auto_rows": null,
            "grid_column": null,
            "grid_gap": null,
            "grid_row": null,
            "grid_template_areas": null,
            "grid_template_columns": null,
            "grid_template_rows": null,
            "height": null,
            "justify_content": null,
            "justify_items": null,
            "left": null,
            "margin": null,
            "max_height": null,
            "max_width": null,
            "min_height": null,
            "min_width": null,
            "object_fit": null,
            "object_position": null,
            "order": null,
            "overflow": null,
            "overflow_x": null,
            "overflow_y": null,
            "padding": null,
            "right": null,
            "top": null,
            "visibility": null,
            "width": null
          }
        },
        "369ad6d1811242298cd035c3938cd95b": {
          "model_module": "@jupyter-widgets/controls",
          "model_name": "ProgressStyleModel",
          "model_module_version": "1.5.0",
          "state": {
            "_model_module": "@jupyter-widgets/controls",
            "_model_module_version": "1.5.0",
            "_model_name": "ProgressStyleModel",
            "_view_count": null,
            "_view_module": "@jupyter-widgets/base",
            "_view_module_version": "1.2.0",
            "_view_name": "StyleView",
            "bar_color": null,
            "description_width": ""
          }
        },
        "95beb56fbcfc4b63be3e12758a5859d0": {
          "model_module": "@jupyter-widgets/base",
          "model_name": "LayoutModel",
          "model_module_version": "1.2.0",
          "state": {
            "_model_module": "@jupyter-widgets/base",
            "_model_module_version": "1.2.0",
            "_model_name": "LayoutModel",
            "_view_count": null,
            "_view_module": "@jupyter-widgets/base",
            "_view_module_version": "1.2.0",
            "_view_name": "LayoutView",
            "align_content": null,
            "align_items": null,
            "align_self": null,
            "border": null,
            "bottom": null,
            "display": null,
            "flex": null,
            "flex_flow": null,
            "grid_area": null,
            "grid_auto_columns": null,
            "grid_auto_flow": null,
            "grid_auto_rows": null,
            "grid_column": null,
            "grid_gap": null,
            "grid_row": null,
            "grid_template_areas": null,
            "grid_template_columns": null,
            "grid_template_rows": null,
            "height": null,
            "justify_content": null,
            "justify_items": null,
            "left": null,
            "margin": null,
            "max_height": null,
            "max_width": null,
            "min_height": null,
            "min_width": null,
            "object_fit": null,
            "object_position": null,
            "order": null,
            "overflow": null,
            "overflow_x": null,
            "overflow_y": null,
            "padding": null,
            "right": null,
            "top": null,
            "visibility": null,
            "width": null
          }
        },
        "6b0bd561b98649d1b907d87c92e43429": {
          "model_module": "@jupyter-widgets/controls",
          "model_name": "DescriptionStyleModel",
          "model_module_version": "1.5.0",
          "state": {
            "_model_module": "@jupyter-widgets/controls",
            "_model_module_version": "1.5.0",
            "_model_name": "DescriptionStyleModel",
            "_view_count": null,
            "_view_module": "@jupyter-widgets/base",
            "_view_module_version": "1.2.0",
            "_view_name": "StyleView",
            "description_width": ""
          }
        }
      }
    }
  },
  "cells": [
    {
      "cell_type": "markdown",
      "metadata": {
        "id": "view-in-github",
        "colab_type": "text"
      },
      "source": [
        "<a href=\"https://colab.research.google.com/github/Mrkomiljon/Datascience/blob/main/churn_training.ipynb\" target=\"_parent\"><img src=\"https://colab.research.google.com/assets/colab-badge.svg\" alt=\"Open In Colab\"/></a>"
      ]
    },
    {
      "cell_type": "code",
      "execution_count": 10,
      "metadata": {
        "id": "bLUrBevzmONj"
      },
      "outputs": [],
      "source": [
        "import pandas as pd\n",
        "import numpy as np\n",
        "import missingno as msno\n",
        "import matplotlib.pyplot as plt\n",
        "import seaborn as sns\n",
        "import plotly.express as px\n",
        "import plotly.graph_objects as go\n",
        "from plotly.subplots import make_subplots\n",
        "import warnings\n",
        "warnings.filterwarnings('ignore')"
      ]
    },
    {
      "cell_type": "code",
      "source": [
        "from sklearn.preprocessing import StandardScaler\n",
        "from sklearn.preprocessing import LabelEncoder\n",
        "from sklearn.tree import DecisionTreeClassifier\n",
        "from sklearn.ensemble import RandomForestClassifier\n",
        "from sklearn.naive_bayes import GaussianNB\n",
        "from sklearn.neighbors import KNeighborsClassifier\n",
        "from sklearn.svm import SVC\n",
        "from sklearn.neural_network import MLPClassifier\n",
        "from sklearn.ensemble import AdaBoostClassifier\n",
        "from sklearn.ensemble import GradientBoostingClassifier\n",
        "from sklearn.ensemble import ExtraTreesClassifier\n",
        "from sklearn.linear_model import LogisticRegression\n",
        "from sklearn.model_selection import train_test_split\n",
        "from sklearn.metrics import accuracy_score\n",
        "from xgboost import XGBClassifier\n",
        "# from catboost import CatBoostClassifier\n",
        "from sklearn import metrics\n",
        "from sklearn.metrics import roc_curve\n",
        "from sklearn.metrics import recall_score, confusion_matrix, precision_score, f1_score, accuracy_score, classification_report"
      ],
      "metadata": {
        "id": "yTWvsN0ymZxQ"
      },
      "execution_count": 11,
      "outputs": []
    },
    {
      "cell_type": "code",
      "source": [
        "df=pd.read_csv('https://raw.githubusercontent.com/Mrkomiljon/Datascience/497d713a32c9a0cbe243d9328cf4575790b41a45/churn_cleaned.csv')\n",
        "df.head(6)"
      ],
      "metadata": {
        "colab": {
          "base_uri": "https://localhost:8080/",
          "height": 328
        },
        "id": "ziZh1zUdmfAB",
        "outputId": "6d68df85-dea1-4559-d495-e6cceb10b979"
      },
      "execution_count": 12,
      "outputs": [
        {
          "output_type": "execute_result",
          "data": {
            "text/plain": [
              "   Count  Country  State  City  Zip Code  Lat Long   Latitude   Longitude  \\\n",
              "0      1        0      0   562     90003       327  33.964131 -118.272783   \n",
              "1      1        0      0   562     90005       405  34.059281 -118.307420   \n",
              "2      1        0      0   562     90006       393  34.048013 -118.293953   \n",
              "3      1        0      0   562     90010       410  34.062125 -118.315709   \n",
              "4      1        0      0   562     90015       385  34.039224 -118.266293   \n",
              "5      1        0      0   562     90020       416  34.066367 -118.309868   \n",
              "\n",
              "   Gender  Senior Citizen  ...  Streaming Movies  Contract  Paperless Billing  \\\n",
              "0       1               0  ...                 0         0                  1   \n",
              "1       0               0  ...                 0         0                  1   \n",
              "2       0               0  ...                 2         0                  1   \n",
              "3       0               0  ...                 2         0                  1   \n",
              "4       1               0  ...                 2         0                  1   \n",
              "5       0               0  ...                 0         0                  0   \n",
              "\n",
              "   Payment Method  Monthly Charges  Total_Charges  Churn Label  Churn Value  \\\n",
              "0               3            53.85         108.15            1            1   \n",
              "1               2            70.70         151.65            1            1   \n",
              "2               2            99.65         820.50            1            1   \n",
              "3               2           104.80        3046.05            1            1   \n",
              "4               0           103.70        5036.30            1            1   \n",
              "5               1            55.20         528.35            1            1   \n",
              "\n",
              "   Churn Score  CLTV  \n",
              "0           86  3239  \n",
              "1           67  2701  \n",
              "2           86  5372  \n",
              "3           84  5003  \n",
              "4           89  5340  \n",
              "5           78  5925  \n",
              "\n",
              "[6 rows x 31 columns]"
            ],
            "text/html": [
              "\n",
              "  <div id=\"df-e051dc30-78df-4327-9979-4fde39b8b304\">\n",
              "    <div class=\"colab-df-container\">\n",
              "      <div>\n",
              "<style scoped>\n",
              "    .dataframe tbody tr th:only-of-type {\n",
              "        vertical-align: middle;\n",
              "    }\n",
              "\n",
              "    .dataframe tbody tr th {\n",
              "        vertical-align: top;\n",
              "    }\n",
              "\n",
              "    .dataframe thead th {\n",
              "        text-align: right;\n",
              "    }\n",
              "</style>\n",
              "<table border=\"1\" class=\"dataframe\">\n",
              "  <thead>\n",
              "    <tr style=\"text-align: right;\">\n",
              "      <th></th>\n",
              "      <th>Count</th>\n",
              "      <th>Country</th>\n",
              "      <th>State</th>\n",
              "      <th>City</th>\n",
              "      <th>Zip Code</th>\n",
              "      <th>Lat Long</th>\n",
              "      <th>Latitude</th>\n",
              "      <th>Longitude</th>\n",
              "      <th>Gender</th>\n",
              "      <th>Senior Citizen</th>\n",
              "      <th>...</th>\n",
              "      <th>Streaming Movies</th>\n",
              "      <th>Contract</th>\n",
              "      <th>Paperless Billing</th>\n",
              "      <th>Payment Method</th>\n",
              "      <th>Monthly Charges</th>\n",
              "      <th>Total_Charges</th>\n",
              "      <th>Churn Label</th>\n",
              "      <th>Churn Value</th>\n",
              "      <th>Churn Score</th>\n",
              "      <th>CLTV</th>\n",
              "    </tr>\n",
              "  </thead>\n",
              "  <tbody>\n",
              "    <tr>\n",
              "      <th>0</th>\n",
              "      <td>1</td>\n",
              "      <td>0</td>\n",
              "      <td>0</td>\n",
              "      <td>562</td>\n",
              "      <td>90003</td>\n",
              "      <td>327</td>\n",
              "      <td>33.964131</td>\n",
              "      <td>-118.272783</td>\n",
              "      <td>1</td>\n",
              "      <td>0</td>\n",
              "      <td>...</td>\n",
              "      <td>0</td>\n",
              "      <td>0</td>\n",
              "      <td>1</td>\n",
              "      <td>3</td>\n",
              "      <td>53.85</td>\n",
              "      <td>108.15</td>\n",
              "      <td>1</td>\n",
              "      <td>1</td>\n",
              "      <td>86</td>\n",
              "      <td>3239</td>\n",
              "    </tr>\n",
              "    <tr>\n",
              "      <th>1</th>\n",
              "      <td>1</td>\n",
              "      <td>0</td>\n",
              "      <td>0</td>\n",
              "      <td>562</td>\n",
              "      <td>90005</td>\n",
              "      <td>405</td>\n",
              "      <td>34.059281</td>\n",
              "      <td>-118.307420</td>\n",
              "      <td>0</td>\n",
              "      <td>0</td>\n",
              "      <td>...</td>\n",
              "      <td>0</td>\n",
              "      <td>0</td>\n",
              "      <td>1</td>\n",
              "      <td>2</td>\n",
              "      <td>70.70</td>\n",
              "      <td>151.65</td>\n",
              "      <td>1</td>\n",
              "      <td>1</td>\n",
              "      <td>67</td>\n",
              "      <td>2701</td>\n",
              "    </tr>\n",
              "    <tr>\n",
              "      <th>2</th>\n",
              "      <td>1</td>\n",
              "      <td>0</td>\n",
              "      <td>0</td>\n",
              "      <td>562</td>\n",
              "      <td>90006</td>\n",
              "      <td>393</td>\n",
              "      <td>34.048013</td>\n",
              "      <td>-118.293953</td>\n",
              "      <td>0</td>\n",
              "      <td>0</td>\n",
              "      <td>...</td>\n",
              "      <td>2</td>\n",
              "      <td>0</td>\n",
              "      <td>1</td>\n",
              "      <td>2</td>\n",
              "      <td>99.65</td>\n",
              "      <td>820.50</td>\n",
              "      <td>1</td>\n",
              "      <td>1</td>\n",
              "      <td>86</td>\n",
              "      <td>5372</td>\n",
              "    </tr>\n",
              "    <tr>\n",
              "      <th>3</th>\n",
              "      <td>1</td>\n",
              "      <td>0</td>\n",
              "      <td>0</td>\n",
              "      <td>562</td>\n",
              "      <td>90010</td>\n",
              "      <td>410</td>\n",
              "      <td>34.062125</td>\n",
              "      <td>-118.315709</td>\n",
              "      <td>0</td>\n",
              "      <td>0</td>\n",
              "      <td>...</td>\n",
              "      <td>2</td>\n",
              "      <td>0</td>\n",
              "      <td>1</td>\n",
              "      <td>2</td>\n",
              "      <td>104.80</td>\n",
              "      <td>3046.05</td>\n",
              "      <td>1</td>\n",
              "      <td>1</td>\n",
              "      <td>84</td>\n",
              "      <td>5003</td>\n",
              "    </tr>\n",
              "    <tr>\n",
              "      <th>4</th>\n",
              "      <td>1</td>\n",
              "      <td>0</td>\n",
              "      <td>0</td>\n",
              "      <td>562</td>\n",
              "      <td>90015</td>\n",
              "      <td>385</td>\n",
              "      <td>34.039224</td>\n",
              "      <td>-118.266293</td>\n",
              "      <td>1</td>\n",
              "      <td>0</td>\n",
              "      <td>...</td>\n",
              "      <td>2</td>\n",
              "      <td>0</td>\n",
              "      <td>1</td>\n",
              "      <td>0</td>\n",
              "      <td>103.70</td>\n",
              "      <td>5036.30</td>\n",
              "      <td>1</td>\n",
              "      <td>1</td>\n",
              "      <td>89</td>\n",
              "      <td>5340</td>\n",
              "    </tr>\n",
              "    <tr>\n",
              "      <th>5</th>\n",
              "      <td>1</td>\n",
              "      <td>0</td>\n",
              "      <td>0</td>\n",
              "      <td>562</td>\n",
              "      <td>90020</td>\n",
              "      <td>416</td>\n",
              "      <td>34.066367</td>\n",
              "      <td>-118.309868</td>\n",
              "      <td>0</td>\n",
              "      <td>0</td>\n",
              "      <td>...</td>\n",
              "      <td>0</td>\n",
              "      <td>0</td>\n",
              "      <td>0</td>\n",
              "      <td>1</td>\n",
              "      <td>55.20</td>\n",
              "      <td>528.35</td>\n",
              "      <td>1</td>\n",
              "      <td>1</td>\n",
              "      <td>78</td>\n",
              "      <td>5925</td>\n",
              "    </tr>\n",
              "  </tbody>\n",
              "</table>\n",
              "<p>6 rows × 31 columns</p>\n",
              "</div>\n",
              "      <button class=\"colab-df-convert\" onclick=\"convertToInteractive('df-e051dc30-78df-4327-9979-4fde39b8b304')\"\n",
              "              title=\"Convert this dataframe to an interactive table.\"\n",
              "              style=\"display:none;\">\n",
              "        \n",
              "  <svg xmlns=\"http://www.w3.org/2000/svg\" height=\"24px\"viewBox=\"0 0 24 24\"\n",
              "       width=\"24px\">\n",
              "    <path d=\"M0 0h24v24H0V0z\" fill=\"none\"/>\n",
              "    <path d=\"M18.56 5.44l.94 2.06.94-2.06 2.06-.94-2.06-.94-.94-2.06-.94 2.06-2.06.94zm-11 1L8.5 8.5l.94-2.06 2.06-.94-2.06-.94L8.5 2.5l-.94 2.06-2.06.94zm10 10l.94 2.06.94-2.06 2.06-.94-2.06-.94-.94-2.06-.94 2.06-2.06.94z\"/><path d=\"M17.41 7.96l-1.37-1.37c-.4-.4-.92-.59-1.43-.59-.52 0-1.04.2-1.43.59L10.3 9.45l-7.72 7.72c-.78.78-.78 2.05 0 2.83L4 21.41c.39.39.9.59 1.41.59.51 0 1.02-.2 1.41-.59l7.78-7.78 2.81-2.81c.8-.78.8-2.07 0-2.86zM5.41 20L4 18.59l7.72-7.72 1.47 1.35L5.41 20z\"/>\n",
              "  </svg>\n",
              "      </button>\n",
              "      \n",
              "  <style>\n",
              "    .colab-df-container {\n",
              "      display:flex;\n",
              "      flex-wrap:wrap;\n",
              "      gap: 12px;\n",
              "    }\n",
              "\n",
              "    .colab-df-convert {\n",
              "      background-color: #E8F0FE;\n",
              "      border: none;\n",
              "      border-radius: 50%;\n",
              "      cursor: pointer;\n",
              "      display: none;\n",
              "      fill: #1967D2;\n",
              "      height: 32px;\n",
              "      padding: 0 0 0 0;\n",
              "      width: 32px;\n",
              "    }\n",
              "\n",
              "    .colab-df-convert:hover {\n",
              "      background-color: #E2EBFA;\n",
              "      box-shadow: 0px 1px 2px rgba(60, 64, 67, 0.3), 0px 1px 3px 1px rgba(60, 64, 67, 0.15);\n",
              "      fill: #174EA6;\n",
              "    }\n",
              "\n",
              "    [theme=dark] .colab-df-convert {\n",
              "      background-color: #3B4455;\n",
              "      fill: #D2E3FC;\n",
              "    }\n",
              "\n",
              "    [theme=dark] .colab-df-convert:hover {\n",
              "      background-color: #434B5C;\n",
              "      box-shadow: 0px 1px 3px 1px rgba(0, 0, 0, 0.15);\n",
              "      filter: drop-shadow(0px 1px 2px rgba(0, 0, 0, 0.3));\n",
              "      fill: #FFFFFF;\n",
              "    }\n",
              "  </style>\n",
              "\n",
              "      <script>\n",
              "        const buttonEl =\n",
              "          document.querySelector('#df-e051dc30-78df-4327-9979-4fde39b8b304 button.colab-df-convert');\n",
              "        buttonEl.style.display =\n",
              "          google.colab.kernel.accessAllowed ? 'block' : 'none';\n",
              "\n",
              "        async function convertToInteractive(key) {\n",
              "          const element = document.querySelector('#df-e051dc30-78df-4327-9979-4fde39b8b304');\n",
              "          const dataTable =\n",
              "            await google.colab.kernel.invokeFunction('convertToInteractive',\n",
              "                                                     [key], {});\n",
              "          if (!dataTable) return;\n",
              "\n",
              "          const docLinkHtml = 'Like what you see? Visit the ' +\n",
              "            '<a target=\"_blank\" href=https://colab.research.google.com/notebooks/data_table.ipynb>data table notebook</a>'\n",
              "            + ' to learn more about interactive tables.';\n",
              "          element.innerHTML = '';\n",
              "          dataTable['output_type'] = 'display_data';\n",
              "          await google.colab.output.renderOutput(dataTable, element);\n",
              "          const docLink = document.createElement('div');\n",
              "          docLink.innerHTML = docLinkHtml;\n",
              "          element.appendChild(docLink);\n",
              "        }\n",
              "      </script>\n",
              "    </div>\n",
              "  </div>\n",
              "  "
            ]
          },
          "metadata": {},
          "execution_count": 12
        }
      ]
    },
    {
      "cell_type": "code",
      "source": [
        "plt.figure(figsize=(21,14))\n",
        "df.corr()['Churn Value'].sort_values(ascending = False)"
      ],
      "metadata": {
        "colab": {
          "base_uri": "https://localhost:8080/",
          "height": 589
        },
        "id": "BpZYSB4vEwJ9",
        "outputId": "03c1dec7-276e-47b9-8541-be3e39263603"
      },
      "execution_count": 13,
      "outputs": [
        {
          "output_type": "execute_result",
          "data": {
            "text/plain": [
              "Churn Label          1.000000\n",
              "Churn Value          1.000000\n",
              "Churn Score          0.664970\n",
              "Monthly Charges      0.192858\n",
              "Paperless Billing    0.191454\n",
              "Senior Citizen       0.150541\n",
              "Payment Method       0.107852\n",
              "Multiple Lines       0.038043\n",
              "Phone Service        0.011691\n",
              "City                 0.008173\n",
              "Longitude            0.004693\n",
              "Zip Code             0.003006\n",
              "Lat Long            -0.001177\n",
              "Latitude            -0.003600\n",
              "Gender              -0.008545\n",
              "Streaming TV        -0.036303\n",
              "Streaming Movies    -0.038802\n",
              "Internet Service    -0.047097\n",
              "CLTV                -0.128253\n",
              "Partner             -0.149982\n",
              "Device Protection   -0.177883\n",
              "Online Backup       -0.195290\n",
              "Total_Charges       -0.199484\n",
              "Dependents          -0.248140\n",
              "Tech Support        -0.282232\n",
              "Online Security     -0.289050\n",
              "Tenure Months       -0.354049\n",
              "Contract            -0.396150\n",
              "Count                     NaN\n",
              "Country                   NaN\n",
              "State                     NaN\n",
              "Name: Churn Value, dtype: float64"
            ]
          },
          "metadata": {},
          "execution_count": 13
        },
        {
          "output_type": "display_data",
          "data": {
            "text/plain": [
              "<Figure size 1512x1008 with 0 Axes>"
            ]
          },
          "metadata": {}
        }
      ]
    },
    {
      "cell_type": "code",
      "source": [
        "df.drop(['Count', 'Country', 'State', 'Churn Score', 'Churn Label', 'CLTV'], axis=1, inplace=True )\n",
        "df.head()"
      ],
      "metadata": {
        "colab": {
          "base_uri": "https://localhost:8080/",
          "height": 297
        },
        "id": "oAPV_egbFnXF",
        "outputId": "2a760d6d-7cf6-4b8e-fbdd-91a6b78d2f7a"
      },
      "execution_count": 14,
      "outputs": [
        {
          "output_type": "execute_result",
          "data": {
            "text/plain": [
              "   City  Zip Code  Lat Long   Latitude   Longitude  Gender  Senior Citizen  \\\n",
              "0   562     90003       327  33.964131 -118.272783       1               0   \n",
              "1   562     90005       405  34.059281 -118.307420       0               0   \n",
              "2   562     90006       393  34.048013 -118.293953       0               0   \n",
              "3   562     90010       410  34.062125 -118.315709       0               0   \n",
              "4   562     90015       385  34.039224 -118.266293       1               0   \n",
              "\n",
              "   Partner  Dependents  Tenure Months  ...  Device Protection  Tech Support  \\\n",
              "0        0           0              2  ...                  0             0   \n",
              "1        0           1              2  ...                  0             0   \n",
              "2        0           1              8  ...                  2             0   \n",
              "3        1           1             28  ...                  2             2   \n",
              "4        0           1             49  ...                  2             0   \n",
              "\n",
              "   Streaming TV  Streaming Movies  Contract  Paperless Billing  \\\n",
              "0             0                 0         0                  1   \n",
              "1             0                 0         0                  1   \n",
              "2             2                 2         0                  1   \n",
              "3             2                 2         0                  1   \n",
              "4             2                 2         0                  1   \n",
              "\n",
              "   Payment Method  Monthly Charges  Total_Charges  Churn Value  \n",
              "0               3            53.85         108.15            1  \n",
              "1               2            70.70         151.65            1  \n",
              "2               2            99.65         820.50            1  \n",
              "3               2           104.80        3046.05            1  \n",
              "4               0           103.70        5036.30            1  \n",
              "\n",
              "[5 rows x 25 columns]"
            ],
            "text/html": [
              "\n",
              "  <div id=\"df-8a8e8af4-6d28-4077-ac60-e84c9a56cb87\">\n",
              "    <div class=\"colab-df-container\">\n",
              "      <div>\n",
              "<style scoped>\n",
              "    .dataframe tbody tr th:only-of-type {\n",
              "        vertical-align: middle;\n",
              "    }\n",
              "\n",
              "    .dataframe tbody tr th {\n",
              "        vertical-align: top;\n",
              "    }\n",
              "\n",
              "    .dataframe thead th {\n",
              "        text-align: right;\n",
              "    }\n",
              "</style>\n",
              "<table border=\"1\" class=\"dataframe\">\n",
              "  <thead>\n",
              "    <tr style=\"text-align: right;\">\n",
              "      <th></th>\n",
              "      <th>City</th>\n",
              "      <th>Zip Code</th>\n",
              "      <th>Lat Long</th>\n",
              "      <th>Latitude</th>\n",
              "      <th>Longitude</th>\n",
              "      <th>Gender</th>\n",
              "      <th>Senior Citizen</th>\n",
              "      <th>Partner</th>\n",
              "      <th>Dependents</th>\n",
              "      <th>Tenure Months</th>\n",
              "      <th>...</th>\n",
              "      <th>Device Protection</th>\n",
              "      <th>Tech Support</th>\n",
              "      <th>Streaming TV</th>\n",
              "      <th>Streaming Movies</th>\n",
              "      <th>Contract</th>\n",
              "      <th>Paperless Billing</th>\n",
              "      <th>Payment Method</th>\n",
              "      <th>Monthly Charges</th>\n",
              "      <th>Total_Charges</th>\n",
              "      <th>Churn Value</th>\n",
              "    </tr>\n",
              "  </thead>\n",
              "  <tbody>\n",
              "    <tr>\n",
              "      <th>0</th>\n",
              "      <td>562</td>\n",
              "      <td>90003</td>\n",
              "      <td>327</td>\n",
              "      <td>33.964131</td>\n",
              "      <td>-118.272783</td>\n",
              "      <td>1</td>\n",
              "      <td>0</td>\n",
              "      <td>0</td>\n",
              "      <td>0</td>\n",
              "      <td>2</td>\n",
              "      <td>...</td>\n",
              "      <td>0</td>\n",
              "      <td>0</td>\n",
              "      <td>0</td>\n",
              "      <td>0</td>\n",
              "      <td>0</td>\n",
              "      <td>1</td>\n",
              "      <td>3</td>\n",
              "      <td>53.85</td>\n",
              "      <td>108.15</td>\n",
              "      <td>1</td>\n",
              "    </tr>\n",
              "    <tr>\n",
              "      <th>1</th>\n",
              "      <td>562</td>\n",
              "      <td>90005</td>\n",
              "      <td>405</td>\n",
              "      <td>34.059281</td>\n",
              "      <td>-118.307420</td>\n",
              "      <td>0</td>\n",
              "      <td>0</td>\n",
              "      <td>0</td>\n",
              "      <td>1</td>\n",
              "      <td>2</td>\n",
              "      <td>...</td>\n",
              "      <td>0</td>\n",
              "      <td>0</td>\n",
              "      <td>0</td>\n",
              "      <td>0</td>\n",
              "      <td>0</td>\n",
              "      <td>1</td>\n",
              "      <td>2</td>\n",
              "      <td>70.70</td>\n",
              "      <td>151.65</td>\n",
              "      <td>1</td>\n",
              "    </tr>\n",
              "    <tr>\n",
              "      <th>2</th>\n",
              "      <td>562</td>\n",
              "      <td>90006</td>\n",
              "      <td>393</td>\n",
              "      <td>34.048013</td>\n",
              "      <td>-118.293953</td>\n",
              "      <td>0</td>\n",
              "      <td>0</td>\n",
              "      <td>0</td>\n",
              "      <td>1</td>\n",
              "      <td>8</td>\n",
              "      <td>...</td>\n",
              "      <td>2</td>\n",
              "      <td>0</td>\n",
              "      <td>2</td>\n",
              "      <td>2</td>\n",
              "      <td>0</td>\n",
              "      <td>1</td>\n",
              "      <td>2</td>\n",
              "      <td>99.65</td>\n",
              "      <td>820.50</td>\n",
              "      <td>1</td>\n",
              "    </tr>\n",
              "    <tr>\n",
              "      <th>3</th>\n",
              "      <td>562</td>\n",
              "      <td>90010</td>\n",
              "      <td>410</td>\n",
              "      <td>34.062125</td>\n",
              "      <td>-118.315709</td>\n",
              "      <td>0</td>\n",
              "      <td>0</td>\n",
              "      <td>1</td>\n",
              "      <td>1</td>\n",
              "      <td>28</td>\n",
              "      <td>...</td>\n",
              "      <td>2</td>\n",
              "      <td>2</td>\n",
              "      <td>2</td>\n",
              "      <td>2</td>\n",
              "      <td>0</td>\n",
              "      <td>1</td>\n",
              "      <td>2</td>\n",
              "      <td>104.80</td>\n",
              "      <td>3046.05</td>\n",
              "      <td>1</td>\n",
              "    </tr>\n",
              "    <tr>\n",
              "      <th>4</th>\n",
              "      <td>562</td>\n",
              "      <td>90015</td>\n",
              "      <td>385</td>\n",
              "      <td>34.039224</td>\n",
              "      <td>-118.266293</td>\n",
              "      <td>1</td>\n",
              "      <td>0</td>\n",
              "      <td>0</td>\n",
              "      <td>1</td>\n",
              "      <td>49</td>\n",
              "      <td>...</td>\n",
              "      <td>2</td>\n",
              "      <td>0</td>\n",
              "      <td>2</td>\n",
              "      <td>2</td>\n",
              "      <td>0</td>\n",
              "      <td>1</td>\n",
              "      <td>0</td>\n",
              "      <td>103.70</td>\n",
              "      <td>5036.30</td>\n",
              "      <td>1</td>\n",
              "    </tr>\n",
              "  </tbody>\n",
              "</table>\n",
              "<p>5 rows × 25 columns</p>\n",
              "</div>\n",
              "      <button class=\"colab-df-convert\" onclick=\"convertToInteractive('df-8a8e8af4-6d28-4077-ac60-e84c9a56cb87')\"\n",
              "              title=\"Convert this dataframe to an interactive table.\"\n",
              "              style=\"display:none;\">\n",
              "        \n",
              "  <svg xmlns=\"http://www.w3.org/2000/svg\" height=\"24px\"viewBox=\"0 0 24 24\"\n",
              "       width=\"24px\">\n",
              "    <path d=\"M0 0h24v24H0V0z\" fill=\"none\"/>\n",
              "    <path d=\"M18.56 5.44l.94 2.06.94-2.06 2.06-.94-2.06-.94-.94-2.06-.94 2.06-2.06.94zm-11 1L8.5 8.5l.94-2.06 2.06-.94-2.06-.94L8.5 2.5l-.94 2.06-2.06.94zm10 10l.94 2.06.94-2.06 2.06-.94-2.06-.94-.94-2.06-.94 2.06-2.06.94z\"/><path d=\"M17.41 7.96l-1.37-1.37c-.4-.4-.92-.59-1.43-.59-.52 0-1.04.2-1.43.59L10.3 9.45l-7.72 7.72c-.78.78-.78 2.05 0 2.83L4 21.41c.39.39.9.59 1.41.59.51 0 1.02-.2 1.41-.59l7.78-7.78 2.81-2.81c.8-.78.8-2.07 0-2.86zM5.41 20L4 18.59l7.72-7.72 1.47 1.35L5.41 20z\"/>\n",
              "  </svg>\n",
              "      </button>\n",
              "      \n",
              "  <style>\n",
              "    .colab-df-container {\n",
              "      display:flex;\n",
              "      flex-wrap:wrap;\n",
              "      gap: 12px;\n",
              "    }\n",
              "\n",
              "    .colab-df-convert {\n",
              "      background-color: #E8F0FE;\n",
              "      border: none;\n",
              "      border-radius: 50%;\n",
              "      cursor: pointer;\n",
              "      display: none;\n",
              "      fill: #1967D2;\n",
              "      height: 32px;\n",
              "      padding: 0 0 0 0;\n",
              "      width: 32px;\n",
              "    }\n",
              "\n",
              "    .colab-df-convert:hover {\n",
              "      background-color: #E2EBFA;\n",
              "      box-shadow: 0px 1px 2px rgba(60, 64, 67, 0.3), 0px 1px 3px 1px rgba(60, 64, 67, 0.15);\n",
              "      fill: #174EA6;\n",
              "    }\n",
              "\n",
              "    [theme=dark] .colab-df-convert {\n",
              "      background-color: #3B4455;\n",
              "      fill: #D2E3FC;\n",
              "    }\n",
              "\n",
              "    [theme=dark] .colab-df-convert:hover {\n",
              "      background-color: #434B5C;\n",
              "      box-shadow: 0px 1px 3px 1px rgba(0, 0, 0, 0.15);\n",
              "      filter: drop-shadow(0px 1px 2px rgba(0, 0, 0, 0.3));\n",
              "      fill: #FFFFFF;\n",
              "    }\n",
              "  </style>\n",
              "\n",
              "      <script>\n",
              "        const buttonEl =\n",
              "          document.querySelector('#df-8a8e8af4-6d28-4077-ac60-e84c9a56cb87 button.colab-df-convert');\n",
              "        buttonEl.style.display =\n",
              "          google.colab.kernel.accessAllowed ? 'block' : 'none';\n",
              "\n",
              "        async function convertToInteractive(key) {\n",
              "          const element = document.querySelector('#df-8a8e8af4-6d28-4077-ac60-e84c9a56cb87');\n",
              "          const dataTable =\n",
              "            await google.colab.kernel.invokeFunction('convertToInteractive',\n",
              "                                                     [key], {});\n",
              "          if (!dataTable) return;\n",
              "\n",
              "          const docLinkHtml = 'Like what you see? Visit the ' +\n",
              "            '<a target=\"_blank\" href=https://colab.research.google.com/notebooks/data_table.ipynb>data table notebook</a>'\n",
              "            + ' to learn more about interactive tables.';\n",
              "          element.innerHTML = '';\n",
              "          dataTable['output_type'] = 'display_data';\n",
              "          await google.colab.output.renderOutput(dataTable, element);\n",
              "          const docLink = document.createElement('div');\n",
              "          docLink.innerHTML = docLinkHtml;\n",
              "          element.appendChild(docLink);\n",
              "        }\n",
              "      </script>\n",
              "    </div>\n",
              "  </div>\n",
              "  "
            ]
          },
          "metadata": {},
          "execution_count": 14
        }
      ]
    },
    {
      "cell_type": "code",
      "source": [
        "sns.countplot(x=\"Churn Value\", data=df) # imbalance dataset"
      ],
      "metadata": {
        "colab": {
          "base_uri": "https://localhost:8080/",
          "height": 296
        },
        "id": "86Oq8cYZOPwZ",
        "outputId": "0d97db92-e400-416a-da62-0730ad3f342e"
      },
      "execution_count": 15,
      "outputs": [
        {
          "output_type": "execute_result",
          "data": {
            "text/plain": [
              "<matplotlib.axes._subplots.AxesSubplot at 0x7fd087e954d0>"
            ]
          },
          "metadata": {},
          "execution_count": 15
        },
        {
          "output_type": "display_data",
          "data": {
            "text/plain": [
              "<Figure size 432x288 with 1 Axes>"
            ],
            "image/png": "[encoded data removed]"
          },
          "metadata": {
            "needs_background": "light"
          }
        }
      ]
    },
    {
      "cell_type": "code",
      "source": [
        "X = df.drop(columns = ['Churn Value'])\n",
        "y = df['Churn Value'].values"
      ],
      "metadata": {
        "id": "77xrTfz3Gr7g"
      },
      "execution_count": 16,
      "outputs": []
    },
    {
      "cell_type": "code",
      "source": [
        "X_train, X_test, y_train, y_test = train_test_split(X,y,test_size = 0.3, random_state = 42, stratify=y)"
      ],
      "metadata": {
        "id": "JkypjJvYHJhX"
      },
      "execution_count": 17,
      "outputs": []
    },
    {
      "cell_type": "code",
      "source": [
        "def distplot(feature, frame, color='g'):\n",
        "    plt.figure(figsize=(8,3))\n",
        "    plt.title(\"Distribution for {}\".format(feature))\n",
        "    ax = sns.distplot(frame[feature], color= color)"
      ],
      "metadata": {
        "id": "EMYO284VJ_3W"
      },
      "execution_count": 18,
      "outputs": []
    },
    {
      "cell_type": "code",
      "source": [
        "num_cols = ['Tenure Months', 'Monthly Charges', 'Total_Charges']\n",
        "for feat in num_cols: distplot(feat, df)"
      ],
      "metadata": {
        "colab": {
          "base_uri": "https://localhost:8080/",
          "height": 690
        },
        "id": "WbCLH9RsKGzR",
        "outputId": "63a413c4-159f-4773-853a-90986e3633a0"
      },
      "execution_count": 19,
      "outputs": [
        {
          "output_type": "display_data",
          "data": {
            "text/plain": [
              "<Figure size 576x216 with 1 Axes>"
            ],
            "image/png": "[encoded data removed]"
          },
          "metadata": {
            "needs_background": "light"
          }
        },
        {
          "output_type": "display_data",
          "data": {
            "text/plain": [
              "<Figure size 576x216 with 1 Axes>"
            ],
            "image/png": "[encoded data removed]"
          },
          "metadata": {
            "needs_background": "light"
          }
        },
        {
          "output_type": "display_data",
          "data": {
            "text/plain": [
              "<Figure size 576x216 with 1 Axes>"
            ],
            "image/png": "[encoded data removed]"
          },
          "metadata": {
            "needs_background": "light"
          }
        }
      ]
    },
    {
      "cell_type": "code",
      "source": [
        "df_std = pd.DataFrame(StandardScaler().fit_transform(df[num_cols].astype('float64')),\n",
        "                       columns=num_cols)\n",
        "for feat in df_std: distplot(feat, df_std, color='y')"
      ],
      "metadata": {
        "colab": {
          "base_uri": "https://localhost:8080/",
          "height": 690
        },
        "id": "w_fZIyTuOQK_",
        "outputId": "67799ff8-adfc-4184-a692-16a8bd93f0ef"
      },
      "execution_count": 20,
      "outputs": [
        {
          "output_type": "display_data",
          "data": {
            "text/plain": [
              "<Figure size 576x216 with 1 Axes>"
            ],
            "image/png": "[encoded data removed]"
          },
          "metadata": {
            "needs_background": "light"
          }
        },
        {
          "output_type": "display_data",
          "data": {
            "text/plain": [
              "<Figure size 576x216 with 1 Axes>"
            ],
            "image/png": "[encoded data removed]"
          },
          "metadata": {
            "needs_background": "light"
          }
        },
        {
          "output_type": "display_data",
          "data": {
            "text/plain": [
              "<Figure size 576x216 with 1 Axes>"
            ],
            "image/png": "[encoded data removed]"
          },
          "metadata": {
            "needs_background": "light"
          }
        }
      ]
    },
    {
      "cell_type": "code",
      "source": [
        "cat_cols_ohe =['Payment Method', 'Contract', 'Internet Service', 'Online Security', 'Paperless Billing', 'Senior Citizen','Tech Support','Dependents '] # those that need one-hot encoding\n",
        "cat_cols_le = list(set(X_train.columns)- set(num_cols) - set(cat_cols_ohe)) #those that need label encoding"
      ],
      "metadata": {
        "id": "kuYf_TXwPctm"
      },
      "execution_count": 21,
      "outputs": []
    },
    {
      "cell_type": "code",
      "source": [
        "scaler= StandardScaler()\n",
        "\n",
        "X_train[num_cols] = scaler.fit_transform(X_train[num_cols])\n",
        "X_test[num_cols] = scaler.transform(X_test[num_cols])"
      ],
      "metadata": {
        "id": "e1PGSig7PqAf"
      },
      "execution_count": 22,
      "outputs": []
    },
    {
      "cell_type": "code",
      "source": [
        "X.shape"
      ],
      "metadata": {
        "colab": {
          "base_uri": "https://localhost:8080/"
        },
        "id": "c_kbV6kIPuY2",
        "outputId": "6a4cb881-17a9-4597-d8c9-3b274fc342ae"
      },
      "execution_count": 23,
      "outputs": [
        {
          "output_type": "execute_result",
          "data": {
            "text/plain": [
              "(7032, 24)"
            ]
          },
          "metadata": {},
          "execution_count": 23
        }
      ]
    },
    {
      "cell_type": "code",
      "source": [
        "y"
      ],
      "metadata": {
        "colab": {
          "base_uri": "https://localhost:8080/"
        },
        "id": "bCqf-JRJPyi-",
        "outputId": "d4b4c9f9-ee6e-48af-999b-1f44341ce8de"
      },
      "execution_count": 24,
      "outputs": [
        {
          "output_type": "execute_result",
          "data": {
            "text/plain": [
              "array([1, 1, 1, ..., 0, 0, 0])"
            ]
          },
          "metadata": {},
          "execution_count": 24
        }
      ]
    },
    {
      "cell_type": "code",
      "source": [
        "X_encoded= pd.get_dummies(X,columns=['Payment Method', 'Contract', 'Internet Service', 'Online Security', 'Paperless Billing', 'Senior Citizen','Tech Support','Dependents'])\n",
        "# Creating copy and stored in X variables\n",
        "X=X_encoded.copy()\n",
        "X.shape"
      ],
      "metadata": {
        "colab": {
          "base_uri": "https://localhost:8080/"
        },
        "id": "IKyLAZXLS2ow",
        "outputId": "7c27b29f-3088-47d6-f3e3-0ec5c1988cb7"
      },
      "execution_count": 25,
      "outputs": [
        {
          "output_type": "execute_result",
          "data": {
            "text/plain": [
              "(7032, 38)"
            ]
          },
          "metadata": {},
          "execution_count": 25
        }
      ]
    },
    {
      "cell_type": "code",
      "source": [
        "gb = GradientBoostingClassifier()\n",
        "gb.fit(X_train, y_train)\n",
        "gb_pred = gb.predict(X_test)\n",
        "print(\"Gradient Boosting Classifier\", accuracy_score(y_test, gb_pred))"
      ],
      "metadata": {
        "colab": {
          "base_uri": "https://localhost:8080/"
        },
        "id": "Xa0KV23mTm_W",
        "outputId": "a361a22a-3f96-4487-c22e-2b276ea134bf"
      },
      "execution_count": 26,
      "outputs": [
        {
          "output_type": "stream",
          "name": "stdout",
          "text": [
            "Gradient Boosting Classifier 0.7938388625592417\n"
          ]
        }
      ]
    },
    {
      "cell_type": "code",
      "source": [
        "print(classification_report(y_test,gb_pred))"
      ],
      "metadata": {
        "colab": {
          "base_uri": "https://localhost:8080/"
        },
        "id": "F1tu_3FQVEEX",
        "outputId": "a5a3df38-7528-471f-f34e-04c8fedeffb7"
      },
      "execution_count": 27,
      "outputs": [
        {
          "output_type": "stream",
          "name": "stdout",
          "text": [
            "              precision    recall  f1-score   support\n",
            "\n",
            "           0       0.84      0.89      0.86      1549\n",
            "           1       0.64      0.52      0.57       561\n",
            "\n",
            "    accuracy                           0.79      2110\n",
            "   macro avg       0.74      0.71      0.72      2110\n",
            "weighted avg       0.78      0.79      0.79      2110\n",
            "\n"
          ]
        }
      ]
    },
    {
      "cell_type": "code",
      "source": [
        "from sklearn.svm import SVC\n",
        "svm=SVC()\n",
        "#Fit the model to the training dataset\n",
        "svm.fit(X_train,y_train)\n",
        "#Predict using the test set\n",
        "predictions=svm.predict(X_test)\n",
        "#instantiate Evaluation matrics\n",
        "from sklearn.metrics import classification_report,confusion_matrix\n",
        "print(confusion_matrix(y_test,predictions))\n",
        "print(classification_report(y_test,predictions))"
      ],
      "metadata": {
        "colab": {
          "base_uri": "https://localhost:8080/"
        },
        "id": "hOHY0R1qUeHS",
        "outputId": "3eaae5f1-dad0-4c57-a2bc-f1f2b17eb442"
      },
      "execution_count": 28,
      "outputs": [
        {
          "output_type": "stream",
          "name": "stdout",
          "text": [
            "[[1549    0]\n",
            " [ 561    0]]\n",
            "              precision    recall  f1-score   support\n",
            "\n",
            "           0       0.73      1.00      0.85      1549\n",
            "           1       0.00      0.00      0.00       561\n",
            "\n",
            "    accuracy                           0.73      2110\n",
            "   macro avg       0.37      0.50      0.42      2110\n",
            "weighted avg       0.54      0.73      0.62      2110\n",
            "\n"
          ]
        }
      ]
    },
    {
      "cell_type": "code",
      "source": [
        "from sklearn.linear_model import LogisticRegression\n",
        "lr=LogisticRegression()\n",
        "#Fit the model to the training set and predict using the test set\n",
        "lr.fit(X_train,y_train)\n",
        "predictions=lr.predict(X_test)\n",
        "#Evaluation matrics\n",
        "print(confusion_matrix(y_test,predictions))\n",
        "print(classification_report(y_test,predictions))"
      ],
      "metadata": {
        "colab": {
          "base_uri": "https://localhost:8080/"
        },
        "id": "OD2lDI9uUoLe",
        "outputId": "dab25edc-47cb-4d09-e3a0-1695a83e5fcf"
      },
      "execution_count": 29,
      "outputs": [
        {
          "output_type": "stream",
          "name": "stdout",
          "text": [
            "[[1358  191]\n",
            " [ 295  266]]\n",
            "              precision    recall  f1-score   support\n",
            "\n",
            "           0       0.82      0.88      0.85      1549\n",
            "           1       0.58      0.47      0.52       561\n",
            "\n",
            "    accuracy                           0.77      2110\n",
            "   macro avg       0.70      0.68      0.69      2110\n",
            "weighted avg       0.76      0.77      0.76      2110\n",
            "\n"
          ]
        }
      ]
    },
    {
      "cell_type": "code",
      "source": [
        "dt_model = DecisionTreeClassifier()\n",
        "dt_model.fit(X_train,y_train)\n",
        "predictdt_y = dt_model.predict(X_test)\n",
        "accuracy_dt = dt_model.score(X_test,y_test)\n",
        "print(\"Decision Tree accuracy is :\",accuracy_dt)"
      ],
      "metadata": {
        "colab": {
          "base_uri": "https://localhost:8080/"
        },
        "id": "8DPrvVW6UuiQ",
        "outputId": "01f9aeb2-e305-471e-cfe7-2cabbba39bc2"
      },
      "execution_count": 30,
      "outputs": [
        {
          "output_type": "stream",
          "name": "stdout",
          "text": [
            "Decision Tree accuracy is : 0.7360189573459716\n"
          ]
        }
      ]
    },
    {
      "cell_type": "code",
      "source": [
        "print(classification_report(y_test, predictdt_y))"
      ],
      "metadata": {
        "colab": {
          "base_uri": "https://localhost:8080/"
        },
        "id": "1Jn-Bn8mU4T5",
        "outputId": "db1f2c4d-3f15-41ca-c5d7-6f07ad504cf9"
      },
      "execution_count": 31,
      "outputs": [
        {
          "output_type": "stream",
          "name": "stdout",
          "text": [
            "              precision    recall  f1-score   support\n",
            "\n",
            "           0       0.82      0.82      0.82      1549\n",
            "           1       0.50      0.51      0.51       561\n",
            "\n",
            "    accuracy                           0.74      2110\n",
            "   macro avg       0.66      0.66      0.66      2110\n",
            "weighted avg       0.74      0.74      0.74      2110\n",
            "\n"
          ]
        }
      ]
    },
    {
      "cell_type": "code",
      "source": [
        "# Lets build the Xgboost model without cross validation\n",
        "import xgboost as xgb\n",
        "clf_xgb= xgb.XGBClassifier(objective='binary:logistic',max_depth=5,learning_rate= 0.1,\n",
        "                           colsample_bytree = 0.5,\n",
        "                           subsample=0.90, reg_lambda= 10,use_label_encoder=False)"
      ],
      "metadata": {
        "id": "x6Jo96XDWE_4"
      },
      "execution_count": 32,
      "outputs": []
    },
    {
      "cell_type": "code",
      "source": [
        "clf_xgb.fit(X_train,y_train,early_stopping_rounds=10,eval_metric='aucpr',eval_set=[(X_test,y_test)])"
      ],
      "metadata": {
        "colab": {
          "base_uri": "https://localhost:8080/"
        },
        "id": "PFYM3askWpcX",
        "outputId": "62893fe6-6f69-406e-ae79-0d00a8d0a500"
      },
      "execution_count": 33,
      "outputs": [
        {
          "output_type": "stream",
          "name": "stdout",
          "text": [
            "[0]\tvalidation_0-aucpr:0.5567\n",
            "Will train until validation_0-aucpr hasn't improved in 10 rounds.\n",
            "[1]\tvalidation_0-aucpr:0.581809\n",
            "[2]\tvalidation_0-aucpr:0.60132\n",
            "[3]\tvalidation_0-aucpr:0.611034\n",
            "[4]\tvalidation_0-aucpr:0.623114\n",
            "[5]\tvalidation_0-aucpr:0.624408\n",
            "[6]\tvalidation_0-aucpr:0.624319\n",
            "[7]\tvalidation_0-aucpr:0.630465\n",
            "[8]\tvalidation_0-aucpr:0.633763\n",
            "[9]\tvalidation_0-aucpr:0.632928\n",
            "[10]\tvalidation_0-aucpr:0.634126\n",
            "[11]\tvalidation_0-aucpr:0.633072\n",
            "[12]\tvalidation_0-aucpr:0.634568\n",
            "[13]\tvalidation_0-aucpr:0.636222\n",
            "[14]\tvalidation_0-aucpr:0.635712\n",
            "[15]\tvalidation_0-aucpr:0.634584\n",
            "[16]\tvalidation_0-aucpr:0.635512\n",
            "[17]\tvalidation_0-aucpr:0.637348\n",
            "[18]\tvalidation_0-aucpr:0.638413\n",
            "[19]\tvalidation_0-aucpr:0.638027\n",
            "[20]\tvalidation_0-aucpr:0.63842\n",
            "[21]\tvalidation_0-aucpr:0.63855\n",
            "[22]\tvalidation_0-aucpr:0.638608\n",
            "[23]\tvalidation_0-aucpr:0.639531\n",
            "[24]\tvalidation_0-aucpr:0.642145\n",
            "[25]\tvalidation_0-aucpr:0.642219\n",
            "[26]\tvalidation_0-aucpr:0.641895\n",
            "[27]\tvalidation_0-aucpr:0.64324\n",
            "[28]\tvalidation_0-aucpr:0.643765\n",
            "[29]\tvalidation_0-aucpr:0.642004\n",
            "[30]\tvalidation_0-aucpr:0.642227\n",
            "[31]\tvalidation_0-aucpr:0.642569\n",
            "[32]\tvalidation_0-aucpr:0.642621\n",
            "[33]\tvalidation_0-aucpr:0.642834\n",
            "[34]\tvalidation_0-aucpr:0.642603\n",
            "[35]\tvalidation_0-aucpr:0.641579\n",
            "[36]\tvalidation_0-aucpr:0.642232\n",
            "[37]\tvalidation_0-aucpr:0.642163\n",
            "[38]\tvalidation_0-aucpr:0.6435\n",
            "Stopping. Best iteration:\n",
            "[28]\tvalidation_0-aucpr:0.643765\n",
            "\n"
          ]
        },
        {
          "output_type": "execute_result",
          "data": {
            "text/plain": [
              "XGBClassifier(colsample_bytree=0.5, max_depth=5, reg_lambda=10, subsample=0.9,\n",
              "              use_label_encoder=False)"
            ]
          },
          "metadata": {},
          "execution_count": 33
        }
      ]
    },
    {
      "cell_type": "code",
      "source": [
        "y_pred= clf_xgb.predict(X_test)"
      ],
      "metadata": {
        "id": "CNqPHqfkWygW"
      },
      "execution_count": 34,
      "outputs": []
    },
    {
      "cell_type": "code",
      "source": [
        "from sklearn.metrics import confusion_matrix, plot_confusion_matrix\n",
        "plot_confusion_matrix(clf_xgb,X_test,y_test,values_format='d',display_labels=['did not left','left'])"
      ],
      "metadata": {
        "colab": {
          "base_uri": "https://localhost:8080/",
          "height": 300
        },
        "id": "CgHovQ9EW9i3",
        "outputId": "55d3eafe-0fee-48ad-e57b-d736d1ee8187"
      },
      "execution_count": 35,
      "outputs": [
        {
          "output_type": "execute_result",
          "data": {
            "text/plain": [
              "<sklearn.metrics._plot.confusion_matrix.ConfusionMatrixDisplay at 0x7fd085a2e490>"
            ]
          },
          "metadata": {},
          "execution_count": 35
        },
        {
          "output_type": "display_data",
          "data": {
            "text/plain": [
              "<Figure size 432x288 with 2 Axes>"
            ],
            "image/png": "[encoded data removed]"
          },
          "metadata": {
            "needs_background": "light"
          }
        }
      ]
    },
    {
      "cell_type": "code",
      "source": [
        "from sklearn.metrics import roc_auc_score, balanced_accuracy_score, make_scorer\n",
        "print('The accuracy of the model is:',roc_auc_score(y_test,y_pred))\n",
        "from sklearn.metrics import classification_report\n",
        "print(classification_report(y_test,y_pred))"
      ],
      "metadata": {
        "colab": {
          "base_uri": "https://localhost:8080/"
        },
        "id": "nJ2z40KXYTBw",
        "outputId": "afc45a18-d394-4d33-f4a4-2c11b9f60093"
      },
      "execution_count": 36,
      "outputs": [
        {
          "output_type": "stream",
          "name": "stdout",
          "text": [
            "The accuracy of the model is: 0.7023500872853395\n",
            "              precision    recall  f1-score   support\n",
            "\n",
            "           0       0.83      0.90      0.87      1549\n",
            "           1       0.65      0.50      0.57       561\n",
            "\n",
            "    accuracy                           0.80      2110\n",
            "   macro avg       0.74      0.70      0.72      2110\n",
            "weighted avg       0.79      0.80      0.79      2110\n",
            "\n"
          ]
        }
      ]
    },
    {
      "cell_type": "markdown",
      "source": [
        "\n",
        "Grid Search calculates the performance for each combination of all the specified hyperparameters and their values and then chooses the optimum value for the hyperparameters. Based on the number of hyperparameters involved, this makes the processing time-consuming and costly.\n",
        "It requires four arguments: estimator, param grid, cv, and scoring. The following is a list of the arguments:"
      ],
      "metadata": {
        "id": "moI5CdvrZfAQ"
      }
    },
    {
      "cell_type": "code",
      "source": [
        "#param grid — A dictionary containing lists of parameter values and parameter names as keys.\n",
        "param_grid={'max_depth':[3,4,5],\n",
        "            'gamma':[0,0.25,1.0],\n",
        "            'learning_rate':[0.1,0.5,1.0],\n",
        "            'reg_lambda':[1,10,20],\n",
        "            'scale_pos_weight':[1,3,5],\n",
        "    \n",
        "}"
      ],
      "metadata": {
        "id": "dTkUxT8Yac_v"
      },
      "execution_count": 37,
      "outputs": []
    },
    {
      "cell_type": "code",
      "source": [
        "# finding optimal parametr\n",
        "from sklearn.model_selection import GridSearchCV\n",
        "optimal_param= GridSearchCV(estimator=xgb.XGBClassifier(objective='binary:logistic',seed=42,\n",
        "                                                        subsample=0.9,colsample_bytree=0.5,use_label_encoder=False),\n",
        "                            param_grid=param_grid,\n",
        "                            scoring='roc_auc',\n",
        "                            verbose=2, \n",
        "                            cv=3)"
      ],
      "metadata": {
        "id": "qL4VCtGAZSb5"
      },
      "execution_count": 38,
      "outputs": []
    },
    {
      "cell_type": "code",
      "source": [
        "# fitting the gridsearch\n",
        "optimal_param.fit(X_train,y_train,early_stopping_rounds=10,eval_metric='auc',eval_set=[(X_test,y_test)],verbose=False)"
      ],
      "metadata": {
        "colab": {
          "base_uri": "https://localhost:8080/"
        },
        "id": "Kbx4VMM3av-Y",
        "outputId": "9e334f2d-2098-4cc4-b0ae-3220f539c33c"
      },
      "execution_count": 39,
      "outputs": [
        {
          "output_type": "stream",
          "name": "stdout",
          "text": [
            "Fitting 3 folds for each of 243 candidates, totalling 729 fits\n",
            "[CV] END gamma=0, learning_rate=0.1, max_depth=3, reg_lambda=1, scale_pos_weight=1; total time=   0.2s\n",
            "[CV] END gamma=0, learning_rate=0.1, max_depth=3, reg_lambda=1, scale_pos_weight=1; total time=   0.2s\n",
            "[CV] END gamma=0, learning_rate=0.1, max_depth=3, reg_lambda=1, scale_pos_weight=1; total time=   0.2s\n",
            "[CV] END gamma=0, learning_rate=0.1, max_depth=3, reg_lambda=1, scale_pos_weight=3; total time=   0.2s\n",
            "[CV] END gamma=0, learning_rate=0.1, max_depth=3, reg_lambda=1, scale_pos_weight=3; total time=   0.2s\n",
            "[CV] END gamma=0, learning_rate=0.1, max_depth=3, reg_lambda=1, scale_pos_weight=3; total time=   0.2s\n",
            "[CV] END gamma=0, learning_rate=0.1, max_depth=3, reg_lambda=1, scale_pos_weight=5; total time=   0.2s\n",
            "[CV] END gamma=0, learning_rate=0.1, max_depth=3, reg_lambda=1, scale_pos_weight=5; total time=   0.2s\n",
            "[CV] END gamma=0, learning_rate=0.1, max_depth=3, reg_lambda=1, scale_pos_weight=5; total time=   0.2s\n",
            "[CV] END gamma=0, learning_rate=0.1, max_depth=3, reg_lambda=10, scale_pos_weight=1; total time=   0.3s\n",
            "[CV] END gamma=0, learning_rate=0.1, max_depth=3, reg_lambda=10, scale_pos_weight=1; total time=   0.3s\n",
            "[CV] END gamma=0, learning_rate=0.1, max_depth=3, reg_lambda=10, scale_pos_weight=1; total time=   0.2s\n",
            "[CV] END gamma=0, learning_rate=0.1, max_depth=3, reg_lambda=10, scale_pos_weight=3; total time=   0.2s\n",
            "[CV] END gamma=0, learning_rate=0.1, max_depth=3, reg_lambda=10, scale_pos_weight=3; total time=   0.2s\n",
            "[CV] END gamma=0, learning_rate=0.1, max_depth=3, reg_lambda=10, scale_pos_weight=3; total time=   0.2s\n",
            "[CV] END gamma=0, learning_rate=0.1, max_depth=3, reg_lambda=10, scale_pos_weight=5; total time=   0.2s\n",
            "[CV] END gamma=0, learning_rate=0.1, max_depth=3, reg_lambda=10, scale_pos_weight=5; total time=   0.2s\n",
            "[CV] END gamma=0, learning_rate=0.1, max_depth=3, reg_lambda=10, scale_pos_weight=5; total time=   0.2s\n",
            "[CV] END gamma=0, learning_rate=0.1, max_depth=3, reg_lambda=20, scale_pos_weight=1; total time=   0.3s\n",
            "[CV] END gamma=0, learning_rate=0.1, max_depth=3, reg_lambda=20, scale_pos_weight=1; total time=   0.3s\n",
            "[CV] END gamma=0, learning_rate=0.1, max_depth=3, reg_lambda=20, scale_pos_weight=1; total time=   0.3s\n",
            "[CV] END gamma=0, learning_rate=0.1, max_depth=3, reg_lambda=20, scale_pos_weight=3; total time=   0.2s\n",
            "[CV] END gamma=0, learning_rate=0.1, max_depth=3, reg_lambda=20, scale_pos_weight=3; total time=   0.3s\n",
            "[CV] END gamma=0, learning_rate=0.1, max_depth=3, reg_lambda=20, scale_pos_weight=3; total time=   0.2s\n",
            "[CV] END gamma=0, learning_rate=0.1, max_depth=3, reg_lambda=20, scale_pos_weight=5; total time=   0.2s\n",
            "[CV] END gamma=0, learning_rate=0.1, max_depth=3, reg_lambda=20, scale_pos_weight=5; total time=   0.3s\n",
            "[CV] END gamma=0, learning_rate=0.1, max_depth=3, reg_lambda=20, scale_pos_weight=5; total time=   0.2s\n",
            "[CV] END gamma=0, learning_rate=0.1, max_depth=4, reg_lambda=1, scale_pos_weight=1; total time=   0.2s\n",
            "[CV] END gamma=0, learning_rate=0.1, max_depth=4, reg_lambda=1, scale_pos_weight=1; total time=   0.2s\n",
            "[CV] END gamma=0, learning_rate=0.1, max_depth=4, reg_lambda=1, scale_pos_weight=1; total time=   0.2s\n",
            "[CV] END gamma=0, learning_rate=0.1, max_depth=4, reg_lambda=1, scale_pos_weight=3; total time=   0.2s\n",
            "[CV] END gamma=0, learning_rate=0.1, max_depth=4, reg_lambda=1, scale_pos_weight=3; total time=   0.2s\n",
            "[CV] END gamma=0, learning_rate=0.1, max_depth=4, reg_lambda=1, scale_pos_weight=3; total time=   0.2s\n",
            "[CV] END gamma=0, learning_rate=0.1, max_depth=4, reg_lambda=1, scale_pos_weight=5; total time=   0.2s\n",
            "[CV] END gamma=0, learning_rate=0.1, max_depth=4, reg_lambda=1, scale_pos_weight=5; total time=   0.2s\n",
            "[CV] END gamma=0, learning_rate=0.1, max_depth=4, reg_lambda=1, scale_pos_weight=5; total time=   0.2s\n",
            "[CV] END gamma=0, learning_rate=0.1, max_depth=4, reg_lambda=10, scale_pos_weight=1; total time=   0.3s\n",
            "[CV] END gamma=0, learning_rate=0.1, max_depth=4, reg_lambda=10, scale_pos_weight=1; total time=   0.3s\n",
            "[CV] END gamma=0, learning_rate=0.1, max_depth=4, reg_lambda=10, scale_pos_weight=1; total time=   0.3s\n",
            "[CV] END gamma=0, learning_rate=0.1, max_depth=4, reg_lambda=10, scale_pos_weight=3; total time=   0.2s\n",
            "[CV] END gamma=0, learning_rate=0.1, max_depth=4, reg_lambda=10, scale_pos_weight=3; total time=   0.2s\n",
            "[CV] END gamma=0, learning_rate=0.1, max_depth=4, reg_lambda=10, scale_pos_weight=3; total time=   0.2s\n",
            "[CV] END gamma=0, learning_rate=0.1, max_depth=4, reg_lambda=10, scale_pos_weight=5; total time=   0.2s\n",
            "[CV] END gamma=0, learning_rate=0.1, max_depth=4, reg_lambda=10, scale_pos_weight=5; total time=   0.2s\n",
            "[CV] END gamma=0, learning_rate=0.1, max_depth=4, reg_lambda=10, scale_pos_weight=5; total time=   0.2s\n",
            "[CV] END gamma=0, learning_rate=0.1, max_depth=4, reg_lambda=20, scale_pos_weight=1; total time=   0.3s\n",
            "[CV] END gamma=0, learning_rate=0.1, max_depth=4, reg_lambda=20, scale_pos_weight=1; total time=   0.3s\n",
            "[CV] END gamma=0, learning_rate=0.1, max_depth=4, reg_lambda=20, scale_pos_weight=1; total time=   0.3s\n",
            "[CV] END gamma=0, learning_rate=0.1, max_depth=4, reg_lambda=20, scale_pos_weight=3; total time=   0.2s\n",
            "[CV] END gamma=0, learning_rate=0.1, max_depth=4, reg_lambda=20, scale_pos_weight=3; total time=   0.2s\n",
            "[CV] END gamma=0, learning_rate=0.1, max_depth=4, reg_lambda=20, scale_pos_weight=3; total time=   0.2s\n",
            "[CV] END gamma=0, learning_rate=0.1, max_depth=4, reg_lambda=20, scale_pos_weight=5; total time=   0.2s\n",
            "[CV] END gamma=0, learning_rate=0.1, max_depth=4, reg_lambda=20, scale_pos_weight=5; total time=   0.2s\n",
            "[CV] END gamma=0, learning_rate=0.1, max_depth=4, reg_lambda=20, scale_pos_weight=5; total time=   0.2s\n",
            "[CV] END gamma=0, learning_rate=0.1, max_depth=5, reg_lambda=1, scale_pos_weight=1; total time=   0.2s\n",
            "[CV] END gamma=0, learning_rate=0.1, max_depth=5, reg_lambda=1, scale_pos_weight=1; total time=   0.1s\n",
            "[CV] END gamma=0, learning_rate=0.1, max_depth=5, reg_lambda=1, scale_pos_weight=1; total time=   0.2s\n",
            "[CV] END gamma=0, learning_rate=0.1, max_depth=5, reg_lambda=1, scale_pos_weight=3; total time=   0.2s\n",
            "[CV] END gamma=0, learning_rate=0.1, max_depth=5, reg_lambda=1, scale_pos_weight=3; total time=   0.1s\n",
            "[CV] END gamma=0, learning_rate=0.1, max_depth=5, reg_lambda=1, scale_pos_weight=3; total time=   0.2s\n",
            "[CV] END gamma=0, learning_rate=0.1, max_depth=5, reg_lambda=1, scale_pos_weight=5; total time=   0.2s\n",
            "[CV] END gamma=0, learning_rate=0.1, max_depth=5, reg_lambda=1, scale_pos_weight=5; total time=   0.2s\n",
            "[CV] END gamma=0, learning_rate=0.1, max_depth=5, reg_lambda=1, scale_pos_weight=5; total time=   0.1s\n",
            "[CV] END gamma=0, learning_rate=0.1, max_depth=5, reg_lambda=10, scale_pos_weight=1; total time=   0.3s\n",
            "[CV] END gamma=0, learning_rate=0.1, max_depth=5, reg_lambda=10, scale_pos_weight=1; total time=   0.3s\n",
            "[CV] END gamma=0, learning_rate=0.1, max_depth=5, reg_lambda=10, scale_pos_weight=1; total time=   0.3s\n",
            "[CV] END gamma=0, learning_rate=0.1, max_depth=5, reg_lambda=10, scale_pos_weight=3; total time=   0.2s\n",
            "[CV] END gamma=0, learning_rate=0.1, max_depth=5, reg_lambda=10, scale_pos_weight=3; total time=   0.1s\n",
            "[CV] END gamma=0, learning_rate=0.1, max_depth=5, reg_lambda=10, scale_pos_weight=3; total time=   0.2s\n",
            "[CV] END gamma=0, learning_rate=0.1, max_depth=5, reg_lambda=10, scale_pos_weight=5; total time=   0.2s\n",
            "[CV] END gamma=0, learning_rate=0.1, max_depth=5, reg_lambda=10, scale_pos_weight=5; total time=   0.2s\n",
            "[CV] END gamma=0, learning_rate=0.1, max_depth=5, reg_lambda=10, scale_pos_weight=5; total time=   0.2s\n",
            "[CV] END gamma=0, learning_rate=0.1, max_depth=5, reg_lambda=20, scale_pos_weight=1; total time=   0.3s\n",
            "[CV] END gamma=0, learning_rate=0.1, max_depth=5, reg_lambda=20, scale_pos_weight=1; total time=   0.3s\n",
            "[CV] END gamma=0, learning_rate=0.1, max_depth=5, reg_lambda=20, scale_pos_weight=1; total time=   0.3s\n",
            "[CV] END gamma=0, learning_rate=0.1, max_depth=5, reg_lambda=20, scale_pos_weight=3; total time=   0.2s\n",
            "[CV] END gamma=0, learning_rate=0.1, max_depth=5, reg_lambda=20, scale_pos_weight=3; total time=   0.3s\n",
            "[CV] END gamma=0, learning_rate=0.1, max_depth=5, reg_lambda=20, scale_pos_weight=3; total time=   0.3s\n",
            "[CV] END gamma=0, learning_rate=0.1, max_depth=5, reg_lambda=20, scale_pos_weight=5; total time=   0.2s\n",
            "[CV] END gamma=0, learning_rate=0.1, max_depth=5, reg_lambda=20, scale_pos_weight=5; total time=   0.2s\n",
            "[CV] END gamma=0, learning_rate=0.1, max_depth=5, reg_lambda=20, scale_pos_weight=5; total time=   0.3s\n",
            "[CV] END gamma=0, learning_rate=0.5, max_depth=3, reg_lambda=1, scale_pos_weight=1; total time=   0.1s\n",
            "[CV] END gamma=0, learning_rate=0.5, max_depth=3, reg_lambda=1, scale_pos_weight=1; total time=   0.1s\n",
            "[CV] END gamma=0, learning_rate=0.5, max_depth=3, reg_lambda=1, scale_pos_weight=1; total time=   0.1s\n",
            "[CV] END gamma=0, learning_rate=0.5, max_depth=3, reg_lambda=1, scale_pos_weight=3; total time=   0.1s\n",
            "[CV] END gamma=0, learning_rate=0.5, max_depth=3, reg_lambda=1, scale_pos_weight=3; total time=   0.1s\n",
            "[CV] END gamma=0, learning_rate=0.5, max_depth=3, reg_lambda=1, scale_pos_weight=3; total time=   0.1s\n",
            "[CV] END gamma=0, learning_rate=0.5, max_depth=3, reg_lambda=1, scale_pos_weight=5; total time=   0.1s\n",
            "[CV] END gamma=0, learning_rate=0.5, max_depth=3, reg_lambda=1, scale_pos_weight=5; total time=   0.1s\n",
            "[CV] END gamma=0, learning_rate=0.5, max_depth=3, reg_lambda=1, scale_pos_weight=5; total time=   0.1s\n",
            "[CV] END gamma=0, learning_rate=0.5, max_depth=3, reg_lambda=10, scale_pos_weight=1; total time=   0.1s\n",
            "[CV] END gamma=0, learning_rate=0.5, max_depth=3, reg_lambda=10, scale_pos_weight=1; total time=   0.1s\n",
            "[CV] END gamma=0, learning_rate=0.5, max_depth=3, reg_lambda=10, scale_pos_weight=1; total time=   0.1s\n",
            "[CV] END gamma=0, learning_rate=0.5, max_depth=3, reg_lambda=10, scale_pos_weight=3; total time=   0.1s\n",
            "[CV] END gamma=0, learning_rate=0.5, max_depth=3, reg_lambda=10, scale_pos_weight=3; total time=   0.1s\n",
            "[CV] END gamma=0, learning_rate=0.5, max_depth=3, reg_lambda=10, scale_pos_weight=3; total time=   0.1s\n",
            "[CV] END gamma=0, learning_rate=0.5, max_depth=3, reg_lambda=10, scale_pos_weight=5; total time=   0.1s\n",
            "[CV] END gamma=0, learning_rate=0.5, max_depth=3, reg_lambda=10, scale_pos_weight=5; total time=   0.1s\n",
            "[CV] END gamma=0, learning_rate=0.5, max_depth=3, reg_lambda=10, scale_pos_weight=5; total time=   0.1s\n",
            "[CV] END gamma=0, learning_rate=0.5, max_depth=3, reg_lambda=20, scale_pos_weight=1; total time=   0.1s\n",
            "[CV] END gamma=0, learning_rate=0.5, max_depth=3, reg_lambda=20, scale_pos_weight=1; total time=   0.1s\n",
            "[CV] END gamma=0, learning_rate=0.5, max_depth=3, reg_lambda=20, scale_pos_weight=1; total time=   0.1s\n",
            "[CV] END gamma=0, learning_rate=0.5, max_depth=3, reg_lambda=20, scale_pos_weight=3; total time=   0.1s\n",
            "[CV] END gamma=0, learning_rate=0.5, max_depth=3, reg_lambda=20, scale_pos_weight=3; total time=   0.1s\n",
            "[CV] END gamma=0, learning_rate=0.5, max_depth=3, reg_lambda=20, scale_pos_weight=3; total time=   0.1s\n",
            "[CV] END gamma=0, learning_rate=0.5, max_depth=3, reg_lambda=20, scale_pos_weight=5; total time=   0.1s\n",
            "[CV] END gamma=0, learning_rate=0.5, max_depth=3, reg_lambda=20, scale_pos_weight=5; total time=   0.1s\n",
            "[CV] END gamma=0, learning_rate=0.5, max_depth=3, reg_lambda=20, scale_pos_weight=5; total time=   0.1s\n",
            "[CV] END gamma=0, learning_rate=0.5, max_depth=4, reg_lambda=1, scale_pos_weight=1; total time=   0.1s\n",
            "[CV] END gamma=0, learning_rate=0.5, max_depth=4, reg_lambda=1, scale_pos_weight=1; total time=   0.1s\n",
            "[CV] END gamma=0, learning_rate=0.5, max_depth=4, reg_lambda=1, scale_pos_weight=1; total time=   0.1s\n",
            "[CV] END gamma=0, learning_rate=0.5, max_depth=4, reg_lambda=1, scale_pos_weight=3; total time=   0.1s\n",
            "[CV] END gamma=0, learning_rate=0.5, max_depth=4, reg_lambda=1, scale_pos_weight=3; total time=   0.1s\n",
            "[CV] END gamma=0, learning_rate=0.5, max_depth=4, reg_lambda=1, scale_pos_weight=3; total time=   0.1s\n",
            "[CV] END gamma=0, learning_rate=0.5, max_depth=4, reg_lambda=1, scale_pos_weight=5; total time=   0.1s\n",
            "[CV] END gamma=0, learning_rate=0.5, max_depth=4, reg_lambda=1, scale_pos_weight=5; total time=   0.1s\n",
            "[CV] END gamma=0, learning_rate=0.5, max_depth=4, reg_lambda=1, scale_pos_weight=5; total time=   0.1s\n",
            "[CV] END gamma=0, learning_rate=0.5, max_depth=4, reg_lambda=10, scale_pos_weight=1; total time=   0.1s\n",
            "[CV] END gamma=0, learning_rate=0.5, max_depth=4, reg_lambda=10, scale_pos_weight=1; total time=   0.1s\n",
            "[CV] END gamma=0, learning_rate=0.5, max_depth=4, reg_lambda=10, scale_pos_weight=1; total time=   0.1s\n",
            "[CV] END gamma=0, learning_rate=0.5, max_depth=4, reg_lambda=10, scale_pos_weight=3; total time=   0.1s\n",
            "[CV] END gamma=0, learning_rate=0.5, max_depth=4, reg_lambda=10, scale_pos_weight=3; total time=   0.1s\n",
            "[CV] END gamma=0, learning_rate=0.5, max_depth=4, reg_lambda=10, scale_pos_weight=3; total time=   0.1s\n",
            "[CV] END gamma=0, learning_rate=0.5, max_depth=4, reg_lambda=10, scale_pos_weight=5; total time=   0.1s\n",
            "[CV] END gamma=0, learning_rate=0.5, max_depth=4, reg_lambda=10, scale_pos_weight=5; total time=   0.1s\n",
            "[CV] END gamma=0, learning_rate=0.5, max_depth=4, reg_lambda=10, scale_pos_weight=5; total time=   0.1s\n",
            "[CV] END gamma=0, learning_rate=0.5, max_depth=4, reg_lambda=20, scale_pos_weight=1; total time=   0.1s\n",
            "[CV] END gamma=0, learning_rate=0.5, max_depth=4, reg_lambda=20, scale_pos_weight=1; total time=   0.1s\n",
            "[CV] END gamma=0, learning_rate=0.5, max_depth=4, reg_lambda=20, scale_pos_weight=1; total time=   0.1s\n",
            "[CV] END gamma=0, learning_rate=0.5, max_depth=4, reg_lambda=20, scale_pos_weight=3; total time=   0.1s\n",
            "[CV] END gamma=0, learning_rate=0.5, max_depth=4, reg_lambda=20, scale_pos_weight=3; total time=   0.1s\n",
            "[CV] END gamma=0, learning_rate=0.5, max_depth=4, reg_lambda=20, scale_pos_weight=3; total time=   0.1s\n",
            "[CV] END gamma=0, learning_rate=0.5, max_depth=4, reg_lambda=20, scale_pos_weight=5; total time=   0.1s\n",
            "[CV] END gamma=0, learning_rate=0.5, max_depth=4, reg_lambda=20, scale_pos_weight=5; total time=   0.1s\n",
            "[CV] END gamma=0, learning_rate=0.5, max_depth=4, reg_lambda=20, scale_pos_weight=5; total time=   0.1s\n",
            "[CV] END gamma=0, learning_rate=0.5, max_depth=5, reg_lambda=1, scale_pos_weight=1; total time=   0.1s\n",
            "[CV] END gamma=0, learning_rate=0.5, max_depth=5, reg_lambda=1, scale_pos_weight=1; total time=   0.1s\n",
            "[CV] END gamma=0, learning_rate=0.5, max_depth=5, reg_lambda=1, scale_pos_weight=1; total time=   0.1s\n",
            "[CV] END gamma=0, learning_rate=0.5, max_depth=5, reg_lambda=1, scale_pos_weight=3; total time=   0.1s\n",
            "[CV] END gamma=0, learning_rate=0.5, max_depth=5, reg_lambda=1, scale_pos_weight=3; total time=   0.1s\n",
            "[CV] END gamma=0, learning_rate=0.5, max_depth=5, reg_lambda=1, scale_pos_weight=3; total time=   0.1s\n",
            "[CV] END gamma=0, learning_rate=0.5, max_depth=5, reg_lambda=1, scale_pos_weight=5; total time=   0.1s\n",
            "[CV] END gamma=0, learning_rate=0.5, max_depth=5, reg_lambda=1, scale_pos_weight=5; total time=   0.1s\n",
            "[CV] END gamma=0, learning_rate=0.5, max_depth=5, reg_lambda=1, scale_pos_weight=5; total time=   0.1s\n",
            "[CV] END gamma=0, learning_rate=0.5, max_depth=5, reg_lambda=10, scale_pos_weight=1; total time=   0.1s\n",
            "[CV] END gamma=0, learning_rate=0.5, max_depth=5, reg_lambda=10, scale_pos_weight=1; total time=   0.1s\n",
            "[CV] END gamma=0, learning_rate=0.5, max_depth=5, reg_lambda=10, scale_pos_weight=1; total time=   0.1s\n",
            "[CV] END gamma=0, learning_rate=0.5, max_depth=5, reg_lambda=10, scale_pos_weight=3; total time=   0.1s\n",
            "[CV] END gamma=0, learning_rate=0.5, max_depth=5, reg_lambda=10, scale_pos_weight=3; total time=   0.1s\n",
            "[CV] END gamma=0, learning_rate=0.5, max_depth=5, reg_lambda=10, scale_pos_weight=3; total time=   0.1s\n",
            "[CV] END gamma=0, learning_rate=0.5, max_depth=5, reg_lambda=10, scale_pos_weight=5; total time=   0.1s\n",
            "[CV] END gamma=0, learning_rate=0.5, max_depth=5, reg_lambda=10, scale_pos_weight=5; total time=   0.1s\n",
            "[CV] END gamma=0, learning_rate=0.5, max_depth=5, reg_lambda=10, scale_pos_weight=5; total time=   0.1s\n",
            "[CV] END gamma=0, learning_rate=0.5, max_depth=5, reg_lambda=20, scale_pos_weight=1; total time=   0.1s\n",
            "[CV] END gamma=0, learning_rate=0.5, max_depth=5, reg_lambda=20, scale_pos_weight=1; total time=   0.1s\n",
            "[CV] END gamma=0, learning_rate=0.5, max_depth=5, reg_lambda=20, scale_pos_weight=1; total time=   0.1s\n",
            "[CV] END gamma=0, learning_rate=0.5, max_depth=5, reg_lambda=20, scale_pos_weight=3; total time=   0.1s\n",
            "[CV] END gamma=0, learning_rate=0.5, max_depth=5, reg_lambda=20, scale_pos_weight=3; total time=   0.1s\n",
            "[CV] END gamma=0, learning_rate=0.5, max_depth=5, reg_lambda=20, scale_pos_weight=3; total time=   0.1s\n",
            "[CV] END gamma=0, learning_rate=0.5, max_depth=5, reg_lambda=20, scale_pos_weight=5; total time=   0.1s\n",
            "[CV] END gamma=0, learning_rate=0.5, max_depth=5, reg_lambda=20, scale_pos_weight=5; total time=   0.1s\n",
            "[CV] END gamma=0, learning_rate=0.5, max_depth=5, reg_lambda=20, scale_pos_weight=5; total time=   0.1s\n",
            "[CV] END gamma=0, learning_rate=1.0, max_depth=3, reg_lambda=1, scale_pos_weight=1; total time=   0.1s\n",
            "[CV] END gamma=0, learning_rate=1.0, max_depth=3, reg_lambda=1, scale_pos_weight=1; total time=   0.1s\n",
            "[CV] END gamma=0, learning_rate=1.0, max_depth=3, reg_lambda=1, scale_pos_weight=1; total time=   0.1s\n",
            "[CV] END gamma=0, learning_rate=1.0, max_depth=3, reg_lambda=1, scale_pos_weight=3; total time=   0.1s\n",
            "[CV] END gamma=0, learning_rate=1.0, max_depth=3, reg_lambda=1, scale_pos_weight=3; total time=   0.1s\n",
            "[CV] END gamma=0, learning_rate=1.0, max_depth=3, reg_lambda=1, scale_pos_weight=3; total time=   0.1s\n",
            "[CV] END gamma=0, learning_rate=1.0, max_depth=3, reg_lambda=1, scale_pos_weight=5; total time=   0.1s\n",
            "[CV] END gamma=0, learning_rate=1.0, max_depth=3, reg_lambda=1, scale_pos_weight=5; total time=   0.1s\n",
            "[CV] END gamma=0, learning_rate=1.0, max_depth=3, reg_lambda=1, scale_pos_weight=5; total time=   0.1s\n",
            "[CV] END gamma=0, learning_rate=1.0, max_depth=3, reg_lambda=10, scale_pos_weight=1; total time=   0.1s\n",
            "[CV] END gamma=0, learning_rate=1.0, max_depth=3, reg_lambda=10, scale_pos_weight=1; total time=   0.1s\n",
            "[CV] END gamma=0, learning_rate=1.0, max_depth=3, reg_lambda=10, scale_pos_weight=1; total time=   0.1s\n",
            "[CV] END gamma=0, learning_rate=1.0, max_depth=3, reg_lambda=10, scale_pos_weight=3; total time=   0.1s\n",
            "[CV] END gamma=0, learning_rate=1.0, max_depth=3, reg_lambda=10, scale_pos_weight=3; total time=   0.1s\n",
            "[CV] END gamma=0, learning_rate=1.0, max_depth=3, reg_lambda=10, scale_pos_weight=3; total time=   0.1s\n",
            "[CV] END gamma=0, learning_rate=1.0, max_depth=3, reg_lambda=10, scale_pos_weight=5; total time=   0.1s\n",
            "[CV] END gamma=0, learning_rate=1.0, max_depth=3, reg_lambda=10, scale_pos_weight=5; total time=   0.1s\n",
            "[CV] END gamma=0, learning_rate=1.0, max_depth=3, reg_lambda=10, scale_pos_weight=5; total time=   0.1s\n",
            "[CV] END gamma=0, learning_rate=1.0, max_depth=3, reg_lambda=20, scale_pos_weight=1; total time=   0.1s\n",
            "[CV] END gamma=0, learning_rate=1.0, max_depth=3, reg_lambda=20, scale_pos_weight=1; total time=   0.1s\n",
            "[CV] END gamma=0, learning_rate=1.0, max_depth=3, reg_lambda=20, scale_pos_weight=1; total time=   0.1s\n",
            "[CV] END gamma=0, learning_rate=1.0, max_depth=3, reg_lambda=20, scale_pos_weight=3; total time=   0.1s\n",
            "[CV] END gamma=0, learning_rate=1.0, max_depth=3, reg_lambda=20, scale_pos_weight=3; total time=   0.1s\n",
            "[CV] END gamma=0, learning_rate=1.0, max_depth=3, reg_lambda=20, scale_pos_weight=3; total time=   0.1s\n",
            "[CV] END gamma=0, learning_rate=1.0, max_depth=3, reg_lambda=20, scale_pos_weight=5; total time=   0.1s\n",
            "[CV] END gamma=0, learning_rate=1.0, max_depth=3, reg_lambda=20, scale_pos_weight=5; total time=   0.1s\n",
            "[CV] END gamma=0, learning_rate=1.0, max_depth=3, reg_lambda=20, scale_pos_weight=5; total time=   0.1s\n",
            "[CV] END gamma=0, learning_rate=1.0, max_depth=4, reg_lambda=1, scale_pos_weight=1; total time=   0.1s\n",
            "[CV] END gamma=0, learning_rate=1.0, max_depth=4, reg_lambda=1, scale_pos_weight=1; total time=   0.1s\n",
            "[CV] END gamma=0, learning_rate=1.0, max_depth=4, reg_lambda=1, scale_pos_weight=1; total time=   0.1s\n",
            "[CV] END gamma=0, learning_rate=1.0, max_depth=4, reg_lambda=1, scale_pos_weight=3; total time=   0.1s\n",
            "[CV] END gamma=0, learning_rate=1.0, max_depth=4, reg_lambda=1, scale_pos_weight=3; total time=   0.1s\n",
            "[CV] END gamma=0, learning_rate=1.0, max_depth=4, reg_lambda=1, scale_pos_weight=3; total time=   0.1s\n",
            "[CV] END gamma=0, learning_rate=1.0, max_depth=4, reg_lambda=1, scale_pos_weight=5; total time=   0.1s\n",
            "[CV] END gamma=0, learning_rate=1.0, max_depth=4, reg_lambda=1, scale_pos_weight=5; total time=   0.1s\n",
            "[CV] END gamma=0, learning_rate=1.0, max_depth=4, reg_lambda=1, scale_pos_weight=5; total time=   0.1s\n",
            "[CV] END gamma=0, learning_rate=1.0, max_depth=4, reg_lambda=10, scale_pos_weight=1; total time=   0.1s\n",
            "[CV] END gamma=0, learning_rate=1.0, max_depth=4, reg_lambda=10, scale_pos_weight=1; total time=   0.1s\n",
            "[CV] END gamma=0, learning_rate=1.0, max_depth=4, reg_lambda=10, scale_pos_weight=1; total time=   0.1s\n",
            "[CV] END gamma=0, learning_rate=1.0, max_depth=4, reg_lambda=10, scale_pos_weight=3; total time=   0.1s\n",
            "[CV] END gamma=0, learning_rate=1.0, max_depth=4, reg_lambda=10, scale_pos_weight=3; total time=   0.1s\n",
            "[CV] END gamma=0, learning_rate=1.0, max_depth=4, reg_lambda=10, scale_pos_weight=3; total time=   0.1s\n",
            "[CV] END gamma=0, learning_rate=1.0, max_depth=4, reg_lambda=10, scale_pos_weight=5; total time=   0.1s\n",
            "[CV] END gamma=0, learning_rate=1.0, max_depth=4, reg_lambda=10, scale_pos_weight=5; total time=   0.1s\n",
            "[CV] END gamma=0, learning_rate=1.0, max_depth=4, reg_lambda=10, scale_pos_weight=5; total time=   0.1s\n",
            "[CV] END gamma=0, learning_rate=1.0, max_depth=4, reg_lambda=20, scale_pos_weight=1; total time=   0.1s\n",
            "[CV] END gamma=0, learning_rate=1.0, max_depth=4, reg_lambda=20, scale_pos_weight=1; total time=   0.1s\n",
            "[CV] END gamma=0, learning_rate=1.0, max_depth=4, reg_lambda=20, scale_pos_weight=1; total time=   0.1s\n",
            "[CV] END gamma=0, learning_rate=1.0, max_depth=4, reg_lambda=20, scale_pos_weight=3; total time=   0.1s\n",
            "[CV] END gamma=0, learning_rate=1.0, max_depth=4, reg_lambda=20, scale_pos_weight=3; total time=   0.1s\n",
            "[CV] END gamma=0, learning_rate=1.0, max_depth=4, reg_lambda=20, scale_pos_weight=3; total time=   0.1s\n",
            "[CV] END gamma=0, learning_rate=1.0, max_depth=4, reg_lambda=20, scale_pos_weight=5; total time=   0.1s\n",
            "[CV] END gamma=0, learning_rate=1.0, max_depth=4, reg_lambda=20, scale_pos_weight=5; total time=   0.1s\n",
            "[CV] END gamma=0, learning_rate=1.0, max_depth=4, reg_lambda=20, scale_pos_weight=5; total time=   0.1s\n",
            "[CV] END gamma=0, learning_rate=1.0, max_depth=5, reg_lambda=1, scale_pos_weight=1; total time=   0.1s\n",
            "[CV] END gamma=0, learning_rate=1.0, max_depth=5, reg_lambda=1, scale_pos_weight=1; total time=   0.1s\n",
            "[CV] END gamma=0, learning_rate=1.0, max_depth=5, reg_lambda=1, scale_pos_weight=1; total time=   0.1s\n",
            "[CV] END gamma=0, learning_rate=1.0, max_depth=5, reg_lambda=1, scale_pos_weight=3; total time=   0.1s\n",
            "[CV] END gamma=0, learning_rate=1.0, max_depth=5, reg_lambda=1, scale_pos_weight=3; total time=   0.1s\n",
            "[CV] END gamma=0, learning_rate=1.0, max_depth=5, reg_lambda=1, scale_pos_weight=3; total time=   0.1s\n",
            "[CV] END gamma=0, learning_rate=1.0, max_depth=5, reg_lambda=1, scale_pos_weight=5; total time=   0.1s\n",
            "[CV] END gamma=0, learning_rate=1.0, max_depth=5, reg_lambda=1, scale_pos_weight=5; total time=   0.1s\n",
            "[CV] END gamma=0, learning_rate=1.0, max_depth=5, reg_lambda=1, scale_pos_weight=5; total time=   0.1s\n",
            "[CV] END gamma=0, learning_rate=1.0, max_depth=5, reg_lambda=10, scale_pos_weight=1; total time=   0.1s\n",
            "[CV] END gamma=0, learning_rate=1.0, max_depth=5, reg_lambda=10, scale_pos_weight=1; total time=   0.1s\n",
            "[CV] END gamma=0, learning_rate=1.0, max_depth=5, reg_lambda=10, scale_pos_weight=1; total time=   0.1s\n",
            "[CV] END gamma=0, learning_rate=1.0, max_depth=5, reg_lambda=10, scale_pos_weight=3; total time=   0.1s\n",
            "[CV] END gamma=0, learning_rate=1.0, max_depth=5, reg_lambda=10, scale_pos_weight=3; total time=   0.1s\n",
            "[CV] END gamma=0, learning_rate=1.0, max_depth=5, reg_lambda=10, scale_pos_weight=3; total time=   0.1s\n",
            "[CV] END gamma=0, learning_rate=1.0, max_depth=5, reg_lambda=10, scale_pos_weight=5; total time=   0.1s\n",
            "[CV] END gamma=0, learning_rate=1.0, max_depth=5, reg_lambda=10, scale_pos_weight=5; total time=   0.1s\n",
            "[CV] END gamma=0, learning_rate=1.0, max_depth=5, reg_lambda=10, scale_pos_weight=5; total time=   0.1s\n",
            "[CV] END gamma=0, learning_rate=1.0, max_depth=5, reg_lambda=20, scale_pos_weight=1; total time=   0.1s\n",
            "[CV] END gamma=0, learning_rate=1.0, max_depth=5, reg_lambda=20, scale_pos_weight=1; total time=   0.1s\n",
            "[CV] END gamma=0, learning_rate=1.0, max_depth=5, reg_lambda=20, scale_pos_weight=1; total time=   0.1s\n",
            "[CV] END gamma=0, learning_rate=1.0, max_depth=5, reg_lambda=20, scale_pos_weight=3; total time=   0.1s\n",
            "[CV] END gamma=0, learning_rate=1.0, max_depth=5, reg_lambda=20, scale_pos_weight=3; total time=   0.1s\n",
            "[CV] END gamma=0, learning_rate=1.0, max_depth=5, reg_lambda=20, scale_pos_weight=3; total time=   0.1s\n",
            "[CV] END gamma=0, learning_rate=1.0, max_depth=5, reg_lambda=20, scale_pos_weight=5; total time=   0.1s\n",
            "[CV] END gamma=0, learning_rate=1.0, max_depth=5, reg_lambda=20, scale_pos_weight=5; total time=   0.1s\n",
            "[CV] END gamma=0, learning_rate=1.0, max_depth=5, reg_lambda=20, scale_pos_weight=5; total time=   0.1s\n",
            "[CV] END gamma=0.25, learning_rate=0.1, max_depth=3, reg_lambda=1, scale_pos_weight=1; total time=   0.2s\n",
            "[CV] END gamma=0.25, learning_rate=0.1, max_depth=3, reg_lambda=1, scale_pos_weight=1; total time=   0.2s\n",
            "[CV] END gamma=0.25, learning_rate=0.1, max_depth=3, reg_lambda=1, scale_pos_weight=1; total time=   0.2s\n",
            "[CV] END gamma=0.25, learning_rate=0.1, max_depth=3, reg_lambda=1, scale_pos_weight=3; total time=   0.2s\n",
            "[CV] END gamma=0.25, learning_rate=0.1, max_depth=3, reg_lambda=1, scale_pos_weight=3; total time=   0.2s\n",
            "[CV] END gamma=0.25, learning_rate=0.1, max_depth=3, reg_lambda=1, scale_pos_weight=3; total time=   0.2s\n",
            "[CV] END gamma=0.25, learning_rate=0.1, max_depth=3, reg_lambda=1, scale_pos_weight=5; total time=   0.2s\n",
            "[CV] END gamma=0.25, learning_rate=0.1, max_depth=3, reg_lambda=1, scale_pos_weight=5; total time=   0.2s\n",
            "[CV] END gamma=0.25, learning_rate=0.1, max_depth=3, reg_lambda=1, scale_pos_weight=5; total time=   0.2s\n",
            "[CV] END gamma=0.25, learning_rate=0.1, max_depth=3, reg_lambda=10, scale_pos_weight=1; total time=   0.2s\n",
            "[CV] END gamma=0.25, learning_rate=0.1, max_depth=3, reg_lambda=10, scale_pos_weight=1; total time=   0.3s\n",
            "[CV] END gamma=0.25, learning_rate=0.1, max_depth=3, reg_lambda=10, scale_pos_weight=1; total time=   0.2s\n",
            "[CV] END gamma=0.25, learning_rate=0.1, max_depth=3, reg_lambda=10, scale_pos_weight=3; total time=   0.2s\n",
            "[CV] END gamma=0.25, learning_rate=0.1, max_depth=3, reg_lambda=10, scale_pos_weight=3; total time=   0.2s\n",
            "[CV] END gamma=0.25, learning_rate=0.1, max_depth=3, reg_lambda=10, scale_pos_weight=3; total time=   0.3s\n",
            "[CV] END gamma=0.25, learning_rate=0.1, max_depth=3, reg_lambda=10, scale_pos_weight=5; total time=   0.2s\n",
            "[CV] END gamma=0.25, learning_rate=0.1, max_depth=3, reg_lambda=10, scale_pos_weight=5; total time=   0.2s\n",
            "[CV] END gamma=0.25, learning_rate=0.1, max_depth=3, reg_lambda=10, scale_pos_weight=5; total time=   0.2s\n",
            "[CV] END gamma=0.25, learning_rate=0.1, max_depth=3, reg_lambda=20, scale_pos_weight=1; total time=   0.2s\n",
            "[CV] END gamma=0.25, learning_rate=0.1, max_depth=3, reg_lambda=20, scale_pos_weight=1; total time=   0.3s\n",
            "[CV] END gamma=0.25, learning_rate=0.1, max_depth=3, reg_lambda=20, scale_pos_weight=1; total time=   0.3s\n",
            "[CV] END gamma=0.25, learning_rate=0.1, max_depth=3, reg_lambda=20, scale_pos_weight=3; total time=   0.2s\n",
            "[CV] END gamma=0.25, learning_rate=0.1, max_depth=3, reg_lambda=20, scale_pos_weight=3; total time=   0.3s\n",
            "[CV] END gamma=0.25, learning_rate=0.1, max_depth=3, reg_lambda=20, scale_pos_weight=3; total time=   0.2s\n",
            "[CV] END gamma=0.25, learning_rate=0.1, max_depth=3, reg_lambda=20, scale_pos_weight=5; total time=   0.2s\n",
            "[CV] END gamma=0.25, learning_rate=0.1, max_depth=3, reg_lambda=20, scale_pos_weight=5; total time=   0.3s\n",
            "[CV] END gamma=0.25, learning_rate=0.1, max_depth=3, reg_lambda=20, scale_pos_weight=5; total time=   0.2s\n",
            "[CV] END gamma=0.25, learning_rate=0.1, max_depth=4, reg_lambda=1, scale_pos_weight=1; total time=   0.2s\n",
            "[CV] END gamma=0.25, learning_rate=0.1, max_depth=4, reg_lambda=1, scale_pos_weight=1; total time=   0.2s\n",
            "[CV] END gamma=0.25, learning_rate=0.1, max_depth=4, reg_lambda=1, scale_pos_weight=1; total time=   0.2s\n",
            "[CV] END gamma=0.25, learning_rate=0.1, max_depth=4, reg_lambda=1, scale_pos_weight=3; total time=   0.2s\n",
            "[CV] END gamma=0.25, learning_rate=0.1, max_depth=4, reg_lambda=1, scale_pos_weight=3; total time=   0.2s\n",
            "[CV] END gamma=0.25, learning_rate=0.1, max_depth=4, reg_lambda=1, scale_pos_weight=3; total time=   0.2s\n",
            "[CV] END gamma=0.25, learning_rate=0.1, max_depth=4, reg_lambda=1, scale_pos_weight=5; total time=   0.2s\n",
            "[CV] END gamma=0.25, learning_rate=0.1, max_depth=4, reg_lambda=1, scale_pos_weight=5; total time=   0.2s\n",
            "[CV] END gamma=0.25, learning_rate=0.1, max_depth=4, reg_lambda=1, scale_pos_weight=5; total time=   0.2s\n",
            "[CV] END gamma=0.25, learning_rate=0.1, max_depth=4, reg_lambda=10, scale_pos_weight=1; total time=   0.2s\n",
            "[CV] END gamma=0.25, learning_rate=0.1, max_depth=4, reg_lambda=10, scale_pos_weight=1; total time=   0.2s\n",
            "[CV] END gamma=0.25, learning_rate=0.1, max_depth=4, reg_lambda=10, scale_pos_weight=1; total time=   0.3s\n",
            "[CV] END gamma=0.25, learning_rate=0.1, max_depth=4, reg_lambda=10, scale_pos_weight=3; total time=   0.2s\n",
            "[CV] END gamma=0.25, learning_rate=0.1, max_depth=4, reg_lambda=10, scale_pos_weight=3; total time=   0.2s\n",
            "[CV] END gamma=0.25, learning_rate=0.1, max_depth=4, reg_lambda=10, scale_pos_weight=3; total time=   0.2s\n",
            "[CV] END gamma=0.25, learning_rate=0.1, max_depth=4, reg_lambda=10, scale_pos_weight=5; total time=   0.2s\n",
            "[CV] END gamma=0.25, learning_rate=0.1, max_depth=4, reg_lambda=10, scale_pos_weight=5; total time=   0.2s\n",
            "[CV] END gamma=0.25, learning_rate=0.1, max_depth=4, reg_lambda=10, scale_pos_weight=5; total time=   0.2s\n",
            "[CV] END gamma=0.25, learning_rate=0.1, max_depth=4, reg_lambda=20, scale_pos_weight=1; total time=   0.3s\n",
            "[CV] END gamma=0.25, learning_rate=0.1, max_depth=4, reg_lambda=20, scale_pos_weight=1; total time=   0.3s\n",
            "[CV] END gamma=0.25, learning_rate=0.1, max_depth=4, reg_lambda=20, scale_pos_weight=1; total time=   0.3s\n",
            "[CV] END gamma=0.25, learning_rate=0.1, max_depth=4, reg_lambda=20, scale_pos_weight=3; total time=   0.2s\n",
            "[CV] END gamma=0.25, learning_rate=0.1, max_depth=4, reg_lambda=20, scale_pos_weight=3; total time=   0.2s\n",
            "[CV] END gamma=0.25, learning_rate=0.1, max_depth=4, reg_lambda=20, scale_pos_weight=3; total time=   0.2s\n",
            "[CV] END gamma=0.25, learning_rate=0.1, max_depth=4, reg_lambda=20, scale_pos_weight=5; total time=   0.2s\n",
            "[CV] END gamma=0.25, learning_rate=0.1, max_depth=4, reg_lambda=20, scale_pos_weight=5; total time=   0.2s\n",
            "[CV] END gamma=0.25, learning_rate=0.1, max_depth=4, reg_lambda=20, scale_pos_weight=5; total time=   0.2s\n",
            "[CV] END gamma=0.25, learning_rate=0.1, max_depth=5, reg_lambda=1, scale_pos_weight=1; total time=   0.2s\n",
            "[CV] END gamma=0.25, learning_rate=0.1, max_depth=5, reg_lambda=1, scale_pos_weight=1; total time=   0.1s\n",
            "[CV] END gamma=0.25, learning_rate=0.1, max_depth=5, reg_lambda=1, scale_pos_weight=1; total time=   0.2s\n",
            "[CV] END gamma=0.25, learning_rate=0.1, max_depth=5, reg_lambda=1, scale_pos_weight=3; total time=   0.2s\n",
            "[CV] END gamma=0.25, learning_rate=0.1, max_depth=5, reg_lambda=1, scale_pos_weight=3; total time=   0.1s\n",
            "[CV] END gamma=0.25, learning_rate=0.1, max_depth=5, reg_lambda=1, scale_pos_weight=3; total time=   0.3s\n",
            "[CV] END gamma=0.25, learning_rate=0.1, max_depth=5, reg_lambda=1, scale_pos_weight=5; total time=   0.2s\n",
            "[CV] END gamma=0.25, learning_rate=0.1, max_depth=5, reg_lambda=1, scale_pos_weight=5; total time=   0.2s\n",
            "[CV] END gamma=0.25, learning_rate=0.1, max_depth=5, reg_lambda=1, scale_pos_weight=5; total time=   0.1s\n",
            "[CV] END gamma=0.25, learning_rate=0.1, max_depth=5, reg_lambda=10, scale_pos_weight=1; total time=   0.3s\n",
            "[CV] END gamma=0.25, learning_rate=0.1, max_depth=5, reg_lambda=10, scale_pos_weight=1; total time=   0.3s\n",
            "[CV] END gamma=0.25, learning_rate=0.1, max_depth=5, reg_lambda=10, scale_pos_weight=1; total time=   0.3s\n",
            "[CV] END gamma=0.25, learning_rate=0.1, max_depth=5, reg_lambda=10, scale_pos_weight=3; total time=   0.2s\n",
            "[CV] END gamma=0.25, learning_rate=0.1, max_depth=5, reg_lambda=10, scale_pos_weight=3; total time=   0.2s\n",
            "[CV] END gamma=0.25, learning_rate=0.1, max_depth=5, reg_lambda=10, scale_pos_weight=3; total time=   0.2s\n",
            "[CV] END gamma=0.25, learning_rate=0.1, max_depth=5, reg_lambda=10, scale_pos_weight=5; total time=   0.2s\n",
            "[CV] END gamma=0.25, learning_rate=0.1, max_depth=5, reg_lambda=10, scale_pos_weight=5; total time=   0.2s\n",
            "[CV] END gamma=0.25, learning_rate=0.1, max_depth=5, reg_lambda=10, scale_pos_weight=5; total time=   0.2s\n",
            "[CV] END gamma=0.25, learning_rate=0.1, max_depth=5, reg_lambda=20, scale_pos_weight=1; total time=   0.3s\n",
            "[CV] END gamma=0.25, learning_rate=0.1, max_depth=5, reg_lambda=20, scale_pos_weight=1; total time=   0.3s\n",
            "[CV] END gamma=0.25, learning_rate=0.1, max_depth=5, reg_lambda=20, scale_pos_weight=1; total time=   0.3s\n",
            "[CV] END gamma=0.25, learning_rate=0.1, max_depth=5, reg_lambda=20, scale_pos_weight=3; total time=   0.3s\n",
            "[CV] END gamma=0.25, learning_rate=0.1, max_depth=5, reg_lambda=20, scale_pos_weight=3; total time=   0.3s\n",
            "[CV] END gamma=0.25, learning_rate=0.1, max_depth=5, reg_lambda=20, scale_pos_weight=3; total time=   0.2s\n",
            "[CV] END gamma=0.25, learning_rate=0.1, max_depth=5, reg_lambda=20, scale_pos_weight=5; total time=   0.2s\n",
            "[CV] END gamma=0.25, learning_rate=0.1, max_depth=5, reg_lambda=20, scale_pos_weight=5; total time=   0.2s\n",
            "[CV] END gamma=0.25, learning_rate=0.1, max_depth=5, reg_lambda=20, scale_pos_weight=5; total time=   0.3s\n",
            "[CV] END gamma=0.25, learning_rate=0.5, max_depth=3, reg_lambda=1, scale_pos_weight=1; total time=   0.1s\n",
            "[CV] END gamma=0.25, learning_rate=0.5, max_depth=3, reg_lambda=1, scale_pos_weight=1; total time=   0.1s\n",
            "[CV] END gamma=0.25, learning_rate=0.5, max_depth=3, reg_lambda=1, scale_pos_weight=1; total time=   0.1s\n",
            "[CV] END gamma=0.25, learning_rate=0.5, max_depth=3, reg_lambda=1, scale_pos_weight=3; total time=   0.1s\n",
            "[CV] END gamma=0.25, learning_rate=0.5, max_depth=3, reg_lambda=1, scale_pos_weight=3; total time=   0.1s\n",
            "[CV] END gamma=0.25, learning_rate=0.5, max_depth=3, reg_lambda=1, scale_pos_weight=3; total time=   0.1s\n",
            "[CV] END gamma=0.25, learning_rate=0.5, max_depth=3, reg_lambda=1, scale_pos_weight=5; total time=   0.1s\n",
            "[CV] END gamma=0.25, learning_rate=0.5, max_depth=3, reg_lambda=1, scale_pos_weight=5; total time=   0.1s\n",
            "[CV] END gamma=0.25, learning_rate=0.5, max_depth=3, reg_lambda=1, scale_pos_weight=5; total time=   0.1s\n",
            "[CV] END gamma=0.25, learning_rate=0.5, max_depth=3, reg_lambda=10, scale_pos_weight=1; total time=   0.1s\n",
            "[CV] END gamma=0.25, learning_rate=0.5, max_depth=3, reg_lambda=10, scale_pos_weight=1; total time=   0.1s\n",
            "[CV] END gamma=0.25, learning_rate=0.5, max_depth=3, reg_lambda=10, scale_pos_weight=1; total time=   0.1s\n",
            "[CV] END gamma=0.25, learning_rate=0.5, max_depth=3, reg_lambda=10, scale_pos_weight=3; total time=   0.1s\n",
            "[CV] END gamma=0.25, learning_rate=0.5, max_depth=3, reg_lambda=10, scale_pos_weight=3; total time=   0.1s\n",
            "[CV] END gamma=0.25, learning_rate=0.5, max_depth=3, reg_lambda=10, scale_pos_weight=3; total time=   0.1s\n",
            "[CV] END gamma=0.25, learning_rate=0.5, max_depth=3, reg_lambda=10, scale_pos_weight=5; total time=   0.1s\n",
            "[CV] END gamma=0.25, learning_rate=0.5, max_depth=3, reg_lambda=10, scale_pos_weight=5; total time=   0.1s\n",
            "[CV] END gamma=0.25, learning_rate=0.5, max_depth=3, reg_lambda=10, scale_pos_weight=5; total time=   0.1s\n",
            "[CV] END gamma=0.25, learning_rate=0.5, max_depth=3, reg_lambda=20, scale_pos_weight=1; total time=   0.1s\n",
            "[CV] END gamma=0.25, learning_rate=0.5, max_depth=3, reg_lambda=20, scale_pos_weight=1; total time=   0.1s\n",
            "[CV] END gamma=0.25, learning_rate=0.5, max_depth=3, reg_lambda=20, scale_pos_weight=1; total time=   0.1s\n",
            "[CV] END gamma=0.25, learning_rate=0.5, max_depth=3, reg_lambda=20, scale_pos_weight=3; total time=   0.1s\n",
            "[CV] END gamma=0.25, learning_rate=0.5, max_depth=3, reg_lambda=20, scale_pos_weight=3; total time=   0.1s\n",
            "[CV] END gamma=0.25, learning_rate=0.5, max_depth=3, reg_lambda=20, scale_pos_weight=3; total time=   0.1s\n",
            "[CV] END gamma=0.25, learning_rate=0.5, max_depth=3, reg_lambda=20, scale_pos_weight=5; total time=   0.1s\n",
            "[CV] END gamma=0.25, learning_rate=0.5, max_depth=3, reg_lambda=20, scale_pos_weight=5; total time=   0.1s\n",
            "[CV] END gamma=0.25, learning_rate=0.5, max_depth=3, reg_lambda=20, scale_pos_weight=5; total time=   0.1s\n",
            "[CV] END gamma=0.25, learning_rate=0.5, max_depth=4, reg_lambda=1, scale_pos_weight=1; total time=   0.1s\n",
            "[CV] END gamma=0.25, learning_rate=0.5, max_depth=4, reg_lambda=1, scale_pos_weight=1; total time=   0.1s\n",
            "[CV] END gamma=0.25, learning_rate=0.5, max_depth=4, reg_lambda=1, scale_pos_weight=1; total time=   0.1s\n",
            "[CV] END gamma=0.25, learning_rate=0.5, max_depth=4, reg_lambda=1, scale_pos_weight=3; total time=   0.1s\n",
            "[CV] END gamma=0.25, learning_rate=0.5, max_depth=4, reg_lambda=1, scale_pos_weight=3; total time=   0.1s\n",
            "[CV] END gamma=0.25, learning_rate=0.5, max_depth=4, reg_lambda=1, scale_pos_weight=3; total time=   0.1s\n",
            "[CV] END gamma=0.25, learning_rate=0.5, max_depth=4, reg_lambda=1, scale_pos_weight=5; total time=   0.1s\n",
            "[CV] END gamma=0.25, learning_rate=0.5, max_depth=4, reg_lambda=1, scale_pos_weight=5; total time=   0.1s\n",
            "[CV] END gamma=0.25, learning_rate=0.5, max_depth=4, reg_lambda=1, scale_pos_weight=5; total time=   0.1s\n",
            "[CV] END gamma=0.25, learning_rate=0.5, max_depth=4, reg_lambda=10, scale_pos_weight=1; total time=   0.1s\n",
            "[CV] END gamma=0.25, learning_rate=0.5, max_depth=4, reg_lambda=10, scale_pos_weight=1; total time=   0.1s\n",
            "[CV] END gamma=0.25, learning_rate=0.5, max_depth=4, reg_lambda=10, scale_pos_weight=1; total time=   0.1s\n",
            "[CV] END gamma=0.25, learning_rate=0.5, max_depth=4, reg_lambda=10, scale_pos_weight=3; total time=   0.1s\n",
            "[CV] END gamma=0.25, learning_rate=0.5, max_depth=4, reg_lambda=10, scale_pos_weight=3; total time=   0.1s\n",
            "[CV] END gamma=0.25, learning_rate=0.5, max_depth=4, reg_lambda=10, scale_pos_weight=3; total time=   0.1s\n",
            "[CV] END gamma=0.25, learning_rate=0.5, max_depth=4, reg_lambda=10, scale_pos_weight=5; total time=   0.1s\n",
            "[CV] END gamma=0.25, learning_rate=0.5, max_depth=4, reg_lambda=10, scale_pos_weight=5; total time=   0.1s\n",
            "[CV] END gamma=0.25, learning_rate=0.5, max_depth=4, reg_lambda=10, scale_pos_weight=5; total time=   0.1s\n",
            "[CV] END gamma=0.25, learning_rate=0.5, max_depth=4, reg_lambda=20, scale_pos_weight=1; total time=   0.1s\n",
            "[CV] END gamma=0.25, learning_rate=0.5, max_depth=4, reg_lambda=20, scale_pos_weight=1; total time=   0.1s\n",
            "[CV] END gamma=0.25, learning_rate=0.5, max_depth=4, reg_lambda=20, scale_pos_weight=1; total time=   0.1s\n",
            "[CV] END gamma=0.25, learning_rate=0.5, max_depth=4, reg_lambda=20, scale_pos_weight=3; total time=   0.1s\n",
            "[CV] END gamma=0.25, learning_rate=0.5, max_depth=4, reg_lambda=20, scale_pos_weight=3; total time=   0.1s\n",
            "[CV] END gamma=0.25, learning_rate=0.5, max_depth=4, reg_lambda=20, scale_pos_weight=3; total time=   0.1s\n",
            "[CV] END gamma=0.25, learning_rate=0.5, max_depth=4, reg_lambda=20, scale_pos_weight=5; total time=   0.1s\n",
            "[CV] END gamma=0.25, learning_rate=0.5, max_depth=4, reg_lambda=20, scale_pos_weight=5; total time=   0.1s\n",
            "[CV] END gamma=0.25, learning_rate=0.5, max_depth=4, reg_lambda=20, scale_pos_weight=5; total time=   0.1s\n",
            "[CV] END gamma=0.25, learning_rate=0.5, max_depth=5, reg_lambda=1, scale_pos_weight=1; total time=   0.1s\n",
            "[CV] END gamma=0.25, learning_rate=0.5, max_depth=5, reg_lambda=1, scale_pos_weight=1; total time=   0.1s\n",
            "[CV] END gamma=0.25, learning_rate=0.5, max_depth=5, reg_lambda=1, scale_pos_weight=1; total time=   0.1s\n",
            "[CV] END gamma=0.25, learning_rate=0.5, max_depth=5, reg_lambda=1, scale_pos_weight=3; total time=   0.1s\n",
            "[CV] END gamma=0.25, learning_rate=0.5, max_depth=5, reg_lambda=1, scale_pos_weight=3; total time=   0.1s\n",
            "[CV] END gamma=0.25, learning_rate=0.5, max_depth=5, reg_lambda=1, scale_pos_weight=3; total time=   0.1s\n",
            "[CV] END gamma=0.25, learning_rate=0.5, max_depth=5, reg_lambda=1, scale_pos_weight=5; total time=   0.1s\n",
            "[CV] END gamma=0.25, learning_rate=0.5, max_depth=5, reg_lambda=1, scale_pos_weight=5; total time=   0.1s\n",
            "[CV] END gamma=0.25, learning_rate=0.5, max_depth=5, reg_lambda=1, scale_pos_weight=5; total time=   0.1s\n",
            "[CV] END gamma=0.25, learning_rate=0.5, max_depth=5, reg_lambda=10, scale_pos_weight=1; total time=   0.1s\n",
            "[CV] END gamma=0.25, learning_rate=0.5, max_depth=5, reg_lambda=10, scale_pos_weight=1; total time=   0.1s\n",
            "[CV] END gamma=0.25, learning_rate=0.5, max_depth=5, reg_lambda=10, scale_pos_weight=1; total time=   0.1s\n",
            "[CV] END gamma=0.25, learning_rate=0.5, max_depth=5, reg_lambda=10, scale_pos_weight=3; total time=   0.1s\n",
            "[CV] END gamma=0.25, learning_rate=0.5, max_depth=5, reg_lambda=10, scale_pos_weight=3; total time=   0.1s\n",
            "[CV] END gamma=0.25, learning_rate=0.5, max_depth=5, reg_lambda=10, scale_pos_weight=3; total time=   0.1s\n",
            "[CV] END gamma=0.25, learning_rate=0.5, max_depth=5, reg_lambda=10, scale_pos_weight=5; total time=   0.1s\n",
            "[CV] END gamma=0.25, learning_rate=0.5, max_depth=5, reg_lambda=10, scale_pos_weight=5; total time=   0.1s\n",
            "[CV] END gamma=0.25, learning_rate=0.5, max_depth=5, reg_lambda=10, scale_pos_weight=5; total time=   0.1s\n",
            "[CV] END gamma=0.25, learning_rate=0.5, max_depth=5, reg_lambda=20, scale_pos_weight=1; total time=   0.1s\n",
            "[CV] END gamma=0.25, learning_rate=0.5, max_depth=5, reg_lambda=20, scale_pos_weight=1; total time=   0.1s\n",
            "[CV] END gamma=0.25, learning_rate=0.5, max_depth=5, reg_lambda=20, scale_pos_weight=1; total time=   0.1s\n",
            "[CV] END gamma=0.25, learning_rate=0.5, max_depth=5, reg_lambda=20, scale_pos_weight=3; total time=   0.1s\n",
            "[CV] END gamma=0.25, learning_rate=0.5, max_depth=5, reg_lambda=20, scale_pos_weight=3; total time=   0.1s\n",
            "[CV] END gamma=0.25, learning_rate=0.5, max_depth=5, reg_lambda=20, scale_pos_weight=3; total time=   0.1s\n",
            "[CV] END gamma=0.25, learning_rate=0.5, max_depth=5, reg_lambda=20, scale_pos_weight=5; total time=   0.1s\n",
            "[CV] END gamma=0.25, learning_rate=0.5, max_depth=5, reg_lambda=20, scale_pos_weight=5; total time=   0.1s\n",
            "[CV] END gamma=0.25, learning_rate=0.5, max_depth=5, reg_lambda=20, scale_pos_weight=5; total time=   0.1s\n",
            "[CV] END gamma=0.25, learning_rate=1.0, max_depth=3, reg_lambda=1, scale_pos_weight=1; total time=   0.1s\n",
            "[CV] END gamma=0.25, learning_rate=1.0, max_depth=3, reg_lambda=1, scale_pos_weight=1; total time=   0.1s\n",
            "[CV] END gamma=0.25, learning_rate=1.0, max_depth=3, reg_lambda=1, scale_pos_weight=1; total time=   0.1s\n",
            "[CV] END gamma=0.25, learning_rate=1.0, max_depth=3, reg_lambda=1, scale_pos_weight=3; total time=   0.1s\n",
            "[CV] END gamma=0.25, learning_rate=1.0, max_depth=3, reg_lambda=1, scale_pos_weight=3; total time=   0.1s\n",
            "[CV] END gamma=0.25, learning_rate=1.0, max_depth=3, reg_lambda=1, scale_pos_weight=3; total time=   0.1s\n",
            "[CV] END gamma=0.25, learning_rate=1.0, max_depth=3, reg_lambda=1, scale_pos_weight=5; total time=   0.1s\n",
            "[CV] END gamma=0.25, learning_rate=1.0, max_depth=3, reg_lambda=1, scale_pos_weight=5; total time=   0.1s\n",
            "[CV] END gamma=0.25, learning_rate=1.0, max_depth=3, reg_lambda=1, scale_pos_weight=5; total time=   0.1s\n",
            "[CV] END gamma=0.25, learning_rate=1.0, max_depth=3, reg_lambda=10, scale_pos_weight=1; total time=   0.1s\n",
            "[CV] END gamma=0.25, learning_rate=1.0, max_depth=3, reg_lambda=10, scale_pos_weight=1; total time=   0.1s\n",
            "[CV] END gamma=0.25, learning_rate=1.0, max_depth=3, reg_lambda=10, scale_pos_weight=1; total time=   0.1s\n",
            "[CV] END gamma=0.25, learning_rate=1.0, max_depth=3, reg_lambda=10, scale_pos_weight=3; total time=   0.1s\n",
            "[CV] END gamma=0.25, learning_rate=1.0, max_depth=3, reg_lambda=10, scale_pos_weight=3; total time=   0.1s\n",
            "[CV] END gamma=0.25, learning_rate=1.0, max_depth=3, reg_lambda=10, scale_pos_weight=3; total time=   0.1s\n",
            "[CV] END gamma=0.25, learning_rate=1.0, max_depth=3, reg_lambda=10, scale_pos_weight=5; total time=   0.1s\n",
            "[CV] END gamma=0.25, learning_rate=1.0, max_depth=3, reg_lambda=10, scale_pos_weight=5; total time=   0.1s\n",
            "[CV] END gamma=0.25, learning_rate=1.0, max_depth=3, reg_lambda=10, scale_pos_weight=5; total time=   0.1s\n",
            "[CV] END gamma=0.25, learning_rate=1.0, max_depth=3, reg_lambda=20, scale_pos_weight=1; total time=   0.1s\n",
            "[CV] END gamma=0.25, learning_rate=1.0, max_depth=3, reg_lambda=20, scale_pos_weight=1; total time=   0.1s\n",
            "[CV] END gamma=0.25, learning_rate=1.0, max_depth=3, reg_lambda=20, scale_pos_weight=1; total time=   0.1s\n",
            "[CV] END gamma=0.25, learning_rate=1.0, max_depth=3, reg_lambda=20, scale_pos_weight=3; total time=   0.1s\n",
            "[CV] END gamma=0.25, learning_rate=1.0, max_depth=3, reg_lambda=20, scale_pos_weight=3; total time=   0.1s\n",
            "[CV] END gamma=0.25, learning_rate=1.0, max_depth=3, reg_lambda=20, scale_pos_weight=3; total time=   0.1s\n",
            "[CV] END gamma=0.25, learning_rate=1.0, max_depth=3, reg_lambda=20, scale_pos_weight=5; total time=   0.1s\n",
            "[CV] END gamma=0.25, learning_rate=1.0, max_depth=3, reg_lambda=20, scale_pos_weight=5; total time=   0.1s\n",
            "[CV] END gamma=0.25, learning_rate=1.0, max_depth=3, reg_lambda=20, scale_pos_weight=5; total time=   0.1s\n",
            "[CV] END gamma=0.25, learning_rate=1.0, max_depth=4, reg_lambda=1, scale_pos_weight=1; total time=   0.1s\n",
            "[CV] END gamma=0.25, learning_rate=1.0, max_depth=4, reg_lambda=1, scale_pos_weight=1; total time=   0.1s\n",
            "[CV] END gamma=0.25, learning_rate=1.0, max_depth=4, reg_lambda=1, scale_pos_weight=1; total time=   0.1s\n",
            "[CV] END gamma=0.25, learning_rate=1.0, max_depth=4, reg_lambda=1, scale_pos_weight=3; total time=   0.1s\n",
            "[CV] END gamma=0.25, learning_rate=1.0, max_depth=4, reg_lambda=1, scale_pos_weight=3; total time=   0.1s\n",
            "[CV] END gamma=0.25, learning_rate=1.0, max_depth=4, reg_lambda=1, scale_pos_weight=3; total time=   0.1s\n",
            "[CV] END gamma=0.25, learning_rate=1.0, max_depth=4, reg_lambda=1, scale_pos_weight=5; total time=   0.1s\n",
            "[CV] END gamma=0.25, learning_rate=1.0, max_depth=4, reg_lambda=1, scale_pos_weight=5; total time=   0.1s\n",
            "[CV] END gamma=0.25, learning_rate=1.0, max_depth=4, reg_lambda=1, scale_pos_weight=5; total time=   0.1s\n",
            "[CV] END gamma=0.25, learning_rate=1.0, max_depth=4, reg_lambda=10, scale_pos_weight=1; total time=   0.1s\n",
            "[CV] END gamma=0.25, learning_rate=1.0, max_depth=4, reg_lambda=10, scale_pos_weight=1; total time=   0.1s\n",
            "[CV] END gamma=0.25, learning_rate=1.0, max_depth=4, reg_lambda=10, scale_pos_weight=1; total time=   0.1s\n",
            "[CV] END gamma=0.25, learning_rate=1.0, max_depth=4, reg_lambda=10, scale_pos_weight=3; total time=   0.1s\n",
            "[CV] END gamma=0.25, learning_rate=1.0, max_depth=4, reg_lambda=10, scale_pos_weight=3; total time=   0.1s\n",
            "[CV] END gamma=0.25, learning_rate=1.0, max_depth=4, reg_lambda=10, scale_pos_weight=3; total time=   0.1s\n",
            "[CV] END gamma=0.25, learning_rate=1.0, max_depth=4, reg_lambda=10, scale_pos_weight=5; total time=   0.1s\n",
            "[CV] END gamma=0.25, learning_rate=1.0, max_depth=4, reg_lambda=10, scale_pos_weight=5; total time=   0.1s\n",
            "[CV] END gamma=0.25, learning_rate=1.0, max_depth=4, reg_lambda=10, scale_pos_weight=5; total time=   0.1s\n",
            "[CV] END gamma=0.25, learning_rate=1.0, max_depth=4, reg_lambda=20, scale_pos_weight=1; total time=   0.1s\n",
            "[CV] END gamma=0.25, learning_rate=1.0, max_depth=4, reg_lambda=20, scale_pos_weight=1; total time=   0.1s\n",
            "[CV] END gamma=0.25, learning_rate=1.0, max_depth=4, reg_lambda=20, scale_pos_weight=1; total time=   0.1s\n",
            "[CV] END gamma=0.25, learning_rate=1.0, max_depth=4, reg_lambda=20, scale_pos_weight=3; total time=   0.1s\n",
            "[CV] END gamma=0.25, learning_rate=1.0, max_depth=4, reg_lambda=20, scale_pos_weight=3; total time=   0.1s\n",
            "[CV] END gamma=0.25, learning_rate=1.0, max_depth=4, reg_lambda=20, scale_pos_weight=3; total time=   0.1s\n",
            "[CV] END gamma=0.25, learning_rate=1.0, max_depth=4, reg_lambda=20, scale_pos_weight=5; total time=   0.1s\n",
            "[CV] END gamma=0.25, learning_rate=1.0, max_depth=4, reg_lambda=20, scale_pos_weight=5; total time=   0.1s\n",
            "[CV] END gamma=0.25, learning_rate=1.0, max_depth=4, reg_lambda=20, scale_pos_weight=5; total time=   0.1s\n",
            "[CV] END gamma=0.25, learning_rate=1.0, max_depth=5, reg_lambda=1, scale_pos_weight=1; total time=   0.1s\n",
            "[CV] END gamma=0.25, learning_rate=1.0, max_depth=5, reg_lambda=1, scale_pos_weight=1; total time=   0.1s\n",
            "[CV] END gamma=0.25, learning_rate=1.0, max_depth=5, reg_lambda=1, scale_pos_weight=1; total time=   0.1s\n",
            "[CV] END gamma=0.25, learning_rate=1.0, max_depth=5, reg_lambda=1, scale_pos_weight=3; total time=   0.1s\n",
            "[CV] END gamma=0.25, learning_rate=1.0, max_depth=5, reg_lambda=1, scale_pos_weight=3; total time=   0.1s\n",
            "[CV] END gamma=0.25, learning_rate=1.0, max_depth=5, reg_lambda=1, scale_pos_weight=3; total time=   0.1s\n",
            "[CV] END gamma=0.25, learning_rate=1.0, max_depth=5, reg_lambda=1, scale_pos_weight=5; total time=   0.1s\n",
            "[CV] END gamma=0.25, learning_rate=1.0, max_depth=5, reg_lambda=1, scale_pos_weight=5; total time=   0.1s\n",
            "[CV] END gamma=0.25, learning_rate=1.0, max_depth=5, reg_lambda=1, scale_pos_weight=5; total time=   0.1s\n",
            "[CV] END gamma=0.25, learning_rate=1.0, max_depth=5, reg_lambda=10, scale_pos_weight=1; total time=   0.1s\n",
            "[CV] END gamma=0.25, learning_rate=1.0, max_depth=5, reg_lambda=10, scale_pos_weight=1; total time=   0.1s\n",
            "[CV] END gamma=0.25, learning_rate=1.0, max_depth=5, reg_lambda=10, scale_pos_weight=1; total time=   0.1s\n",
            "[CV] END gamma=0.25, learning_rate=1.0, max_depth=5, reg_lambda=10, scale_pos_weight=3; total time=   0.1s\n",
            "[CV] END gamma=0.25, learning_rate=1.0, max_depth=5, reg_lambda=10, scale_pos_weight=3; total time=   0.1s\n",
            "[CV] END gamma=0.25, learning_rate=1.0, max_depth=5, reg_lambda=10, scale_pos_weight=3; total time=   0.1s\n",
            "[CV] END gamma=0.25, learning_rate=1.0, max_depth=5, reg_lambda=10, scale_pos_weight=5; total time=   0.1s\n",
            "[CV] END gamma=0.25, learning_rate=1.0, max_depth=5, reg_lambda=10, scale_pos_weight=5; total time=   0.1s\n",
            "[CV] END gamma=0.25, learning_rate=1.0, max_depth=5, reg_lambda=10, scale_pos_weight=5; total time=   0.1s\n",
            "[CV] END gamma=0.25, learning_rate=1.0, max_depth=5, reg_lambda=20, scale_pos_weight=1; total time=   0.1s\n",
            "[CV] END gamma=0.25, learning_rate=1.0, max_depth=5, reg_lambda=20, scale_pos_weight=1; total time=   0.1s\n",
            "[CV] END gamma=0.25, learning_rate=1.0, max_depth=5, reg_lambda=20, scale_pos_weight=1; total time=   0.1s\n",
            "[CV] END gamma=0.25, learning_rate=1.0, max_depth=5, reg_lambda=20, scale_pos_weight=3; total time=   0.1s\n",
            "[CV] END gamma=0.25, learning_rate=1.0, max_depth=5, reg_lambda=20, scale_pos_weight=3; total time=   0.1s\n",
            "[CV] END gamma=0.25, learning_rate=1.0, max_depth=5, reg_lambda=20, scale_pos_weight=3; total time=   0.1s\n",
            "[CV] END gamma=0.25, learning_rate=1.0, max_depth=5, reg_lambda=20, scale_pos_weight=5; total time=   0.1s\n",
            "[CV] END gamma=0.25, learning_rate=1.0, max_depth=5, reg_lambda=20, scale_pos_weight=5; total time=   0.1s\n",
            "[CV] END gamma=0.25, learning_rate=1.0, max_depth=5, reg_lambda=20, scale_pos_weight=5; total time=   0.1s\n",
            "[CV] END gamma=1.0, learning_rate=0.1, max_depth=3, reg_lambda=1, scale_pos_weight=1; total time=   0.2s\n",
            "[CV] END gamma=1.0, learning_rate=0.1, max_depth=3, reg_lambda=1, scale_pos_weight=1; total time=   0.2s\n",
            "[CV] END gamma=1.0, learning_rate=0.1, max_depth=3, reg_lambda=1, scale_pos_weight=1; total time=   0.2s\n",
            "[CV] END gamma=1.0, learning_rate=0.1, max_depth=3, reg_lambda=1, scale_pos_weight=3; total time=   0.2s\n",
            "[CV] END gamma=1.0, learning_rate=0.1, max_depth=3, reg_lambda=1, scale_pos_weight=3; total time=   0.2s\n",
            "[CV] END gamma=1.0, learning_rate=0.1, max_depth=3, reg_lambda=1, scale_pos_weight=3; total time=   0.2s\n",
            "[CV] END gamma=1.0, learning_rate=0.1, max_depth=3, reg_lambda=1, scale_pos_weight=5; total time=   0.2s\n",
            "[CV] END gamma=1.0, learning_rate=0.1, max_depth=3, reg_lambda=1, scale_pos_weight=5; total time=   0.2s\n",
            "[CV] END gamma=1.0, learning_rate=0.1, max_depth=3, reg_lambda=1, scale_pos_weight=5; total time=   0.2s\n",
            "[CV] END gamma=1.0, learning_rate=0.1, max_depth=3, reg_lambda=10, scale_pos_weight=1; total time=   0.2s\n",
            "[CV] END gamma=1.0, learning_rate=0.1, max_depth=3, reg_lambda=10, scale_pos_weight=1; total time=   0.3s\n",
            "[CV] END gamma=1.0, learning_rate=0.1, max_depth=3, reg_lambda=10, scale_pos_weight=1; total time=   0.2s\n",
            "[CV] END gamma=1.0, learning_rate=0.1, max_depth=3, reg_lambda=10, scale_pos_weight=3; total time=   0.2s\n",
            "[CV] END gamma=1.0, learning_rate=0.1, max_depth=3, reg_lambda=10, scale_pos_weight=3; total time=   0.3s\n",
            "[CV] END gamma=1.0, learning_rate=0.1, max_depth=3, reg_lambda=10, scale_pos_weight=3; total time=   0.2s\n",
            "[CV] END gamma=1.0, learning_rate=0.1, max_depth=3, reg_lambda=10, scale_pos_weight=5; total time=   0.2s\n",
            "[CV] END gamma=1.0, learning_rate=0.1, max_depth=3, reg_lambda=10, scale_pos_weight=5; total time=   0.2s\n",
            "[CV] END gamma=1.0, learning_rate=0.1, max_depth=3, reg_lambda=10, scale_pos_weight=5; total time=   0.2s\n",
            "[CV] END gamma=1.0, learning_rate=0.1, max_depth=3, reg_lambda=20, scale_pos_weight=1; total time=   0.3s\n",
            "[CV] END gamma=1.0, learning_rate=0.1, max_depth=3, reg_lambda=20, scale_pos_weight=1; total time=   0.3s\n",
            "[CV] END gamma=1.0, learning_rate=0.1, max_depth=3, reg_lambda=20, scale_pos_weight=1; total time=   0.3s\n",
            "[CV] END gamma=1.0, learning_rate=0.1, max_depth=3, reg_lambda=20, scale_pos_weight=3; total time=   0.4s\n",
            "[CV] END gamma=1.0, learning_rate=0.1, max_depth=3, reg_lambda=20, scale_pos_weight=3; total time=   0.3s\n",
            "[CV] END gamma=1.0, learning_rate=0.1, max_depth=3, reg_lambda=20, scale_pos_weight=3; total time=   0.2s\n",
            "[CV] END gamma=1.0, learning_rate=0.1, max_depth=3, reg_lambda=20, scale_pos_weight=5; total time=   0.2s\n",
            "[CV] END gamma=1.0, learning_rate=0.1, max_depth=3, reg_lambda=20, scale_pos_weight=5; total time=   0.3s\n",
            "[CV] END gamma=1.0, learning_rate=0.1, max_depth=3, reg_lambda=20, scale_pos_weight=5; total time=   0.2s\n",
            "[CV] END gamma=1.0, learning_rate=0.1, max_depth=4, reg_lambda=1, scale_pos_weight=1; total time=   0.2s\n",
            "[CV] END gamma=1.0, learning_rate=0.1, max_depth=4, reg_lambda=1, scale_pos_weight=1; total time=   0.2s\n",
            "[CV] END gamma=1.0, learning_rate=0.1, max_depth=4, reg_lambda=1, scale_pos_weight=1; total time=   0.2s\n",
            "[CV] END gamma=1.0, learning_rate=0.1, max_depth=4, reg_lambda=1, scale_pos_weight=3; total time=   0.2s\n",
            "[CV] END gamma=1.0, learning_rate=0.1, max_depth=4, reg_lambda=1, scale_pos_weight=3; total time=   0.2s\n",
            "[CV] END gamma=1.0, learning_rate=0.1, max_depth=4, reg_lambda=1, scale_pos_weight=3; total time=   0.2s\n",
            "[CV] END gamma=1.0, learning_rate=0.1, max_depth=4, reg_lambda=1, scale_pos_weight=5; total time=   0.2s\n",
            "[CV] END gamma=1.0, learning_rate=0.1, max_depth=4, reg_lambda=1, scale_pos_weight=5; total time=   0.2s\n",
            "[CV] END gamma=1.0, learning_rate=0.1, max_depth=4, reg_lambda=1, scale_pos_weight=5; total time=   0.2s\n",
            "[CV] END gamma=1.0, learning_rate=0.1, max_depth=4, reg_lambda=10, scale_pos_weight=1; total time=   0.3s\n",
            "[CV] END gamma=1.0, learning_rate=0.1, max_depth=4, reg_lambda=10, scale_pos_weight=1; total time=   0.2s\n",
            "[CV] END gamma=1.0, learning_rate=0.1, max_depth=4, reg_lambda=10, scale_pos_weight=1; total time=   0.3s\n",
            "[CV] END gamma=1.0, learning_rate=0.1, max_depth=4, reg_lambda=10, scale_pos_weight=3; total time=   0.2s\n",
            "[CV] END gamma=1.0, learning_rate=0.1, max_depth=4, reg_lambda=10, scale_pos_weight=3; total time=   0.2s\n",
            "[CV] END gamma=1.0, learning_rate=0.1, max_depth=4, reg_lambda=10, scale_pos_weight=3; total time=   0.2s\n",
            "[CV] END gamma=1.0, learning_rate=0.1, max_depth=4, reg_lambda=10, scale_pos_weight=5; total time=   0.2s\n",
            "[CV] END gamma=1.0, learning_rate=0.1, max_depth=4, reg_lambda=10, scale_pos_weight=5; total time=   0.2s\n",
            "[CV] END gamma=1.0, learning_rate=0.1, max_depth=4, reg_lambda=10, scale_pos_weight=5; total time=   0.2s\n",
            "[CV] END gamma=1.0, learning_rate=0.1, max_depth=4, reg_lambda=20, scale_pos_weight=1; total time=   0.2s\n",
            "[CV] END gamma=1.0, learning_rate=0.1, max_depth=4, reg_lambda=20, scale_pos_weight=1; total time=   0.3s\n",
            "[CV] END gamma=1.0, learning_rate=0.1, max_depth=4, reg_lambda=20, scale_pos_weight=1; total time=   0.3s\n",
            "[CV] END gamma=1.0, learning_rate=0.1, max_depth=4, reg_lambda=20, scale_pos_weight=3; total time=   0.2s\n",
            "[CV] END gamma=1.0, learning_rate=0.1, max_depth=4, reg_lambda=20, scale_pos_weight=3; total time=   0.2s\n",
            "[CV] END gamma=1.0, learning_rate=0.1, max_depth=4, reg_lambda=20, scale_pos_weight=3; total time=   0.2s\n",
            "[CV] END gamma=1.0, learning_rate=0.1, max_depth=4, reg_lambda=20, scale_pos_weight=5; total time=   0.2s\n",
            "[CV] END gamma=1.0, learning_rate=0.1, max_depth=4, reg_lambda=20, scale_pos_weight=5; total time=   0.2s\n",
            "[CV] END gamma=1.0, learning_rate=0.1, max_depth=4, reg_lambda=20, scale_pos_weight=5; total time=   0.2s\n",
            "[CV] END gamma=1.0, learning_rate=0.1, max_depth=5, reg_lambda=1, scale_pos_weight=1; total time=   0.2s\n",
            "[CV] END gamma=1.0, learning_rate=0.1, max_depth=5, reg_lambda=1, scale_pos_weight=1; total time=   0.1s\n",
            "[CV] END gamma=1.0, learning_rate=0.1, max_depth=5, reg_lambda=1, scale_pos_weight=1; total time=   0.2s\n",
            "[CV] END gamma=1.0, learning_rate=0.1, max_depth=5, reg_lambda=1, scale_pos_weight=3; total time=   0.2s\n",
            "[CV] END gamma=1.0, learning_rate=0.1, max_depth=5, reg_lambda=1, scale_pos_weight=3; total time=   0.1s\n",
            "[CV] END gamma=1.0, learning_rate=0.1, max_depth=5, reg_lambda=1, scale_pos_weight=3; total time=   0.2s\n",
            "[CV] END gamma=1.0, learning_rate=0.1, max_depth=5, reg_lambda=1, scale_pos_weight=5; total time=   0.2s\n",
            "[CV] END gamma=1.0, learning_rate=0.1, max_depth=5, reg_lambda=1, scale_pos_weight=5; total time=   0.2s\n",
            "[CV] END gamma=1.0, learning_rate=0.1, max_depth=5, reg_lambda=1, scale_pos_weight=5; total time=   0.1s\n",
            "[CV] END gamma=1.0, learning_rate=0.1, max_depth=5, reg_lambda=10, scale_pos_weight=1; total time=   0.3s\n",
            "[CV] END gamma=1.0, learning_rate=0.1, max_depth=5, reg_lambda=10, scale_pos_weight=1; total time=   0.3s\n",
            "[CV] END gamma=1.0, learning_rate=0.1, max_depth=5, reg_lambda=10, scale_pos_weight=1; total time=   0.3s\n",
            "[CV] END gamma=1.0, learning_rate=0.1, max_depth=5, reg_lambda=10, scale_pos_weight=3; total time=   0.2s\n",
            "[CV] END gamma=1.0, learning_rate=0.1, max_depth=5, reg_lambda=10, scale_pos_weight=3; total time=   0.1s\n",
            "[CV] END gamma=1.0, learning_rate=0.1, max_depth=5, reg_lambda=10, scale_pos_weight=3; total time=   0.2s\n",
            "[CV] END gamma=1.0, learning_rate=0.1, max_depth=5, reg_lambda=10, scale_pos_weight=5; total time=   0.2s\n",
            "[CV] END gamma=1.0, learning_rate=0.1, max_depth=5, reg_lambda=10, scale_pos_weight=5; total time=   0.1s\n",
            "[CV] END gamma=1.0, learning_rate=0.1, max_depth=5, reg_lambda=10, scale_pos_weight=5; total time=   0.2s\n",
            "[CV] END gamma=1.0, learning_rate=0.1, max_depth=5, reg_lambda=20, scale_pos_weight=1; total time=   0.3s\n",
            "[CV] END gamma=1.0, learning_rate=0.1, max_depth=5, reg_lambda=20, scale_pos_weight=1; total time=   0.3s\n",
            "[CV] END gamma=1.0, learning_rate=0.1, max_depth=5, reg_lambda=20, scale_pos_weight=1; total time=   0.3s\n",
            "[CV] END gamma=1.0, learning_rate=0.1, max_depth=5, reg_lambda=20, scale_pos_weight=3; total time=   0.3s\n",
            "[CV] END gamma=1.0, learning_rate=0.1, max_depth=5, reg_lambda=20, scale_pos_weight=3; total time=   0.3s\n",
            "[CV] END gamma=1.0, learning_rate=0.1, max_depth=5, reg_lambda=20, scale_pos_weight=3; total time=   0.2s\n",
            "[CV] END gamma=1.0, learning_rate=0.1, max_depth=5, reg_lambda=20, scale_pos_weight=5; total time=   0.2s\n",
            "[CV] END gamma=1.0, learning_rate=0.1, max_depth=5, reg_lambda=20, scale_pos_weight=5; total time=   0.2s\n",
            "[CV] END gamma=1.0, learning_rate=0.1, max_depth=5, reg_lambda=20, scale_pos_weight=5; total time=   0.3s\n",
            "[CV] END gamma=1.0, learning_rate=0.5, max_depth=3, reg_lambda=1, scale_pos_weight=1; total time=   0.1s\n",
            "[CV] END gamma=1.0, learning_rate=0.5, max_depth=3, reg_lambda=1, scale_pos_weight=1; total time=   0.1s\n",
            "[CV] END gamma=1.0, learning_rate=0.5, max_depth=3, reg_lambda=1, scale_pos_weight=1; total time=   0.1s\n",
            "[CV] END gamma=1.0, learning_rate=0.5, max_depth=3, reg_lambda=1, scale_pos_weight=3; total time=   0.1s\n",
            "[CV] END gamma=1.0, learning_rate=0.5, max_depth=3, reg_lambda=1, scale_pos_weight=3; total time=   0.1s\n",
            "[CV] END gamma=1.0, learning_rate=0.5, max_depth=3, reg_lambda=1, scale_pos_weight=3; total time=   0.1s\n",
            "[CV] END gamma=1.0, learning_rate=0.5, max_depth=3, reg_lambda=1, scale_pos_weight=5; total time=   0.1s\n",
            "[CV] END gamma=1.0, learning_rate=0.5, max_depth=3, reg_lambda=1, scale_pos_weight=5; total time=   0.1s\n",
            "[CV] END gamma=1.0, learning_rate=0.5, max_depth=3, reg_lambda=1, scale_pos_weight=5; total time=   0.1s\n",
            "[CV] END gamma=1.0, learning_rate=0.5, max_depth=3, reg_lambda=10, scale_pos_weight=1; total time=   0.1s\n",
            "[CV] END gamma=1.0, learning_rate=0.5, max_depth=3, reg_lambda=10, scale_pos_weight=1; total time=   0.1s\n",
            "[CV] END gamma=1.0, learning_rate=0.5, max_depth=3, reg_lambda=10, scale_pos_weight=1; total time=   0.1s\n",
            "[CV] END gamma=1.0, learning_rate=0.5, max_depth=3, reg_lambda=10, scale_pos_weight=3; total time=   0.1s\n",
            "[CV] END gamma=1.0, learning_rate=0.5, max_depth=3, reg_lambda=10, scale_pos_weight=3; total time=   0.1s\n",
            "[CV] END gamma=1.0, learning_rate=0.5, max_depth=3, reg_lambda=10, scale_pos_weight=3; total time=   0.1s\n",
            "[CV] END gamma=1.0, learning_rate=0.5, max_depth=3, reg_lambda=10, scale_pos_weight=5; total time=   0.1s\n",
            "[CV] END gamma=1.0, learning_rate=0.5, max_depth=3, reg_lambda=10, scale_pos_weight=5; total time=   0.1s\n",
            "[CV] END gamma=1.0, learning_rate=0.5, max_depth=3, reg_lambda=10, scale_pos_weight=5; total time=   0.1s\n",
            "[CV] END gamma=1.0, learning_rate=0.5, max_depth=3, reg_lambda=20, scale_pos_weight=1; total time=   0.1s\n",
            "[CV] END gamma=1.0, learning_rate=0.5, max_depth=3, reg_lambda=20, scale_pos_weight=1; total time=   0.1s\n",
            "[CV] END gamma=1.0, learning_rate=0.5, max_depth=3, reg_lambda=20, scale_pos_weight=1; total time=   0.1s\n",
            "[CV] END gamma=1.0, learning_rate=0.5, max_depth=3, reg_lambda=20, scale_pos_weight=3; total time=   0.1s\n",
            "[CV] END gamma=1.0, learning_rate=0.5, max_depth=3, reg_lambda=20, scale_pos_weight=3; total time=   0.1s\n",
            "[CV] END gamma=1.0, learning_rate=0.5, max_depth=3, reg_lambda=20, scale_pos_weight=3; total time=   0.1s\n",
            "[CV] END gamma=1.0, learning_rate=0.5, max_depth=3, reg_lambda=20, scale_pos_weight=5; total time=   0.1s\n",
            "[CV] END gamma=1.0, learning_rate=0.5, max_depth=3, reg_lambda=20, scale_pos_weight=5; total time=   0.1s\n",
            "[CV] END gamma=1.0, learning_rate=0.5, max_depth=3, reg_lambda=20, scale_pos_weight=5; total time=   0.1s\n",
            "[CV] END gamma=1.0, learning_rate=0.5, max_depth=4, reg_lambda=1, scale_pos_weight=1; total time=   0.1s\n",
            "[CV] END gamma=1.0, learning_rate=0.5, max_depth=4, reg_lambda=1, scale_pos_weight=1; total time=   0.1s\n",
            "[CV] END gamma=1.0, learning_rate=0.5, max_depth=4, reg_lambda=1, scale_pos_weight=1; total time=   0.1s\n",
            "[CV] END gamma=1.0, learning_rate=0.5, max_depth=4, reg_lambda=1, scale_pos_weight=3; total time=   0.1s\n",
            "[CV] END gamma=1.0, learning_rate=0.5, max_depth=4, reg_lambda=1, scale_pos_weight=3; total time=   0.1s\n",
            "[CV] END gamma=1.0, learning_rate=0.5, max_depth=4, reg_lambda=1, scale_pos_weight=3; total time=   0.1s\n",
            "[CV] END gamma=1.0, learning_rate=0.5, max_depth=4, reg_lambda=1, scale_pos_weight=5; total time=   0.1s\n",
            "[CV] END gamma=1.0, learning_rate=0.5, max_depth=4, reg_lambda=1, scale_pos_weight=5; total time=   0.1s\n",
            "[CV] END gamma=1.0, learning_rate=0.5, max_depth=4, reg_lambda=1, scale_pos_weight=5; total time=   0.1s\n",
            "[CV] END gamma=1.0, learning_rate=0.5, max_depth=4, reg_lambda=10, scale_pos_weight=1; total time=   0.1s\n",
            "[CV] END gamma=1.0, learning_rate=0.5, max_depth=4, reg_lambda=10, scale_pos_weight=1; total time=   0.1s\n",
            "[CV] END gamma=1.0, learning_rate=0.5, max_depth=4, reg_lambda=10, scale_pos_weight=1; total time=   0.1s\n",
            "[CV] END gamma=1.0, learning_rate=0.5, max_depth=4, reg_lambda=10, scale_pos_weight=3; total time=   0.1s\n",
            "[CV] END gamma=1.0, learning_rate=0.5, max_depth=4, reg_lambda=10, scale_pos_weight=3; total time=   0.1s\n",
            "[CV] END gamma=1.0, learning_rate=0.5, max_depth=4, reg_lambda=10, scale_pos_weight=3; total time=   0.1s\n",
            "[CV] END gamma=1.0, learning_rate=0.5, max_depth=4, reg_lambda=10, scale_pos_weight=5; total time=   0.1s\n",
            "[CV] END gamma=1.0, learning_rate=0.5, max_depth=4, reg_lambda=10, scale_pos_weight=5; total time=   0.1s\n",
            "[CV] END gamma=1.0, learning_rate=0.5, max_depth=4, reg_lambda=10, scale_pos_weight=5; total time=   0.1s\n",
            "[CV] END gamma=1.0, learning_rate=0.5, max_depth=4, reg_lambda=20, scale_pos_weight=1; total time=   0.1s\n",
            "[CV] END gamma=1.0, learning_rate=0.5, max_depth=4, reg_lambda=20, scale_pos_weight=1; total time=   0.1s\n",
            "[CV] END gamma=1.0, learning_rate=0.5, max_depth=4, reg_lambda=20, scale_pos_weight=1; total time=   0.1s\n",
            "[CV] END gamma=1.0, learning_rate=0.5, max_depth=4, reg_lambda=20, scale_pos_weight=3; total time=   0.1s\n",
            "[CV] END gamma=1.0, learning_rate=0.5, max_depth=4, reg_lambda=20, scale_pos_weight=3; total time=   0.1s\n",
            "[CV] END gamma=1.0, learning_rate=0.5, max_depth=4, reg_lambda=20, scale_pos_weight=3; total time=   0.1s\n",
            "[CV] END gamma=1.0, learning_rate=0.5, max_depth=4, reg_lambda=20, scale_pos_weight=5; total time=   0.1s\n",
            "[CV] END gamma=1.0, learning_rate=0.5, max_depth=4, reg_lambda=20, scale_pos_weight=5; total time=   0.1s\n",
            "[CV] END gamma=1.0, learning_rate=0.5, max_depth=4, reg_lambda=20, scale_pos_weight=5; total time=   0.1s\n",
            "[CV] END gamma=1.0, learning_rate=0.5, max_depth=5, reg_lambda=1, scale_pos_weight=1; total time=   0.1s\n",
            "[CV] END gamma=1.0, learning_rate=0.5, max_depth=5, reg_lambda=1, scale_pos_weight=1; total time=   0.1s\n",
            "[CV] END gamma=1.0, learning_rate=0.5, max_depth=5, reg_lambda=1, scale_pos_weight=1; total time=   0.1s\n",
            "[CV] END gamma=1.0, learning_rate=0.5, max_depth=5, reg_lambda=1, scale_pos_weight=3; total time=   0.1s\n",
            "[CV] END gamma=1.0, learning_rate=0.5, max_depth=5, reg_lambda=1, scale_pos_weight=3; total time=   0.1s\n",
            "[CV] END gamma=1.0, learning_rate=0.5, max_depth=5, reg_lambda=1, scale_pos_weight=3; total time=   0.1s\n",
            "[CV] END gamma=1.0, learning_rate=0.5, max_depth=5, reg_lambda=1, scale_pos_weight=5; total time=   0.1s\n",
            "[CV] END gamma=1.0, learning_rate=0.5, max_depth=5, reg_lambda=1, scale_pos_weight=5; total time=   0.1s\n",
            "[CV] END gamma=1.0, learning_rate=0.5, max_depth=5, reg_lambda=1, scale_pos_weight=5; total time=   0.1s\n",
            "[CV] END gamma=1.0, learning_rate=0.5, max_depth=5, reg_lambda=10, scale_pos_weight=1; total time=   0.1s\n",
            "[CV] END gamma=1.0, learning_rate=0.5, max_depth=5, reg_lambda=10, scale_pos_weight=1; total time=   0.1s\n",
            "[CV] END gamma=1.0, learning_rate=0.5, max_depth=5, reg_lambda=10, scale_pos_weight=1; total time=   0.1s\n",
            "[CV] END gamma=1.0, learning_rate=0.5, max_depth=5, reg_lambda=10, scale_pos_weight=3; total time=   0.1s\n",
            "[CV] END gamma=1.0, learning_rate=0.5, max_depth=5, reg_lambda=10, scale_pos_weight=3; total time=   0.1s\n",
            "[CV] END gamma=1.0, learning_rate=0.5, max_depth=5, reg_lambda=10, scale_pos_weight=3; total time=   0.1s\n",
            "[CV] END gamma=1.0, learning_rate=0.5, max_depth=5, reg_lambda=10, scale_pos_weight=5; total time=   0.1s\n",
            "[CV] END gamma=1.0, learning_rate=0.5, max_depth=5, reg_lambda=10, scale_pos_weight=5; total time=   0.1s\n",
            "[CV] END gamma=1.0, learning_rate=0.5, max_depth=5, reg_lambda=10, scale_pos_weight=5; total time=   0.1s\n",
            "[CV] END gamma=1.0, learning_rate=0.5, max_depth=5, reg_lambda=20, scale_pos_weight=1; total time=   0.1s\n",
            "[CV] END gamma=1.0, learning_rate=0.5, max_depth=5, reg_lambda=20, scale_pos_weight=1; total time=   0.1s\n",
            "[CV] END gamma=1.0, learning_rate=0.5, max_depth=5, reg_lambda=20, scale_pos_weight=1; total time=   0.2s\n",
            "[CV] END gamma=1.0, learning_rate=0.5, max_depth=5, reg_lambda=20, scale_pos_weight=3; total time=   0.1s\n",
            "[CV] END gamma=1.0, learning_rate=0.5, max_depth=5, reg_lambda=20, scale_pos_weight=3; total time=   0.1s\n",
            "[CV] END gamma=1.0, learning_rate=0.5, max_depth=5, reg_lambda=20, scale_pos_weight=3; total time=   0.1s\n",
            "[CV] END gamma=1.0, learning_rate=0.5, max_depth=5, reg_lambda=20, scale_pos_weight=5; total time=   0.1s\n",
            "[CV] END gamma=1.0, learning_rate=0.5, max_depth=5, reg_lambda=20, scale_pos_weight=5; total time=   0.1s\n",
            "[CV] END gamma=1.0, learning_rate=0.5, max_depth=5, reg_lambda=20, scale_pos_weight=5; total time=   0.1s\n",
            "[CV] END gamma=1.0, learning_rate=1.0, max_depth=3, reg_lambda=1, scale_pos_weight=1; total time=   0.1s\n",
            "[CV] END gamma=1.0, learning_rate=1.0, max_depth=3, reg_lambda=1, scale_pos_weight=1; total time=   0.1s\n",
            "[CV] END gamma=1.0, learning_rate=1.0, max_depth=3, reg_lambda=1, scale_pos_weight=1; total time=   0.1s\n",
            "[CV] END gamma=1.0, learning_rate=1.0, max_depth=3, reg_lambda=1, scale_pos_weight=3; total time=   0.1s\n",
            "[CV] END gamma=1.0, learning_rate=1.0, max_depth=3, reg_lambda=1, scale_pos_weight=3; total time=   0.1s\n",
            "[CV] END gamma=1.0, learning_rate=1.0, max_depth=3, reg_lambda=1, scale_pos_weight=3; total time=   0.1s\n",
            "[CV] END gamma=1.0, learning_rate=1.0, max_depth=3, reg_lambda=1, scale_pos_weight=5; total time=   0.1s\n",
            "[CV] END gamma=1.0, learning_rate=1.0, max_depth=3, reg_lambda=1, scale_pos_weight=5; total time=   0.1s\n",
            "[CV] END gamma=1.0, learning_rate=1.0, max_depth=3, reg_lambda=1, scale_pos_weight=5; total time=   0.1s\n",
            "[CV] END gamma=1.0, learning_rate=1.0, max_depth=3, reg_lambda=10, scale_pos_weight=1; total time=   0.1s\n",
            "[CV] END gamma=1.0, learning_rate=1.0, max_depth=3, reg_lambda=10, scale_pos_weight=1; total time=   0.1s\n",
            "[CV] END gamma=1.0, learning_rate=1.0, max_depth=3, reg_lambda=10, scale_pos_weight=1; total time=   0.1s\n",
            "[CV] END gamma=1.0, learning_rate=1.0, max_depth=3, reg_lambda=10, scale_pos_weight=3; total time=   0.1s\n",
            "[CV] END gamma=1.0, learning_rate=1.0, max_depth=3, reg_lambda=10, scale_pos_weight=3; total time=   0.1s\n",
            "[CV] END gamma=1.0, learning_rate=1.0, max_depth=3, reg_lambda=10, scale_pos_weight=3; total time=   0.1s\n",
            "[CV] END gamma=1.0, learning_rate=1.0, max_depth=3, reg_lambda=10, scale_pos_weight=5; total time=   0.1s\n",
            "[CV] END gamma=1.0, learning_rate=1.0, max_depth=3, reg_lambda=10, scale_pos_weight=5; total time=   0.1s\n",
            "[CV] END gamma=1.0, learning_rate=1.0, max_depth=3, reg_lambda=10, scale_pos_weight=5; total time=   0.1s\n",
            "[CV] END gamma=1.0, learning_rate=1.0, max_depth=3, reg_lambda=20, scale_pos_weight=1; total time=   0.1s\n",
            "[CV] END gamma=1.0, learning_rate=1.0, max_depth=3, reg_lambda=20, scale_pos_weight=1; total time=   0.1s\n",
            "[CV] END gamma=1.0, learning_rate=1.0, max_depth=3, reg_lambda=20, scale_pos_weight=1; total time=   0.1s\n",
            "[CV] END gamma=1.0, learning_rate=1.0, max_depth=3, reg_lambda=20, scale_pos_weight=3; total time=   0.1s\n",
            "[CV] END gamma=1.0, learning_rate=1.0, max_depth=3, reg_lambda=20, scale_pos_weight=3; total time=   0.1s\n",
            "[CV] END gamma=1.0, learning_rate=1.0, max_depth=3, reg_lambda=20, scale_pos_weight=3; total time=   0.1s\n",
            "[CV] END gamma=1.0, learning_rate=1.0, max_depth=3, reg_lambda=20, scale_pos_weight=5; total time=   0.1s\n",
            "[CV] END gamma=1.0, learning_rate=1.0, max_depth=3, reg_lambda=20, scale_pos_weight=5; total time=   0.1s\n",
            "[CV] END gamma=1.0, learning_rate=1.0, max_depth=3, reg_lambda=20, scale_pos_weight=5; total time=   0.1s\n",
            "[CV] END gamma=1.0, learning_rate=1.0, max_depth=4, reg_lambda=1, scale_pos_weight=1; total time=   0.1s\n",
            "[CV] END gamma=1.0, learning_rate=1.0, max_depth=4, reg_lambda=1, scale_pos_weight=1; total time=   0.1s\n",
            "[CV] END gamma=1.0, learning_rate=1.0, max_depth=4, reg_lambda=1, scale_pos_weight=1; total time=   0.1s\n",
            "[CV] END gamma=1.0, learning_rate=1.0, max_depth=4, reg_lambda=1, scale_pos_weight=3; total time=   0.1s\n",
            "[CV] END gamma=1.0, learning_rate=1.0, max_depth=4, reg_lambda=1, scale_pos_weight=3; total time=   0.1s\n",
            "[CV] END gamma=1.0, learning_rate=1.0, max_depth=4, reg_lambda=1, scale_pos_weight=3; total time=   0.1s\n",
            "[CV] END gamma=1.0, learning_rate=1.0, max_depth=4, reg_lambda=1, scale_pos_weight=5; total time=   0.1s\n",
            "[CV] END gamma=1.0, learning_rate=1.0, max_depth=4, reg_lambda=1, scale_pos_weight=5; total time=   0.1s\n",
            "[CV] END gamma=1.0, learning_rate=1.0, max_depth=4, reg_lambda=1, scale_pos_weight=5; total time=   0.1s\n",
            "[CV] END gamma=1.0, learning_rate=1.0, max_depth=4, reg_lambda=10, scale_pos_weight=1; total time=   0.1s\n",
            "[CV] END gamma=1.0, learning_rate=1.0, max_depth=4, reg_lambda=10, scale_pos_weight=1; total time=   0.1s\n",
            "[CV] END gamma=1.0, learning_rate=1.0, max_depth=4, reg_lambda=10, scale_pos_weight=1; total time=   0.1s\n",
            "[CV] END gamma=1.0, learning_rate=1.0, max_depth=4, reg_lambda=10, scale_pos_weight=3; total time=   0.1s\n",
            "[CV] END gamma=1.0, learning_rate=1.0, max_depth=4, reg_lambda=10, scale_pos_weight=3; total time=   0.1s\n",
            "[CV] END gamma=1.0, learning_rate=1.0, max_depth=4, reg_lambda=10, scale_pos_weight=3; total time=   0.1s\n",
            "[CV] END gamma=1.0, learning_rate=1.0, max_depth=4, reg_lambda=10, scale_pos_weight=5; total time=   0.1s\n",
            "[CV] END gamma=1.0, learning_rate=1.0, max_depth=4, reg_lambda=10, scale_pos_weight=5; total time=   0.1s\n",
            "[CV] END gamma=1.0, learning_rate=1.0, max_depth=4, reg_lambda=10, scale_pos_weight=5; total time=   0.1s\n",
            "[CV] END gamma=1.0, learning_rate=1.0, max_depth=4, reg_lambda=20, scale_pos_weight=1; total time=   0.1s\n",
            "[CV] END gamma=1.0, learning_rate=1.0, max_depth=4, reg_lambda=20, scale_pos_weight=1; total time=   0.1s\n",
            "[CV] END gamma=1.0, learning_rate=1.0, max_depth=4, reg_lambda=20, scale_pos_weight=1; total time=   0.1s\n",
            "[CV] END gamma=1.0, learning_rate=1.0, max_depth=4, reg_lambda=20, scale_pos_weight=3; total time=   0.1s\n",
            "[CV] END gamma=1.0, learning_rate=1.0, max_depth=4, reg_lambda=20, scale_pos_weight=3; total time=   0.1s\n",
            "[CV] END gamma=1.0, learning_rate=1.0, max_depth=4, reg_lambda=20, scale_pos_weight=3; total time=   0.1s\n",
            "[CV] END gamma=1.0, learning_rate=1.0, max_depth=4, reg_lambda=20, scale_pos_weight=5; total time=   0.1s\n",
            "[CV] END gamma=1.0, learning_rate=1.0, max_depth=4, reg_lambda=20, scale_pos_weight=5; total time=   0.1s\n",
            "[CV] END gamma=1.0, learning_rate=1.0, max_depth=4, reg_lambda=20, scale_pos_weight=5; total time=   0.1s\n",
            "[CV] END gamma=1.0, learning_rate=1.0, max_depth=5, reg_lambda=1, scale_pos_weight=1; total time=   0.1s\n",
            "[CV] END gamma=1.0, learning_rate=1.0, max_depth=5, reg_lambda=1, scale_pos_weight=1; total time=   0.1s\n",
            "[CV] END gamma=1.0, learning_rate=1.0, max_depth=5, reg_lambda=1, scale_pos_weight=1; total time=   0.1s\n",
            "[CV] END gamma=1.0, learning_rate=1.0, max_depth=5, reg_lambda=1, scale_pos_weight=3; total time=   0.1s\n",
            "[CV] END gamma=1.0, learning_rate=1.0, max_depth=5, reg_lambda=1, scale_pos_weight=3; total time=   0.1s\n",
            "[CV] END gamma=1.0, learning_rate=1.0, max_depth=5, reg_lambda=1, scale_pos_weight=3; total time=   0.1s\n",
            "[CV] END gamma=1.0, learning_rate=1.0, max_depth=5, reg_lambda=1, scale_pos_weight=5; total time=   0.1s\n",
            "[CV] END gamma=1.0, learning_rate=1.0, max_depth=5, reg_lambda=1, scale_pos_weight=5; total time=   0.1s\n",
            "[CV] END gamma=1.0, learning_rate=1.0, max_depth=5, reg_lambda=1, scale_pos_weight=5; total time=   0.1s\n",
            "[CV] END gamma=1.0, learning_rate=1.0, max_depth=5, reg_lambda=10, scale_pos_weight=1; total time=   0.1s\n",
            "[CV] END gamma=1.0, learning_rate=1.0, max_depth=5, reg_lambda=10, scale_pos_weight=1; total time=   0.1s\n",
            "[CV] END gamma=1.0, learning_rate=1.0, max_depth=5, reg_lambda=10, scale_pos_weight=1; total time=   0.1s\n",
            "[CV] END gamma=1.0, learning_rate=1.0, max_depth=5, reg_lambda=10, scale_pos_weight=3; total time=   0.1s\n",
            "[CV] END gamma=1.0, learning_rate=1.0, max_depth=5, reg_lambda=10, scale_pos_weight=3; total time=   0.1s\n",
            "[CV] END gamma=1.0, learning_rate=1.0, max_depth=5, reg_lambda=10, scale_pos_weight=3; total time=   0.1s\n",
            "[CV] END gamma=1.0, learning_rate=1.0, max_depth=5, reg_lambda=10, scale_pos_weight=5; total time=   0.1s\n",
            "[CV] END gamma=1.0, learning_rate=1.0, max_depth=5, reg_lambda=10, scale_pos_weight=5; total time=   0.1s\n",
            "[CV] END gamma=1.0, learning_rate=1.0, max_depth=5, reg_lambda=10, scale_pos_weight=5; total time=   0.1s\n",
            "[CV] END gamma=1.0, learning_rate=1.0, max_depth=5, reg_lambda=20, scale_pos_weight=1; total time=   0.1s\n",
            "[CV] END gamma=1.0, learning_rate=1.0, max_depth=5, reg_lambda=20, scale_pos_weight=1; total time=   0.1s\n",
            "[CV] END gamma=1.0, learning_rate=1.0, max_depth=5, reg_lambda=20, scale_pos_weight=1; total time=   0.1s\n",
            "[CV] END gamma=1.0, learning_rate=1.0, max_depth=5, reg_lambda=20, scale_pos_weight=3; total time=   0.1s\n",
            "[CV] END gamma=1.0, learning_rate=1.0, max_depth=5, reg_lambda=20, scale_pos_weight=3; total time=   0.1s\n",
            "[CV] END gamma=1.0, learning_rate=1.0, max_depth=5, reg_lambda=20, scale_pos_weight=3; total time=   0.1s\n",
            "[CV] END gamma=1.0, learning_rate=1.0, max_depth=5, reg_lambda=20, scale_pos_weight=5; total time=   0.1s\n",
            "[CV] END gamma=1.0, learning_rate=1.0, max_depth=5, reg_lambda=20, scale_pos_weight=5; total time=   0.1s\n",
            "[CV] END gamma=1.0, learning_rate=1.0, max_depth=5, reg_lambda=20, scale_pos_weight=5; total time=   0.1s\n"
          ]
        },
        {
          "output_type": "execute_result",
          "data": {
            "text/plain": [
              "GridSearchCV(cv=3,\n",
              "             estimator=XGBClassifier(colsample_bytree=0.5, seed=42,\n",
              "                                     subsample=0.9, use_label_encoder=False),\n",
              "             param_grid={'gamma': [0, 0.25, 1.0],\n",
              "                         'learning_rate': [0.1, 0.5, 1.0],\n",
              "                         'max_depth': [3, 4, 5], 'reg_lambda': [1, 10, 20],\n",
              "                         'scale_pos_weight': [1, 3, 5]},\n",
              "             scoring='roc_auc', verbose=2)"
            ]
          },
          "metadata": {},
          "execution_count": 39
        }
      ]
    },
    {
      "cell_type": "code",
      "source": [
        "# Printing the best parameter\n",
        "print(optimal_param.best_params_)"
      ],
      "metadata": {
        "colab": {
          "base_uri": "https://localhost:8080/"
        },
        "id": "3OOlo9lpbTsi",
        "outputId": "e549beb3-5179-4eaf-b471-50aa6c5774ce"
      },
      "execution_count": 40,
      "outputs": [
        {
          "output_type": "stream",
          "name": "stdout",
          "text": [
            "{'gamma': 0.25, 'learning_rate': 0.1, 'max_depth': 3, 'reg_lambda': 20, 'scale_pos_weight': 5}\n"
          ]
        }
      ]
    },
    {
      "cell_type": "code",
      "source": [
        "# After getting the best parameter, now we will biuld the final classifier model\n",
        "clf_classifier= xgb.XGBClassifier(objective='binary:logistic',\n",
        "                                  gamma=1.0,\n",
        "                                  learning_rate=0.1,\n",
        "                                  max_depth=3,\n",
        "                                  reg_lambda=20,\n",
        "                                  scale_pos_weight=5,\n",
        "                                  subsample=0.9, \n",
        "                                  colsample_bytree=0.50,\n",
        "                                  use_label_encoder=False)"
      ],
      "metadata": {
        "id": "nGPbq4kIbkNw"
      },
      "execution_count": 41,
      "outputs": []
    },
    {
      "cell_type": "code",
      "source": [
        "# fitting the model\n",
        "clf_classifier.fit(X_train,y_train,early_stopping_rounds=10,eval_metric='aucpr',eval_set=[(X_test,y_test)])"
      ],
      "metadata": {
        "colab": {
          "base_uri": "https://localhost:8080/"
        },
        "id": "pZ9VjcJRbot6",
        "outputId": "d3fbaa79-6fb5-4ae9-cf44-5e4e2cdfab7e"
      },
      "execution_count": 42,
      "outputs": [
        {
          "output_type": "stream",
          "name": "stdout",
          "text": [
            "[0]\tvalidation_0-aucpr:0.51443\n",
            "Will train until validation_0-aucpr hasn't improved in 10 rounds.\n",
            "[1]\tvalidation_0-aucpr:0.55669\n",
            "[2]\tvalidation_0-aucpr:0.577612\n",
            "[3]\tvalidation_0-aucpr:0.598648\n",
            "[4]\tvalidation_0-aucpr:0.593663\n",
            "[5]\tvalidation_0-aucpr:0.600018\n",
            "[6]\tvalidation_0-aucpr:0.601739\n",
            "[7]\tvalidation_0-aucpr:0.600512\n",
            "[8]\tvalidation_0-aucpr:0.600145\n",
            "[9]\tvalidation_0-aucpr:0.614348\n",
            "[10]\tvalidation_0-aucpr:0.616529\n",
            "[11]\tvalidation_0-aucpr:0.616843\n",
            "[12]\tvalidation_0-aucpr:0.615686\n",
            "[13]\tvalidation_0-aucpr:0.611474\n",
            "[14]\tvalidation_0-aucpr:0.61706\n",
            "[15]\tvalidation_0-aucpr:0.619247\n",
            "[16]\tvalidation_0-aucpr:0.623372\n",
            "[17]\tvalidation_0-aucpr:0.630745\n",
            "[18]\tvalidation_0-aucpr:0.630952\n",
            "[19]\tvalidation_0-aucpr:0.632753\n",
            "[20]\tvalidation_0-aucpr:0.634148\n",
            "[21]\tvalidation_0-aucpr:0.634445\n",
            "[22]\tvalidation_0-aucpr:0.633597\n",
            "[23]\tvalidation_0-aucpr:0.633729\n",
            "[24]\tvalidation_0-aucpr:0.636512\n",
            "[25]\tvalidation_0-aucpr:0.635721\n",
            "[26]\tvalidation_0-aucpr:0.632004\n",
            "[27]\tvalidation_0-aucpr:0.633945\n",
            "[28]\tvalidation_0-aucpr:0.637978\n",
            "[29]\tvalidation_0-aucpr:0.636461\n",
            "[30]\tvalidation_0-aucpr:0.637471\n",
            "[31]\tvalidation_0-aucpr:0.64316\n",
            "[32]\tvalidation_0-aucpr:0.642428\n",
            "[33]\tvalidation_0-aucpr:0.642979\n",
            "[34]\tvalidation_0-aucpr:0.644529\n",
            "[35]\tvalidation_0-aucpr:0.643282\n",
            "[36]\tvalidation_0-aucpr:0.644147\n",
            "[37]\tvalidation_0-aucpr:0.644043\n",
            "[38]\tvalidation_0-aucpr:0.643073\n",
            "[39]\tvalidation_0-aucpr:0.642555\n",
            "[40]\tvalidation_0-aucpr:0.642867\n",
            "[41]\tvalidation_0-aucpr:0.642429\n",
            "[42]\tvalidation_0-aucpr:0.640958\n",
            "[43]\tvalidation_0-aucpr:0.641668\n",
            "[44]\tvalidation_0-aucpr:0.641681\n",
            "Stopping. Best iteration:\n",
            "[34]\tvalidation_0-aucpr:0.644529\n",
            "\n"
          ]
        },
        {
          "output_type": "execute_result",
          "data": {
            "text/plain": [
              "XGBClassifier(colsample_bytree=0.5, gamma=1.0, reg_lambda=20,\n",
              "              scale_pos_weight=5, subsample=0.9, use_label_encoder=False)"
            ]
          },
          "metadata": {},
          "execution_count": 42
        }
      ]
    },
    {
      "cell_type": "code",
      "source": [
        "# Predicting the model\n",
        "y_pred= clf_classifier.predict(X_test)"
      ],
      "metadata": {
        "id": "pTIVBwGzbsl7"
      },
      "execution_count": 43,
      "outputs": []
    },
    {
      "cell_type": "code",
      "source": [
        "# Plotting the confusion matrics\n",
        "plot_confusion_matrix(clf_classifier,X_test,y_test,values_format='d',display_labels=['did not leave','left'])"
      ],
      "metadata": {
        "colab": {
          "base_uri": "https://localhost:8080/",
          "height": 296
        },
        "id": "uaXJ3-s1b5xw",
        "outputId": "e3b1f7a4-efb4-45e3-e2c5-3d42a7173c2d"
      },
      "execution_count": 44,
      "outputs": [
        {
          "output_type": "execute_result",
          "data": {
            "text/plain": [
              "<sklearn.metrics._plot.confusion_matrix.ConfusionMatrixDisplay at 0x7fd0830f9550>"
            ]
          },
          "metadata": {},
          "execution_count": 44
        },
        {
          "output_type": "display_data",
          "data": {
            "text/plain": [
              "<Figure size 432x288 with 2 Axes>"
            ],
            "image/png": "[encoded data removed]"
          },
          "metadata": {
            "needs_background": "light"
          }
        }
      ]
    },
    {
      "cell_type": "code",
      "source": [
        "# Priting the accuracy and the model and classification report\n",
        "print('The accuracy of the model:',roc_auc_score(y_test,y_pred))"
      ],
      "metadata": {
        "colab": {
          "base_uri": "https://localhost:8080/"
        },
        "id": "laqOrJTVcCLS",
        "outputId": "d8ac83ae-5671-443f-e0db-5d15b4fa23d7"
      },
      "execution_count": 45,
      "outputs": [
        {
          "output_type": "stream",
          "name": "stdout",
          "text": [
            "The accuracy of the model: 0.7545705411691057\n"
          ]
        }
      ]
    },
    {
      "cell_type": "code",
      "source": [
        "print(classification_report(y_test,y_pred))"
      ],
      "metadata": {
        "colab": {
          "base_uri": "https://localhost:8080/"
        },
        "id": "5lV8fhvNchuR",
        "outputId": "ff52351e-151e-4617-c543-9805b3ac7894"
      },
      "execution_count": 46,
      "outputs": [
        {
          "output_type": "stream",
          "name": "stdout",
          "text": [
            "              precision    recall  f1-score   support\n",
            "\n",
            "           0       0.95      0.60      0.74      1549\n",
            "           1       0.45      0.91      0.60       561\n",
            "\n",
            "    accuracy                           0.68      2110\n",
            "   macro avg       0.70      0.75      0.67      2110\n",
            "weighted avg       0.82      0.68      0.70      2110\n",
            "\n"
          ]
        }
      ]
    },
    {
      "cell_type": "markdown",
      "source": [
        "My own work!!!\n",
        "\n",
        "```START\n",
        "```\n",
        "\n"
      ],
      "metadata": {
        "id": "oZueUc26cz8A"
      }
    },
    {
      "cell_type": "code",
      "source": [
        "pip install tpot"
      ],
      "metadata": {
        "colab": {
          "base_uri": "https://localhost:8080/",
          "height": 780
        },
        "id": "aW2HgvjsoVFX",
        "outputId": "9800a40b-f6ad-4603-ac7a-92c3af4411b7"
      },
      "execution_count": 47,
      "outputs": [
        {
          "output_type": "stream",
          "name": "stdout",
          "text": [
            "Collecting tpot\n",
            "  Downloading TPOT-0.11.7-py3-none-any.whl (87 kB)\n",
            "\u001b[?25l\r\u001b[K     |███▊                            | 10 kB 21.7 MB/s eta 0:00:01\r\u001b[K     |███████▌                        | 20 kB 27.4 MB/s eta 0:00:01\r\u001b[K     |███████████▎                    | 30 kB 33.3 MB/s eta 0:00:01\r\u001b[K     |███████████████                 | 40 kB 14.1 MB/s eta 0:00:01\r\u001b[K     |██████████████████▉             | 51 kB 12.5 MB/s eta 0:00:01\r\u001b[K     |██████████████████████▋         | 61 kB 14.6 MB/s eta 0:00:01\r\u001b[K     |██████████████████████████▎     | 71 kB 12.5 MB/s eta 0:00:01\r\u001b[K     |██████████████████████████████  | 81 kB 13.5 MB/s eta 0:00:01\r\u001b[K     |████████████████████████████████| 87 kB 4.0 MB/s \n",
            "\u001b[?25hRequirement already satisfied: tqdm>=4.36.1 in /usr/local/lib/python3.7/dist-packages (from tpot) (4.63.0)\n",
            "Collecting deap>=1.2\n",
            "  Downloading deap-1.3.1-cp37-cp37m-manylinux_2_5_x86_64.manylinux1_x86_64.manylinux_2_12_x86_64.manylinux2010_x86_64.whl (160 kB)\n",
            "\u001b[?25l\r\u001b[K     |██                              | 10 kB 28.1 MB/s eta 0:00:01\r\u001b[K     |████                            | 20 kB 38.0 MB/s eta 0:00:01\r\u001b[K     |██████                          | 30 kB 47.0 MB/s eta 0:00:01\r\u001b[K     |████████▏                       | 40 kB 49.7 MB/s eta 0:00:01\r\u001b[K     |██████████▏                     | 51 kB 52.9 MB/s eta 0:00:01\r\u001b[K     |████████████▏                   | 61 kB 57.5 MB/s eta 0:00:01\r\u001b[K     |██████████████▎                 | 71 kB 60.0 MB/s eta 0:00:01\r\u001b[K     |████████████████▎               | 81 kB 60.9 MB/s eta 0:00:01\r\u001b[K     |██████████████████▎             | 92 kB 51.1 MB/s eta 0:00:01\r\u001b[K     |████████████████████▍           | 102 kB 48.1 MB/s eta 0:00:01\r\u001b[K     |██████████████████████▍         | 112 kB 48.1 MB/s eta 0:00:01\r\u001b[K     |████████████████████████▍       | 122 kB 48.1 MB/s eta 0:00:01\r\u001b[K     |██████████████████████████▌     | 133 kB 48.1 MB/s eta 0:00:01\r\u001b[K     |████████████████████████████▌   | 143 kB 48.1 MB/s eta 0:00:01\r\u001b[K     |██████████████████████████████▌ | 153 kB 48.1 MB/s eta 0:00:01\r\u001b[K     |████████████████████████████████| 160 kB 48.1 MB/s \n",
            "\u001b[?25hRequirement already satisfied: numpy>=1.16.3 in /usr/local/lib/python3.7/dist-packages (from tpot) (1.21.5)\n",
            "Requirement already satisfied: pandas>=0.24.2 in /usr/local/lib/python3.7/dist-packages (from tpot) (1.3.5)\n",
            "Collecting stopit>=1.1.1\n",
            "  Downloading stopit-1.1.2.tar.gz (18 kB)\n",
            "Requirement already satisfied: scipy>=1.3.1 in /usr/local/lib/python3.7/dist-packages (from tpot) (1.4.1)\n",
            "Requirement already satisfied: scikit-learn>=0.22.0 in /usr/local/lib/python3.7/dist-packages (from tpot) (1.0.2)\n",
            "Collecting update-checker>=0.16\n",
            "  Downloading update_checker-0.18.0-py3-none-any.whl (7.0 kB)\n",
            "Collecting xgboost>=1.1.0\n",
            "  Downloading xgboost-1.5.2-py3-none-manylinux2014_x86_64.whl (173.6 MB)\n",
            "\u001b[K     |████████████████████████████████| 173.6 MB 8.3 kB/s \n",
            "\u001b[?25hRequirement already satisfied: joblib>=0.13.2 in /usr/local/lib/python3.7/dist-packages (from tpot) (1.1.0)\n",
            "Requirement already satisfied: python-dateutil>=2.7.3 in /usr/local/lib/python3.7/dist-packages (from pandas>=0.24.2->tpot) (2.8.2)\n",
            "Requirement already satisfied: pytz>=2017.3 in /usr/local/lib/python3.7/dist-packages (from pandas>=0.24.2->tpot) (2018.9)\n",
            "Requirement already satisfied: six>=1.5 in /usr/local/lib/python3.7/dist-packages (from python-dateutil>=2.7.3->pandas>=0.24.2->tpot) (1.15.0)\n",
            "Requirement already satisfied: threadpoolctl>=2.0.0 in /usr/local/lib/python3.7/dist-packages (from scikit-learn>=0.22.0->tpot) (3.1.0)\n",
            "Requirement already satisfied: requests>=2.3.0 in /usr/local/lib/python3.7/dist-packages (from update-checker>=0.16->tpot) (2.23.0)\n",
            "Requirement already satisfied: chardet<4,>=3.0.2 in /usr/local/lib/python3.7/dist-packages (from requests>=2.3.0->update-checker>=0.16->tpot) (3.0.4)\n",
            "Requirement already satisfied: certifi>=2017.4.17 in /usr/local/lib/python3.7/dist-packages (from requests>=2.3.0->update-checker>=0.16->tpot) (2021.10.8)\n",
            "Requirement already satisfied: urllib3!=1.25.0,!=1.25.1,<1.26,>=1.21.1 in /usr/local/lib/python3.7/dist-packages (from requests>=2.3.0->update-checker>=0.16->tpot) (1.24.3)\n",
            "Requirement already satisfied: idna<3,>=2.5 in /usr/local/lib/python3.7/dist-packages (from requests>=2.3.0->update-checker>=0.16->tpot) (2.10)\n",
            "Building wheels for collected packages: stopit\n",
            "  Building wheel for stopit (setup.py) ... \u001b[?25l\u001b[?25hdone\n",
            "  Created wheel for stopit: filename=stopit-1.1.2-py3-none-any.whl size=11956 sha256=921ca9154851eaf9df658fbb41a7422fc8a5607cd3cfad579cc0cb539d54b333\n",
            "  Stored in directory: /root/.cache/pip/wheels/e2/d2/79/eaf81edb391e27c87f51b8ef901ecc85a5363dc96b8b8d71e3\n",
            "Successfully built stopit\n",
            "Installing collected packages: xgboost, update-checker, stopit, deap, tpot\n",
            "  Attempting uninstall: xgboost\n",
            "    Found existing installation: xgboost 0.90\n",
            "    Uninstalling xgboost-0.90:\n",
            "      Successfully uninstalled xgboost-0.90\n",
            "Successfully installed deap-1.3.1 stopit-1.1.2 tpot-0.11.7 update-checker-0.18.0 xgboost-1.5.2\n"
          ]
        },
        {
          "output_type": "display_data",
          "data": {
            "application/vnd.colab-display-data+json": {
              "pip_warning": {
                "packages": [
                  "xgboost"
                ]
              }
            }
          },
          "metadata": {}
        }
      ]
    },
    {
      "cell_type": "code",
      "source": [
        "# check tpot version\n",
        "import tpot\n",
        "print('tpot: %s' % tpot.__version__)"
      ],
      "metadata": {
        "colab": {
          "base_uri": "https://localhost:8080/"
        },
        "id": "2OFx-X0youxm",
        "outputId": "7830cc55-0a0b-48ac-f832-72a670b2f989"
      },
      "execution_count": 48,
      "outputs": [
        {
          "output_type": "stream",
          "name": "stdout",
          "text": [
            "tpot: 0.11.7\n"
          ]
        }
      ]
    },
    {
      "cell_type": "code",
      "source": [
        "# example of tpot for a classification dataset\n",
        "from sklearn.datasets import make_classification\n",
        "from sklearn.model_selection import RepeatedStratifiedKFold\n",
        "from tpot import TPOTClassifier\n",
        "# define dataset\n",
        "X, y = make_classification(n_samples=100, n_features=10, n_informative=5, n_redundant=5, random_state=1)\n",
        "# define model evaluation\n",
        "cv = RepeatedStratifiedKFold(n_splits=10, n_repeats=3, random_state=1)\n",
        "# define search\n",
        "model = TPOTClassifier(generations=5, population_size=50, cv=cv, scoring='accuracy', verbosity=2, random_state=1, n_jobs=-1)\n",
        "# perform the search\n",
        "model.fit(X, y)\n",
        "# export the best model\n",
        "model.export('tpot_best_model.py')"
      ],
      "metadata": {
        "colab": {
          "base_uri": "https://localhost:8080/",
          "height": 225,
          "referenced_widgets": [
            "2c9d453b2dae48219dc3526b62fbd4ba",
            "f361997ead0a4aeda52b17b497c29f49",
            "b11029d25f8a4700842a4f2324fabbd4",
            "c4dacc63c3b041f682048e668a0edcbf",
            "ec72d4ddb94a453d871d96fda3545b7e",
            "520f3347987f46af823bf79617eb42ce",
            "7eed6fd5284847c2bc24dd0b8b1f5e32",
            "2ad6d70fcfeb42c7be09a1040034f255",
            "369ad6d1811242298cd035c3938cd95b",
            "95beb56fbcfc4b63be3e12758a5859d0",
            "6b0bd561b98649d1b907d87c92e43429"
          ]
        },
        "id": "1ag0p3pXo7ce",
        "outputId": "c08e24a6-06fd-4ded-8616-21ac8d78d687"
      },
      "execution_count": 49,
      "outputs": [
        {
          "output_type": "display_data",
          "data": {
            "text/plain": [
              "Optimization Progress:   0%|          | 0/300 [00:00<?, ?pipeline/s]"
            ],
            "application/vnd.jupyter.widget-view+json": {
              "version_major": 2,
              "version_minor": 0,
              "model_id": "2c9d453b2dae48219dc3526b62fbd4ba"
            }
          },
          "metadata": {}
        },
        {
          "output_type": "stream",
          "name": "stdout",
          "text": [
            "\n",
            "Generation 1 - Current best internal CV score: 0.9399999999999998\n",
            "\n",
            "Generation 2 - Current best internal CV score: 0.9399999999999998\n",
            "\n",
            "Generation 3 - Current best internal CV score: 0.9399999999999998\n",
            "\n",
            "Generation 4 - Current best internal CV score: 0.9399999999999998\n",
            "\n",
            "Generation 5 - Current best internal CV score: 0.9399999999999998\n",
            "\n",
            "Best pipeline: MLPClassifier(input_matrix, alpha=0.001, learning_rate_init=0.1)\n"
          ]
        }
      ]
    },
    {
      "cell_type": "code",
      "source": [
        "import numpy as np\n",
        "import pandas as pd\n",
        "from sklearn.ensemble import GradientBoostingClassifier \n",
        "from sklearn.preprocessing import PolynomialFeatures\n",
        "import tensorflow as tf\n",
        "# Average CV score on the training set was:  0.9433333333333334\n",
        "exported_pipeline = GradientBoostingClassifier(learning_rate=0.01, max_depth=7, max_features=0.1, min_samples_leaf=9, min_samples_split=8, n_estimators=100, subsample=1.0)\n",
        "# Fix random state in exported estimator\n",
        "if hasattr(exported_pipeline, 'random_state'):\n",
        "    setattr(exported_pipeline, 'random_state', 1)\n",
        " \n",
        "exported_pipeline.fit(X_train,y_train)\n",
        "results = exported_pipeline.predict(X_test)"
      ],
      "metadata": {
        "id": "2tfCKlsNvnuR"
      },
      "execution_count": 50,
      "outputs": []
    },
    {
      "cell_type": "code",
      "source": [
        "results.shape"
      ],
      "metadata": {
        "colab": {
          "base_uri": "https://localhost:8080/"
        },
        "id": "29hb3P8t02JR",
        "outputId": "2f7e8d5c-7b50-427a-d352-648dad098859"
      },
      "execution_count": 51,
      "outputs": [
        {
          "output_type": "execute_result",
          "data": {
            "text/plain": [
              "(2110,)"
            ]
          },
          "metadata": {},
          "execution_count": 51
        }
      ]
    },
    {
      "cell_type": "code",
      "source": [
        "pip install mljar-supervised"
      ],
      "metadata": {
        "id": "ks0C6dmHq4YF"
      },
      "execution_count": null,
      "outputs": []
    },
    {
      "cell_type": "code",
      "source": [
        "from supervised.automl import AutoML"
      ],
      "metadata": {
        "id": "-08IsBZJreI8"
      },
      "execution_count": null,
      "outputs": []
    },
    {
      "cell_type": "code",
      "source": [
        "automl = AutoML(mode=\"Perform\")\n",
        "automl.fit(X_train, y_train)\n",
        "\n",
        "# compute the accuracy on test data\n",
        "predictions = automl.predict_all(X_test)\n",
        "print(predictions.head())\n",
        "print(\"Test accuracy:\", accuracy_score(y_test, predictions[\"label\"].astype(int)))"
      ],
      "metadata": {
        "id": "5IIYbcM_rw0K"
      },
      "execution_count": null,
      "outputs": []
    },
    {
      "cell_type": "code",
      "source": [
        ""
      ],
      "metadata": {
        "id": "A0XjyitcZkJy"
      },
      "execution_count": null,
      "outputs": []
    }
  ]
}